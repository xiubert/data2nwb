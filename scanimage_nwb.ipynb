{
 "cells": [
  {
   "cell_type": "markdown",
   "metadata": {},
   "source": [
    "# PC Specific ScanImage --> NWB (SCRIPT)"
   ]
  },
  {
   "cell_type": "markdown",
   "metadata": {},
   "source": [
    "## create NWB file"
   ]
  },
  {
   "cell_type": "markdown",
   "metadata": {},
   "source": [
    "### set directories"
   ]
  },
  {
   "cell_type": "code",
   "execution_count": null,
   "metadata": {},
   "outputs": [],
   "source": [
    "import os\n",
    "\n",
    "# dataPath = \"/home/pac/Documents/Python/nwb/scanimage/rawData\"\n",
    "# outputNWBpath = f\"/home/pac/Documents/Python/nwb/scanimage/nwbOutput/{experimentID}.nwb\"\n",
    "\n",
    "experimentID = 'AA0314'\n",
    "\n",
    "dataPath = \"/media/DATA/backups/sutter2P_backup/D_drive/dataSince20210304\"\n",
    "outputNWBpath = os.path.join(dataPath,experimentID,f\"{experimentID}.nwb\")\n",
    "motionCorrectedTifDir = 'NoRMCorred'\n",
    "\n",
    "experimentDir = os.path.join(dataPath,experimentID)\n",
    "experiment_mat = f\"{experimentID}_anmlROI_stimTable.mat\"\n",
    "moCorrMat = f\"{experimentID}_NoRMCorreParams.mat\"\n",
    "fluorescenceMat = f\"{experimentID}_tifFileList.mat\"\n",
    "\n",
    "\n",
    "pupilMat = f\"{experimentID}_pulsePupilUVlegend2P_s.mat\"\n",
    "if (os.path.exists(os.path.join(experimentDir,pupilMat)) or \n",
    "    os.path.exists(os.path.join(experimentDir,pupilMat.replace('_s.mat','.mat')))):\n",
    "    print(f\"pupil data exists for {experimentID}\")\n",
    "    addPupillometry = True\n",
    "\n"
   ]
  },
  {
   "cell_type": "markdown",
   "metadata": {},
   "source": [
    "### extract .tif image data and metadata"
   ]
  },
  {
   "cell_type": "code",
   "execution_count": null,
   "metadata": {},
   "outputs": [],
   "source": [
    "# get tif file list\n",
    "import sys\n",
    "sys.path.insert(1, '../')\n",
    "import lib.mat2py\n",
    "\n",
    "# get tif creation date, end write time, and frame counts\n",
    "tifFileList = lib.mat2py.getMatCellArrayOfStr(os.path.join(experimentDir,experiment_mat),varPath = ['tifFileList','stim','name'])\n",
    "fileTimeWrite = lib.mat2py.getMatCellArrayOfStr(os.path.join(experimentDir,experiment_mat),varPath = ['tifFileList','stim','date'])\n",
    "tifFrameCounts = lib.mat2py.getMatCellArrayOfNum(os.path.join(experimentDir,experiment_mat),varPath = ['tifFileList','stim','nFrames'])\n",
    "treatment = lib.mat2py.getMatCellArrayOfStr(os.path.join(experimentDir,experiment_mat),varPath = ['tifFileList','stim','treatment'])\n",
    "\n",
    "print(list(zip(tifFileList,fileTimeWrite,tifFrameCounts,treatment)))"
   ]
  },
  {
   "cell_type": "markdown",
   "metadata": {},
   "source": [
    "### NWB file prep"
   ]
  },
  {
   "cell_type": "markdown",
   "metadata": {},
   "source": [
    "#### instantiate NWB file"
   ]
  },
  {
   "cell_type": "code",
   "execution_count": 3,
   "metadata": {},
   "outputs": [],
   "source": [
    "from uuid import uuid4\n",
    "from pynwb import NWBHDF5IO, NWBFile, TimeSeries\n",
    "from pynwb.image import ImageSeries\n",
    "from pynwb.ophys import (\n",
    "    CorrectedImageStack,\n",
    "    Fluorescence,\n",
    "    ImageSegmentation,\n",
    "    MotionCorrection,\n",
    "    OpticalChannel,\n",
    "    RoiResponseSeries,\n",
    "    TwoPhotonSeries,\n",
    ")"
   ]
  },
  {
   "cell_type": "code",
   "execution_count": null,
   "metadata": {},
   "outputs": [],
   "source": [
    "import lib.tifExtract\n",
    "import importlib\n",
    "importlib.reload(lib.tifExtract)\n",
    "# get metadata from first tif for session start\n",
    "session_start = lib.tifExtract.getSItifTime(os.path.join(experimentDir,tifFileList[0]))\n",
    "session_start"
   ]
  },
  {
   "cell_type": "code",
   "execution_count": null,
   "metadata": {},
   "outputs": [],
   "source": [
    "# refer to notebook for session description\n",
    "# standardize: experiment_animal_mouseLine --> pupilPTinContrast_AA0304_C57BL6J\n",
    "# see dataMapPCetal2024.txt: /media/DATA/backups/sutter2P_backup/D_drive\n",
    "\n",
    "nwbfile = NWBFile(\n",
    "    session_description=f\"pupilPTinContrast_{experimentID}_C57BL6J\",\n",
    "    identifier=str(uuid4()),\n",
    "    session_start_time=session_start,\n",
    "    experimenter=[\n",
    "        \"Cody, Patrick\",\n",
    "    ],\n",
    "    lab=\"Tzounopoulos Lab\",\n",
    "    institution=\"University of Pittsburgh\",\n",
    "    experiment_description=\"Pure tone in low and high DRC contrast with pupillometry\",\n",
    "    keywords=[\"2P\", \"CGC\", \"pupillometry\", \"DRC\"],\n",
    "    related_publications=\"10.1523/JNEUROSCI.0939-23.2024\",\n",
    ")\n"
   ]
  },
  {
   "cell_type": "markdown",
   "metadata": {},
   "source": [
    "#### set imaging plane"
   ]
  },
  {
   "cell_type": "code",
   "execution_count": 36,
   "metadata": {},
   "outputs": [],
   "source": [
    "device = nwbfile.create_device(\n",
    "    name=\"Microscope\",\n",
    "    description=\"Sutter moveable objective microscope (MOM) with mode-locked laser light (MaiTai HP) at 100-200 mW intensity through 40x0.8NA objective (Olympus) with X-Y galvanometric scanning\",\n",
    "    manufacturer=\"Sutter\",\n",
    ")\n",
    "optical_channel = OpticalChannel(\n",
    "    name=\"OpticalChannel\",\n",
    "    description=\"green channel for GCaMP\",\n",
    "    emission_lambda=525.0,\n",
    ")\n",
    "# filter FF03 525/50 (Semrock) --> 525 +/- 25 (center wavelength 525): https://www.idex-hs.com/store/product-detail/ff03_525_50_25/fl-004656"
   ]
  },
  {
   "cell_type": "code",
   "execution_count": 37,
   "metadata": {},
   "outputs": [],
   "source": [
    "# if multiple ROI sets / ROI change with time, must have different imaging plane for each ROI set --> usually the case with pre/post treatment (ZX1)\n",
    "imgPlane = {}\n",
    "for cond in set(treatment):\n",
    "    condition = ('all' if cond=='none' else f\"_{cond}\")\n",
    "    imgPlane[cond] = nwbfile.create_imaging_plane(\n",
    "        name=f\"ImagingPlane{condition}\",\n",
    "        optical_channel=optical_channel,\n",
    "        imaging_rate=5.0,\n",
    "        description=\"Auditory Cortex\",\n",
    "        device=device,\n",
    "        excitation_lambda=940.0,\n",
    "        indicator=\"GFP\",\n",
    "        location=\"ACtx\",\n",
    "        grid_spacing=[145.0, 145.0],\n",
    "        grid_spacing_unit=\"micrometers\",\n",
    "        origin_coords=[-2.0, 4.25, 2.0],\n",
    "        origin_coords_unit=\"meters\",\n",
    "    )\n",
    "# “Origin coordinates are relative to bregma. First dimension corresponds to anterior-posterior axis (larger index = more anterior). \n",
    "# Second dimension corresponds to medial-lateral axis (larger index = more rightward). \n",
    "# Third dimension corresponds to dorsal-ventral axis (larger index = more ventral)."
   ]
  },
  {
   "cell_type": "markdown",
   "metadata": {},
   "source": [
    "#### set two-photon series data"
   ]
  },
  {
   "cell_type": "code",
   "execution_count": 38,
   "metadata": {},
   "outputs": [],
   "source": [
    "# add to nwb 2p series\n",
    "import lib.tifExtract\n",
    "import importlib\n",
    "importlib.reload(lib.tifExtract)\n",
    "\n",
    "fileTimesInstantiate, nFrames, frameRates, starts = [],[],[],[]\n",
    "two_p_series = []\n",
    "for i,tif in enumerate(tifFileList):\n",
    "    imgData,fileTimeInstantiate,frameCount,frameRate = lib.tifExtract.getSItifData(os.path.join(experimentDir,tif))\n",
    "    start = lib.tifExtract.secMicroSec2sec(fileTimeInstantiate-session_start)\n",
    "    two_p_ser = TwoPhotonSeries(\n",
    "        name=f\"TwoPhotonSeries_{i:03}\",\n",
    "        description=\"Raw 2p data\",\n",
    "        data=imgData,\n",
    "        imaging_plane=imgPlane[treatment[i]],\n",
    "        rate=frameRate,\n",
    "        starting_time=start,\n",
    "        unit=\"normalized amplitude\",\n",
    "        comments=f\"file: {tif}, treatment: {treatment[i]}, fileTimeInstantiate: {fileTimeInstantiate}, fileTimeWrite: {fileTimeWrite[i]}, nFrames: {frameCount})\",\n",
    "    )\n",
    "    two_p_series.append(two_p_ser)\n",
    "\n",
    "    fileTimesInstantiate.append(fileTimeInstantiate)\n",
    "    nFrames.append(frameCount)\n",
    "    frameRates.append(frameRate)\n",
    "    starts.append(start)\n",
    "\n",
    "    nwbfile.add_acquisition(two_p_ser)"
   ]
  },
  {
   "cell_type": "code",
   "execution_count": 28,
   "metadata": {},
   "outputs": [],
   "source": [
    "# test file write\n",
    "from lib.nwbScanImage import writeNWB\n",
    "writeNWB(outputNWBpath,nwbfile)\n",
    "# view with neurosift: neurosift {outputNWBpath}\n"
   ]
  },
  {
   "cell_type": "markdown",
   "metadata": {},
   "source": [
    "#### add motion correction data\n",
    "- shifts in animalDir/NoRMCorred/[animal]_NoRMCorreParams.mat\n",
    "    - concatenated together of length (nTifFiles * sum(tifFileList.stim.nFrames))\n",
    "    - dim of each frame is (8,8,1,2) --> can be squeezed to (8,8,2)"
   ]
  },
  {
   "cell_type": "code",
   "execution_count": 39,
   "metadata": {},
   "outputs": [],
   "source": [
    "import lib.mat2py\n",
    "import importlib\n",
    "importlib.reload(lib.mat2py)\n",
    "\n",
    "shifts,moCorrParams = lib.mat2py.getMoCorrShiftParams(os.path.join(experimentDir,motionCorrectedTifDir,moCorrMat),nFrames=nFrames)"
   ]
  },
  {
   "cell_type": "code",
   "execution_count": 40,
   "metadata": {},
   "outputs": [],
   "source": [
    "# add processing module to include motiuon corrected data\n",
    "ophys_module = nwbfile.create_processing_module(\n",
    "    name=\"ophys\", description=\"optical physiology processed data\"\n",
    ")\n",
    "motion_correction = MotionCorrection(name='Motion Corrected TwoPhotonSeries')"
   ]
  },
  {
   "cell_type": "code",
   "execution_count": 41,
   "metadata": {},
   "outputs": [],
   "source": [
    "for i,(tif,shift) in enumerate(zip(tifFileList,shifts)):\n",
    "    imgData = lib.tifExtract.getSItifData(os.path.join(experimentDir,\n",
    "                                                       motionCorrectedTifDir,\n",
    "                                                       tif.replace('.tif','_NoRMCorre.tif')),getMetadata=False)\n",
    "\n",
    "    corrected = ImageSeries(\n",
    "        name=\"corrected\",  # this must be named \"corrected\"\n",
    "        description=f\"A motion corrected image stack for acquisition {i:03}\",\n",
    "        data=imgData,\n",
    "        unit=\"na\",\n",
    "        format=\"raw\",\n",
    "        comments=f\"corrected file: {tif}\",\n",
    "        rate=frameRates[i],\n",
    "        starting_time=starts[i],\n",
    "    )\n",
    "\n",
    "    xy_translation = TimeSeries(\n",
    "        name=f\"xy_translation\",\n",
    "        description=f\"x,y translation in pixels for acquisition {i:03}\",\n",
    "        data=shift,\n",
    "        unit=\"pixels\",\n",
    "        rate=frameRates[i],\n",
    "        starting_time=starts[i],\n",
    "        control_description = (moCorrParams if i==0 else None),\n",
    "        comments=('control_description: NoRMCorreParams' if i==0 else ''),\n",
    "    )\n",
    "\n",
    "    motion_correction.add_corrected_image_stack(CorrectedImageStack(\n",
    "        corrected=corrected,\n",
    "        original=two_p_series[i],\n",
    "        xy_translation=xy_translation,\n",
    "        name=f\"motion_corrected_TwoPhotonSeries_{i:03}\"\n",
    "    ))"
   ]
  },
  {
   "cell_type": "code",
   "execution_count": null,
   "metadata": {},
   "outputs": [],
   "source": [
    "ophys_module.add(motion_correction)"
   ]
  },
  {
   "cell_type": "code",
   "execution_count": 13,
   "metadata": {},
   "outputs": [],
   "source": [
    "# test file write\n",
    "from lib.nwbScanImage import writeNWB\n",
    "writeNWB(outputNWBpath,nwbfile)\n",
    "# view with neurosift: neurosift {outputNWBpath}\n"
   ]
  },
  {
   "cell_type": "markdown",
   "metadata": {},
   "source": [
    "#### add ROI via planeSegmentation\n",
    "- in experiment dir, ROI drawn on motion corrected data saved in [animal id]_moCorrROI_*.mat\n",
    "- if no treatment file takes name [animal id]_moCorrROI_all.mat otherwise it takes form [animal id]_moCorrROI_pre[treatment].mat and [animal id]_moCorrROI_post[treatment].mat\n",
    "- if more than one condition / treatment, image segmentation must be associated with a separate imaging plane"
   ]
  },
  {
   "cell_type": "code",
   "execution_count": null,
   "metadata": {},
   "outputs": [],
   "source": [
    "# adapting to multiple ROI sets\n",
    "roiMatPat = f\"{experimentID}_moCorrROI*.mat\"\n",
    "import glob\n",
    "roiMats = glob.glob(os.path.join(experimentDir,roiMatPat))\n",
    "roiMats"
   ]
  },
  {
   "cell_type": "code",
   "execution_count": 44,
   "metadata": {},
   "outputs": [],
   "source": [
    "import re\n",
    "\n",
    "img_seg = ImageSegmentation()\n",
    "ophys_module.add(img_seg)\n",
    "\n",
    "plane_seg = {}\n",
    "# usually roiMat for each treatment\n",
    "for roiMat in roiMats:\n",
    "    roiCond = re.search(f\"{experimentID}_moCorrROI_(.*).mat\",roiMat).group(1)\n",
    "    treatCond = ('none' if roiCond=='all' else roiCond)\n",
    "    \n",
    "    roiMasks = lib.mat2py.getROImasks(roiMat)\n",
    "\n",
    "    plane_seg[roiCond] = img_seg.create_plane_segmentation(\n",
    "        name=f\"PlaneSegmentation_{roiCond}\",\n",
    "        description=f\"output from segmenting the imaging plane for {roiCond}\",\n",
    "            imaging_plane=imgPlane[roiCond],\n",
    "            reference_images=[p for p,t in zip(two_p_series,treatment) if t==treatCond],  # optional\n",
    "        )\n",
    "\n",
    "    for roiImageMask in roiMasks:\n",
    "        # add image mask to plane segmentation\n",
    "        plane_seg[roiCond].add_roi(image_mask=roiImageMask)\n"
   ]
  },
  {
   "cell_type": "code",
   "execution_count": null,
   "metadata": {},
   "outputs": [],
   "source": [
    "from matplotlib import pyplot as plt\n",
    "plt.imshow(roiMasks[0])"
   ]
  },
  {
   "cell_type": "markdown",
   "metadata": {},
   "source": [
    "#### add fluorescence traces for ROIs"
   ]
  },
  {
   "cell_type": "code",
   "execution_count": null,
   "metadata": {},
   "outputs": [],
   "source": [
    "import lib.mat2py\n",
    "import importlib\n",
    "importlib.reload(lib.mat2py)"
   ]
  },
  {
   "cell_type": "code",
   "execution_count": null,
   "metadata": {},
   "outputs": [],
   "source": [
    "# load ROI fluo data from experiment\n",
    "fluoROI = lib.mat2py.getROIfluo(os.path.join(experimentDir,fluorescenceMat))\n",
    "len(fluoROI)"
   ]
  },
  {
   "cell_type": "code",
   "execution_count": 48,
   "metadata": {},
   "outputs": [],
   "source": [
    "# roi fluorescence responses associated with a region, each region is associated with a plane segmentation (usually one per condition)\n",
    "# which has corresponding IDs for the ROI - roiResponseSeries a linked to these planesegment IDs\n",
    "roi_resp_series = []\n",
    "for cond in plane_seg:\n",
    "    rt_region = plane_seg[cond].create_roi_table_region(\n",
    "        region=plane_seg[cond].id.data, description=f\"ROI for {cond}\"\n",
    "        )\n",
    "    # only get responses in the matching treatment condition\n",
    "    responses = [(i,f,s) for i,(f,t,s) in enumerate(zip(fluoROI,treatment,starts)) if t==cond]\n",
    "    for i,f,s in responses:\n",
    "        roi_resp_series.append(RoiResponseSeries(\n",
    "            name=f\"RoiResponseSeries_{i:03}\",\n",
    "            description=f\"Fluorescence responses for motion corrected ROIs for TwoPhotonSeries_{i:03}\",\n",
    "            data=f,\n",
    "            rois=rt_region,\n",
    "            unit=\"lumens\",\n",
    "            rate=5.0,\n",
    "            starting_time=s\n",
    "            ))"
   ]
  },
  {
   "cell_type": "code",
   "execution_count": null,
   "metadata": {},
   "outputs": [],
   "source": [
    "# one fluorescence module, RoiResponseSeries is a list\n",
    "fl = Fluorescence(roi_response_series=roi_resp_series)\n",
    "ophys_module.add(fl)"
   ]
  },
  {
   "cell_type": "code",
   "execution_count": 34,
   "metadata": {},
   "outputs": [],
   "source": [
    "# test file write\n",
    "writeNWB(outputNWBpath,nwbfile)\n",
    "# view with neurosift: neurosift {outputNWBpath}"
   ]
  },
  {
   "cell_type": "markdown",
   "metadata": {},
   "source": [
    "#### add sound stimulus data via DynamicTable"
   ]
  },
  {
   "cell_type": "code",
   "execution_count": 50,
   "metadata": {},
   "outputs": [],
   "source": [
    "pulseNames = lib.mat2py.getMatCellArrayOfStr(os.path.join(experimentDir,experiment_mat),['pulseLegend2P','pulseName'])\n",
    "pulseSets = lib.mat2py.getMatCellArrayOfStr(os.path.join(experimentDir,experiment_mat),['pulseLegend2P','pulseSet'])\n",
    "\n",
    "stimData = {\n",
    "    'fileTimeInstantiate': ('time .tif file was instantiated/created',\n",
    "                            [dt.strftime('%d-%b-%Y %H:%M:%S.%f') for dt in fileTimesInstantiate]),\n",
    "    'file': ('name of .tif file',tifFileList),\n",
    "    'nFrames': ('number of frames in .tif file',nFrames),\n",
    "    'frameRate': ('frame rate of .tif file',frameRates),\n",
    "    'pulseNames': ('sound stimulation pulse name',pulseNames),\n",
    "    'pulseSets': ('sound stimulation pulse set',pulseSets),\n",
    "    'treatment': ('treatment',treatment)\n",
    "}"
   ]
  },
  {
   "cell_type": "code",
   "execution_count": 51,
   "metadata": {},
   "outputs": [],
   "source": [
    "from hdmf.common import VectorData, DynamicTable\n",
    "\n",
    "cols = []\n",
    "for col,v in stimData.items():\n",
    "    cols.append(\n",
    "            VectorData(\n",
    "            name=col,\n",
    "            description=v[0],\n",
    "            data=v[1],\n",
    "        )\n",
    "    )\n",
    "stim_table = DynamicTable(\n",
    "    name='stim param table',\n",
    "    description='Maps sound stim parameters to .tif files',\n",
    "    columns=cols,\n",
    ")\n",
    "\n",
    "nwbfile.add_stimulus(stim_table)"
   ]
  },
  {
   "cell_type": "code",
   "execution_count": 24,
   "metadata": {},
   "outputs": [],
   "source": [
    "# test file write\n",
    "from lib.nwbScanImage import writeNWB\n",
    "writeNWB(outputNWBpath,nwbfile)\n",
    "# view with neurosift: neurosift {outputNWBpath}\n",
    "\n",
    "if addPupillometry==False:\n",
    "    print('stop here, no pupillometry')"
   ]
  },
  {
   "cell_type": "markdown",
   "metadata": {},
   "source": [
    "#### add pupillometry data\n",
    "- behavior/pupil tracking with timeSeries for pupilDiameter\n",
    "- processing/imageSeries for pupil video"
   ]
  },
  {
   "cell_type": "code",
   "execution_count": null,
   "metadata": {},
   "outputs": [],
   "source": [
    "import lib.mat2py\n",
    "import importlib\n",
    "importlib.reload(lib.mat2py)"
   ]
  },
  {
   "cell_type": "code",
   "execution_count": 25,
   "metadata": {},
   "outputs": [],
   "source": [
    "# if all at once\n",
    "# pupilData = lib.mat2py.getPupilData(pupilMat,getImgData=True,experimentDir=experimentDir)\n",
    "\n",
    "# if not adding pupil video to NWB\n",
    "# pupilData = lib.mat2py.getPupilData(pupilMat,getImgData=False,experimentDir=experimentDir)"
   ]
  },
  {
   "cell_type": "markdown",
   "metadata": {},
   "source": [
    "##### get pupil timestamps"
   ]
  },
  {
   "cell_type": "code",
   "execution_count": 26,
   "metadata": {},
   "outputs": [],
   "source": [
    "# pupilTimestamps,pupilDate_times = lib.tifExtract.filetime2secTimestamp(fileTimeInstantiate,pupilData['nFrames'],pupilData['frameRate'])"
   ]
  },
  {
   "cell_type": "code",
   "execution_count": null,
   "metadata": {},
   "outputs": [],
   "source": []
  },
  {
   "cell_type": "markdown",
   "metadata": {},
   "source": [
    "##### add pupil radius"
   ]
  },
  {
   "cell_type": "code",
   "execution_count": 53,
   "metadata": {},
   "outputs": [],
   "source": [
    "import numpy as np\n",
    "from pynwb.behavior import PupilTracking\n",
    "\n",
    "behavior_module = nwbfile.create_processing_module(\n",
    "    name=\"behavior\", description=\"Processed behavioral data\"\n",
    ")\n"
   ]
  },
  {
   "cell_type": "code",
   "execution_count": null,
   "metadata": {},
   "outputs": [],
   "source": [
    "# all concatenated at once\n",
    "\n",
    "# pupil_diameter = TimeSeries(\n",
    "#     name=\"pupil_radius\",\n",
    "#     description=\"Pupil radius extracted from the video of the right eye.\",\n",
    "#     data=np.concatenate(pupilData['pupilRadius']),\n",
    "#     timestamps=pupilTimestamps,\n",
    "#     unit=\"na\",\n",
    "# )\n",
    "\n",
    "# pupil_tracking = PupilTracking(time_series=pupil_diameter, name=\"PupilTracking\")\n",
    "\n",
    "# behavior_module.add(pupil_tracking)"
   ]
  },
  {
   "cell_type": "code",
   "execution_count": 54,
   "metadata": {},
   "outputs": [],
   "source": [
    "# split:\n",
    "pupilDataProcessed = lib.mat2py.getPupilDataProcessed(os.path.join(experimentDir,pupilMat))\n",
    "\n",
    "pupil_radii = []\n",
    "\n",
    "for i,pupilFrameFile in enumerate(pupilDataProcessed['pupilFrameFiles']):\n",
    "    pupil_radii.append(\n",
    "        TimeSeries(\n",
    "            name=f\"pupil_radius_{i:03}\",\n",
    "            description=f\"Pupil radius extracted from the video of the right eye for TwoPhotonSeries_{i:03}\",\n",
    "            data=pupilDataProcessed['pupilRadius'][i],\n",
    "            rate=float(pupilDataProcessed['frameRate']),\n",
    "            starting_time=starts[i],\n",
    "            unit=\"na\",\n",
    "            comments=f\"pupilFrameFile: {pupilFrameFile}, associated .tif file: {tifFileList[i]}\"\n",
    "        )\n",
    "    )\n"
   ]
  },
  {
   "cell_type": "code",
   "execution_count": null,
   "metadata": {},
   "outputs": [],
   "source": [
    "pupil_tracking = PupilTracking(time_series=pupil_radii, name=\"PupilTracking\")\n",
    "\n",
    "behavior_module.add(pupil_tracking)"
   ]
  },
  {
   "cell_type": "code",
   "execution_count": 28,
   "metadata": {},
   "outputs": [],
   "source": [
    "# test file write\n",
    "writeNWB(outputNWBpath,nwbfile)\n",
    "# view with neurosift: neurosift {outputNWBpath}"
   ]
  },
  {
   "cell_type": "markdown",
   "metadata": {},
   "source": [
    "##### add pupil video\n",
    "- without video: ~1.4 GB for AA0304\n",
    "- with pupil video: ~4.6 GB for AA0304"
   ]
  },
  {
   "cell_type": "code",
   "execution_count": 29,
   "metadata": {},
   "outputs": [],
   "source": [
    "# all at once\n",
    "\n",
    "# pupil_video = ImageSeries(\n",
    "#     name=\"pupil_video\",\n",
    "#     description=\"Pupil video of the right eye.\",\n",
    "#     data=pupilData['pupilImgData'],\n",
    "#     timestamps=pupilTimestamps,\n",
    "#     unit=\"arbitrary\",\n",
    "# )\n",
    "\n",
    "# pupil_video_module = nwbfile.create_processing_module(\n",
    "#     name=\"pupillometry video\", description=\"pupillometry video data\"\n",
    "# )\n",
    "\n",
    "# pupil_video_module.add(pupil_video)"
   ]
  },
  {
   "cell_type": "code",
   "execution_count": 56,
   "metadata": {},
   "outputs": [],
   "source": [
    "pupilVideoSeries = []\n",
    "\n",
    "for i,pupilFrameFile in enumerate(pupilDataProcessed['pupilFrameFiles']):\n",
    "    pupilVideoSeries.append(\n",
    "        ImageSeries(\n",
    "            name=f\"pupil_video_{i:03}\",\n",
    "            description=f\"Pupil video of the right eye for TwoPhotonSeries_{i:03}\",\n",
    "            data=lib.mat2py.getPupilImg(os.path.join(experimentDir,pupilFrameFile)),\n",
    "            rate=float(pupilDataProcessed['frameRate']),\n",
    "            starting_time=starts[i],\n",
    "            unit=\"na\",\n",
    "            comments=f\"pupilFrameFile: {pupilFrameFile}, associated .tif file: {tifFileList[i]}\"\n",
    "        )\n",
    "    )"
   ]
  },
  {
   "cell_type": "code",
   "execution_count": null,
   "metadata": {},
   "outputs": [],
   "source": [
    "behavior_module.add(pupilVideoSeries)"
   ]
  },
  {
   "cell_type": "code",
   "execution_count": null,
   "metadata": {},
   "outputs": [],
   "source": [
    "# pupil_video_module = nwbfile.create_processing_module(\n",
    "#     name=\"pupillometry video\", description=\"pupillometry video data\"\n",
    "# )\n",
    "\n",
    "# pupil_video_module.add(pupilVideoSeries)"
   ]
  },
  {
   "cell_type": "code",
   "execution_count": 58,
   "metadata": {},
   "outputs": [],
   "source": [
    "# test file write\n",
    "from lib.nwbScanImage import writeNWB\n",
    "writeNWB(outputNWBpath,nwbfile,overWrite=True)\n",
    "# view with neurosift: neurosift {outputNWBpath}"
   ]
  },
  {
   "cell_type": "markdown",
   "metadata": {},
   "source": [
    "# ScanImage --> NWB function"
   ]
  },
  {
   "cell_type": "code",
   "execution_count": null,
   "metadata": {},
   "outputs": [],
   "source": [
    "# import lib.nwbScanImage\n",
    "\n",
    "# import importlib\n",
    "# importlib.reload(lib.nwbScanImage)\n",
    "\n",
    "# experimentID = 'AA0314'\n",
    "\n",
    "# dataPath = \"/media/DATA/backups/sutter2P_backup/D_drive/dataSince20210304\"\n",
    "# outputNWBpath = os.path.join(dataPath,experimentID,f\"{experimentID}.nwb\")\n",
    "\n",
    "# session_description = f\"pupilPTinContrast_{experimentID}_C57BL6J\"\n",
    "# experiment_description = \"Pure tone in low and high DRC contrast with pupillometry\"\n",
    "# keywords = [\"2P\", \"CGC\", \"pupillometry\", \"DRC\"]\n",
    "\n",
    "# lib.nwbScanImage.genNWBfromScanImage_pc_concat(\n",
    "#     experimentID=experimentID, \n",
    "#     dataPath=dataPath, \n",
    "#     NWBoutputPath=outputNWBpath,\n",
    "#     session_description=session_description,\n",
    "#     experiment_description=experiment_description,\n",
    "#     keywords=keywords,\n",
    "#     **lib.nwbScanImage.PARAMS_nwbFilePC,\n",
    "#     **lib.nwbScanImage.PARAMS_imagingPC\n",
    "# )"
   ]
  },
  {
   "cell_type": "code",
   "execution_count": null,
   "metadata": {},
   "outputs": [],
   "source": [
    "# import os\n",
    "# import lib.nwbScanImage\n",
    "\n",
    "# import importlib\n",
    "# importlib.reload(lib.nwbScanImage)\n",
    "\n",
    "# experimentID = 'AA0308'\n",
    "# # /media/DATA/backups/sutter2P_backup/D_drive/ZnT3_pupil/BIN2/AA0323\n",
    "# #  /media/DATA/backups/sutter2P_backup/D_drive/dataSince20210304/AA0308\n",
    "# dataPath = \"/media/DATA/backups/sutter2P_backup/D_drive/dataSince20210304\"\n",
    "# outputNWBpath = os.path.join(dataPath,experimentID,f\"{experimentID}.nwb\")\n",
    "\n",
    "# session_description = f\"pupilPTinContrast_{experimentID}_C57BL6J\"\n",
    "# experiment_description = \"Pure tone in low and high DRC contrast with pupillometry\"\n",
    "# keywords = [\"2P\", \"CGC\", \"pupillometry\", \"DRC\"]\n",
    "\n",
    "# lib.nwbScanImage.genNWBfromScanImage_pc_concat(\n",
    "#     experimentID=experimentID, \n",
    "#     dataPath=dataPath, \n",
    "#     NWBoutputPath=outputNWBpath,\n",
    "#     session_description=session_description,\n",
    "#     experiment_description=experiment_description,\n",
    "#     keywords=keywords,\n",
    "#     **lib.nwbScanImage.PARAMS_nwbFilePC,\n",
    "#     **lib.nwbScanImage.PARAMS_imagingPC\n",
    "# )"
   ]
  },
  {
   "cell_type": "code",
   "execution_count": 1,
   "metadata": {},
   "outputs": [
    {
     "name": "stdout",
     "output_type": "stream",
     "text": [
      "[('AA0314AAAA_00010_00001.tif', 170.0, 'preZX1'), ('AA0314AAAA_00011_00001.tif', 170.0, 'preZX1'), ('AA0314AAAA_00012_00001.tif', 170.0, 'preZX1'), ('AA0314AAAA_00013_00001.tif', 170.0, 'preZX1'), ('AA0314AAAA_00014_00001.tif', 170.0, 'preZX1'), ('AA0314AAAA_00015_00001.tif', 170.0, 'preZX1'), ('AA0314AAAA_00016_00001.tif', 170.0, 'preZX1'), ('AA0314AAAA_00017_00001.tif', 170.0, 'preZX1'), ('AA0314AAAA_00018_00001.tif', 170.0, 'preZX1'), ('AA0314AAAA_00019_00001.tif', 170.0, 'preZX1'), ('AA0314AAAA_00020_00001.tif', 170.0, 'preZX1'), ('AA0314AAAA_00021_00001.tif', 170.0, 'preZX1'), ('AA0314AAAA_00022_00001.tif', 170.0, 'preZX1'), ('AA0314AAAA_00023_00001.tif', 170.0, 'preZX1'), ('AA0314AAAA_00024_00001.tif', 170.0, 'preZX1'), ('AA0314AAAA_00025_00001.tif', 170.0, 'preZX1'), ('AA0314AAAA_00026_00001.tif', 120.0, 'preZX1'), ('AA0314AAAA_00029_00001.tif', 120.0, 'preZX1'), ('AA0314AAAA_00030_00001.tif', 120.0, 'preZX1'), ('AA0314AAAA_00031_00001.tif', 120.0, 'preZX1'), ('AA0314AAAA_00032_00001.tif', 120.0, 'preZX1'), ('AA0314AAAA_00033_00001.tif', 120.0, 'preZX1'), ('AA0314AAAA_00035_00001.tif', 120.0, 'preZX1'), ('AA0314AAAA_00036_00001.tif', 120.0, 'preZX1'), ('AA0314AAAA_00037_00001.tif', 120.0, 'preZX1'), ('AA0314AAAA_00038_00001.tif', 120.0, 'preZX1'), ('AA0314AAAA_00039_00001.tif', 120.0, 'preZX1'), ('AA0314AAAA_00040_00001.tif', 120.0, 'preZX1'), ('AA0314AAAA_00041_00001.tif', 120.0, 'preZX1'), ('AA0314AAAA_00042_00001.tif', 120.0, 'preZX1'), ('AA0314AAAA_00043_00001.tif', 170.0, 'preZX1'), ('AA0314AAAA_00044_00001.tif', 170.0, 'preZX1'), ('AA0314AAAA_00045_00001.tif', 170.0, 'preZX1'), ('AA0314AAAA_00046_00001.tif', 170.0, 'preZX1'), ('AA0314AAAA_00047_00001.tif', 170.0, 'preZX1'), ('AA0314AAAA_00048_00001.tif', 170.0, 'preZX1'), ('AA0314AAAA_00049_00001.tif', 170.0, 'preZX1'), ('AA0314AAAA_00050_00001.tif', 170.0, 'preZX1'), ('AA0314AAAA_00051_00001.tif', 170.0, 'preZX1'), ('AA0314AAAA_00052_00001.tif', 170.0, 'postZX1'), ('AA0314AAAA_00053_00001.tif', 170.0, 'postZX1'), ('AA0314AAAA_00054_00001.tif', 170.0, 'postZX1'), ('AA0314AAAA_00055_00001.tif', 170.0, 'postZX1'), ('AA0314AAAA_00056_00001.tif', 170.0, 'postZX1'), ('AA0314AAAA_00057_00001.tif', 170.0, 'postZX1'), ('AA0314AAAA_00058_00001.tif', 170.0, 'postZX1'), ('AA0314AAAA_00059_00001.tif', 170.0, 'postZX1'), ('AA0314AAAA_00060_00001.tif', 170.0, 'postZX1'), ('AA0314AAAA_00061_00001.tif', 170.0, 'postZX1'), ('AA0314AAAA_00062_00001.tif', 170.0, 'postZX1'), ('AA0314AAAA_00063_00001.tif', 170.0, 'postZX1'), ('AA0314AAAA_00064_00001.tif', 170.0, 'postZX1'), ('AA0314AAAA_00065_00001.tif', 170.0, 'postZX1'), ('AA0314AAAA_00066_00001.tif', 170.0, 'postZX1'), ('AA0314AAAA_00067_00001.tif', 170.0, 'postZX1'), ('AA0314AAAA_00068_00001.tif', 120.0, 'postZX1'), ('AA0314AAAA_00069_00001.tif', 120.0, 'postZX1'), ('AA0314AAAA_00070_00001.tif', 120.0, 'postZX1'), ('AA0314AAAA_00071_00001.tif', 120.0, 'postZX1'), ('AA0314AAAA_00072_00001.tif', 120.0, 'postZX1'), ('AA0314AAAA_00073_00001.tif', 120.0, 'postZX1'), ('AA0314AAAA_00074_00001.tif', 120.0, 'postZX1'), ('AA0314AAAA_00076_00001.tif', 120.0, 'postZX1'), ('AA0314AAAA_00077_00001.tif', 120.0, 'postZX1'), ('AA0314AAAA_00078_00001.tif', 120.0, 'postZX1'), ('AA0314AAAA_00079_00001.tif', 120.0, 'postZX1'), ('AA0314AAAA_00080_00001.tif', 120.0, 'postZX1'), ('AA0314AAAA_00081_00001.tif', 120.0, 'postZX1'), ('AA0314AAAA_00082_00001.tif', 120.0, 'postZX1'), ('AA0314AAAA_00083_00001.tif', 120.0, 'postZX1'), ('AA0314AAAA_00084_00001.tif', 170.0, 'postZX1'), ('AA0314AAAA_00085_00001.tif', 170.0, 'postZX1'), ('AA0314AAAA_00086_00001.tif', 170.0, 'postZX1'), ('AA0314AAAA_00087_00001.tif', 170.0, 'postZX1'), ('AA0314AAAA_00088_00001.tif', 170.0, 'postZX1'), ('AA0314AAAA_00089_00001.tif', 170.0, 'postZX1'), ('AA0314AAAA_00090_00001.tif', 170.0, 'postZX1'), ('AA0314AAAA_00091_00001.tif', 170.0, 'postZX1'), ('AA0314AAAA_00092_00001.tif', 170.0, 'postZX1'), ('AA0314AAAA_00094_00001.tif', 120.0, 'postZX1'), ('AA0314AAAA_00095_00001.tif', 120.0, 'postZX1'), ('AA0314AAAA_00096_00001.tif', 150.0, 'postZX1'), ('AA0314AAAA_00097_00001.tif', 150.0, 'postZX1'), ('AA0314AAAA_00098_00001.tif', 150.0, 'postZX1'), ('AA0314AAAA_00099_00001.tif', 150.0, 'postZX1')]\n"
     ]
    },
    {
     "name": "stderr",
     "output_type": "stream",
     "text": [
      "/home/pac/Documents/Python/nwb/venvNWB/lib/python3.12/site-packages/pynwb/file.py:472: UserWarning: Date is missing timezone information. Updating to local timezone.\n",
      "  args_to_set['session_start_time'] = _add_missing_timezone(session_start_time)\n"
     ]
    },
    {
     "name": "stdout",
     "output_type": "stream",
     "text": [
      "added 2P data\n",
      "added motion correction data\n",
      "added ROI segmentation data\n"
     ]
    },
    {
     "name": "stderr",
     "output_type": "stream",
     "text": [
      "/home/pac/Documents/Python/nwb/venvNWB/lib/python3.12/site-packages/hdmf/container.py:536: UserWarning: The linked table for DynamicTableRegion 'rois' does not share an ancestor with the DynamicTableRegion.\n",
      "  child._validate_on_set_parent()\n"
     ]
    },
    {
     "name": "stdout",
     "output_type": "stream",
     "text": [
      "added fluorescence trace data for ROIs\n",
      "added stim table data\n",
      "found pupillometry data for AA0314\n",
      "added pupil radius data\n",
      "added pupil video data\n",
      "NWB write success to: /media/DATA/backups/sutter2P_backup/D_drive/dataSince20210304/AA0314/AA0314.nwb\n"
     ]
    }
   ],
   "source": [
    "# after fix to file by file\n",
    "import sys\n",
    "sys.path.insert(1, '../')\n",
    "import os\n",
    "import lib.nwbScanImage\n",
    "\n",
    "import importlib\n",
    "importlib.reload(lib.nwbScanImage)\n",
    "\n",
    "# AA0314 took ~3 minutes to run\n",
    "experimentID = 'AA0314'\n",
    "# /media/DATA/backups/sutter2P_backup/D_drive/ZnT3_pupil/BIN2/AA0323\n",
    "#  /media/DATA/backups/sutter2P_backup/D_drive/dataSince20210304/AA0308\n",
    "dataPath = \"/media/DATA/backups/sutter2P_backup/D_drive/dataSince20210304\"\n",
    "outputNWBpath = os.path.join(dataPath,experimentID,f\"{experimentID}.nwb\")\n",
    "\n",
    "session_description = f\"pupilPTinContrast_{experimentID}_C57BL6J\"\n",
    "experiment_description = \"Pure tone in low and high DRC contrast with pupillometry\"\n",
    "keywords = [\"2P\", \"CGC\", \"pupillometry\", \"DRC\"]\n",
    "\n",
    "lib.nwbScanImage.genNWBfromScanImage_pc(\n",
    "    experimentID=experimentID, \n",
    "    dataPath=dataPath, \n",
    "    NWBoutputPath=outputNWBpath,\n",
    "    session_description=session_description,\n",
    "    experiment_description=experiment_description,\n",
    "    keywords=keywords,\n",
    "    **lib.nwbScanImage.PARAMS_nwbFilePC,\n",
    "    **lib.nwbScanImage.PARAMS_imagingPC\n",
    ")"
   ]
  },
  {
   "cell_type": "code",
   "execution_count": 9,
   "metadata": {},
   "outputs": [
    {
     "name": "stdout",
     "output_type": "stream",
     "text": [
      "[('AA0304AAAA_00031_00001.tif', 120.0, 'none'), ('AA0304AAAA_00032_00001.tif', 120.0, 'none'), ('AA0304AAAA_00033_00001.tif', 120.0, 'none'), ('AA0304AAAA_00034_00001.tif', 120.0, 'none'), ('AA0304AAAA_00035_00001.tif', 120.0, 'none'), ('AA0304AAAA_00036_00001.tif', 120.0, 'none'), ('AA0304AAAA_00037_00001.tif', 120.0, 'none'), ('AA0304AAAA_00038_00001.tif', 120.0, 'none'), ('AA0304AAAA_00039_00001.tif', 120.0, 'none'), ('AA0304AAAA_00040_00001.tif', 170.0, 'none'), ('AA0304AAAA_00041_00001.tif', 170.0, 'none'), ('AA0304AAAA_00042_00001.tif', 170.0, 'none'), ('AA0304AAAA_00043_00001.tif', 170.0, 'none'), ('AA0304AAAA_00044_00001.tif', 170.0, 'none'), ('AA0304AAAA_00046_00001.tif', 170.0, 'none'), ('AA0304AAAA_00047_00001.tif', 170.0, 'none'), ('AA0304AAAA_00049_00001.tif', 170.0, 'none'), ('AA0304AAAA_00050_00001.tif', 170.0, 'none'), ('AA0304AAAA_00051_00001.tif', 170.0, 'none'), ('AA0304AAAA_00052_00001.tif', 170.0, 'none'), ('AA0304AAAA_00053_00001.tif', 170.0, 'none'), ('AA0304AAAA_00054_00001.tif', 170.0, 'none'), ('AA0304AAAA_00055_00001.tif', 170.0, 'none'), ('AA0304AAAA_00056_00001.tif', 120.0, 'none'), ('AA0304AAAA_00058_00001.tif', 120.0, 'none'), ('AA0304AAAA_00059_00001.tif', 120.0, 'none'), ('AA0304AAAA_00060_00001.tif', 120.0, 'none'), ('AA0304AAAA_00061_00001.tif', 120.0, 'none'), ('AA0304AAAA_00062_00001.tif', 120.0, 'none'), ('AA0304AAAA_00063_00001.tif', 120.0, 'none'), ('AA0304AAAA_00064_00001.tif', 120.0, 'none'), ('AA0304AAAA_00066_00001.tif', 150.0, 'none'), ('AA0304AAAA_00067_00001.tif', 150.0, 'none'), ('AA0304AAAA_00068_00001.tif', 150.0, 'none'), ('AA0304AAAA_00069_00001.tif', 150.0, 'none'), ('AA0304AAAA_00070_00001.tif', 150.0, 'none'), ('AA0304AAAA_00071_00001.tif', 150.0, 'none')]\n"
     ]
    },
    {
     "name": "stderr",
     "output_type": "stream",
     "text": [
      "/home/pac/Documents/Python/nwb/venvNWB/lib/python3.12/site-packages/pynwb/file.py:472: UserWarning: Date is missing timezone information. Updating to local timezone.\n",
      "  args_to_set['session_start_time'] = _add_missing_timezone(session_start_time)\n"
     ]
    },
    {
     "name": "stdout",
     "output_type": "stream",
     "text": [
      "added 2P data\n",
      "added motion correction data\n",
      "added ROI segmentation data\n"
     ]
    },
    {
     "name": "stderr",
     "output_type": "stream",
     "text": [
      "/home/pac/Documents/Python/nwb/venvNWB/lib/python3.12/site-packages/hdmf/container.py:536: UserWarning: The linked table for DynamicTableRegion 'rois' does not share an ancestor with the DynamicTableRegion.\n",
      "  child._validate_on_set_parent()\n"
     ]
    },
    {
     "name": "stdout",
     "output_type": "stream",
     "text": [
      "added fluorescence trace data for ROIs\n",
      "added stim table data\n",
      "found pupillometry data for AA0304\n",
      "added pupil radius data\n",
      "added pupil video data\n",
      "NWB write success to: /media/DATA/backups/sutter2P_backup/D_drive/dataSince20210304/AA0304/AA0304.nwb\n"
     ]
    }
   ],
   "source": [
    "# after fix to file by file\n",
    "import sys\n",
    "sys.path.insert(1, '../')\n",
    "import os\n",
    "import lib.nwbScanImage\n",
    "\n",
    "import importlib\n",
    "importlib.reload(lib.nwbScanImage)\n",
    "\n",
    "experimentID = 'AA0304'\n",
    "# /media/DATA/backups/sutter2P_backup/D_drive/ZnT3_pupil/BIN2/AA0323\n",
    "#  /media/DATA/backups/sutter2P_backup/D_drive/dataSince20210304/AA0308\n",
    "dataPath = \"/media/DATA/backups/sutter2P_backup/D_drive/dataSince20210304\"\n",
    "outputNWBpath = os.path.join(dataPath,experimentID,f\"{experimentID}.nwb\")\n",
    "\n",
    "session_description = f\"pupilPTinContrast_{experimentID}_C57BL6J\"\n",
    "experiment_description = \"Pure tone in low and high DRC contrast with pupillometry\"\n",
    "keywords = [\"2P\", \"CGC\", \"pupillometry\", \"DRC\"]\n",
    "\n",
    "lib.nwbScanImage.genNWBfromScanImage_pc(\n",
    "    experimentID=experimentID, \n",
    "    dataPath=dataPath, \n",
    "    NWBoutputPath=outputNWBpath,\n",
    "    session_description=session_description,\n",
    "    experiment_description=experiment_description,\n",
    "    keywords=keywords,\n",
    "    **lib.nwbScanImage.PARAMS_nwbFilePC,\n",
    "    **lib.nwbScanImage.PARAMS_imagingPC\n",
    ")"
   ]
  },
  {
   "cell_type": "markdown",
   "metadata": {},
   "source": [
    "### loop over dirs"
   ]
  },
  {
   "cell_type": "code",
   "execution_count": 3,
   "metadata": {},
   "outputs": [
    {
     "name": "stdout",
     "output_type": "stream",
     "text": [
      "NWB file already created for AA0304\n",
      "[('AA0308AAAA_00020_00001.tif', 170.0, 'none'), ('AA0308AAAA_00021_00001.tif', 170.0, 'none'), ('AA0308AAAA_00022_00001.tif', 170.0, 'none'), ('AA0308AAAA_00023_00001.tif', 170.0, 'none'), ('AA0308AAAA_00025_00001.tif', 170.0, 'none'), ('AA0308AAAA_00026_00001.tif', 170.0, 'none'), ('AA0308AAAA_00027_00001.tif', 170.0, 'none'), ('AA0308AAAA_00028_00001.tif', 120.0, 'none'), ('AA0308AAAA_00029_00001.tif', 120.0, 'none'), ('AA0308AAAA_00030_00001.tif', 120.0, 'none'), ('AA0308AAAA_00031_00001.tif', 120.0, 'none'), ('AA0308AAAA_00032_00001.tif', 120.0, 'none'), ('AA0308AAAA_00033_00001.tif', 120.0, 'none'), ('AA0308AAAA_00034_00001.tif', 120.0, 'none'), ('AA0308AAAA_00035_00001.tif', 120.0, 'none'), ('AA0308AAAA_00036_00001.tif', 170.0, 'none'), ('AA0308AAAA_00037_00001.tif', 170.0, 'none'), ('AA0308AAAA_00039_00001.tif', 170.0, 'none'), ('AA0308AAAA_00040_00001.tif', 170.0, 'none'), ('AA0308AAAA_00041_00001.tif', 170.0, 'none'), ('AA0308AAAA_00042_00001.tif', 170.0, 'none'), ('AA0308AAAA_00043_00001.tif', 170.0, 'none'), ('AA0308AAAA_00044_00001.tif', 120.0, 'none'), ('AA0308AAAA_00045_00001.tif', 120.0, 'none'), ('AA0308AAAA_00046_00001.tif', 120.0, 'none'), ('AA0308AAAA_00047_00001.tif', 120.0, 'none'), ('AA0308AAAA_00049_00001.tif', 120.0, 'none'), ('AA0308AAAA_00050_00001.tif', 120.0, 'none'), ('AA0308AAAA_00051_00001.tif', 120.0, 'none'), ('AA0308AAAA_00053_00001.tif', 120.0, 'none'), ('AA0308AAAA_00054_00001.tif', 120.0, 'none'), ('AA0308AAAA_00055_00001.tif', 120.0, 'none'), ('AA0308AAAA_00056_00001.tif', 150.0, 'none'), ('AA0308AAAA_00057_00001.tif', 150.0, 'none'), ('AA0308AAAA_00058_00001.tif', 150.0, 'none'), ('AA0308AAAA_00059_00001.tif', 150.0, 'none'), ('AA0308AAAA_00060_00001.tif', 170.0, 'none'), ('AA0308AAAA_00061_00001.tif', 170.0, 'none'), ('AA0308AAAA_00062_00001.tif', 170.0, 'none'), ('AA0308AAAA_00063_00001.tif', 170.0, 'none'), ('AA0308AAAA_00064_00001.tif', 170.0, 'none'), ('AA0308AAAA_00065_00001.tif', 170.0, 'none'), ('AA0308AAAA_00066_00001.tif', 170.0, 'none'), ('AA0308AAAA_00067_00001.tif', 170.0, 'none'), ('AA0308AAAA_00068_00001.tif', 120.0, 'none'), ('AA0308AAAA_00069_00001.tif', 120.0, 'none'), ('AA0308AAAA_00070_00001.tif', 120.0, 'none'), ('AA0308AAAA_00071_00001.tif', 120.0, 'none'), ('AA0308AAAA_00072_00001.tif', 120.0, 'none'), ('AA0308AAAA_00073_00001.tif', 120.0, 'none'), ('AA0308AAAA_00074_00001.tif', 120.0, 'none'), ('AA0308AAAA_00075_00001.tif', 120.0, 'none')]\n",
      "added 2P data\n",
      "added motion correction data\n",
      "added ROI segmentation data\n"
     ]
    },
    {
     "name": "stderr",
     "output_type": "stream",
     "text": [
      "/home/pac/Documents/Python/nwb/venvNWB/lib/python3.12/site-packages/hdmf/container.py:536: UserWarning: The linked table for DynamicTableRegion 'rois' does not share an ancestor with the DynamicTableRegion.\n",
      "  child._validate_on_set_parent()\n"
     ]
    },
    {
     "name": "stdout",
     "output_type": "stream",
     "text": [
      "added fluorescence trace data for ROIs\n",
      "added stim table data\n",
      "found pupillometry data for AA0308\n",
      "added pupil radius data\n",
      "added pupil video data\n",
      "NWB write success to: /media/DATA/backups/sutter2P_backup/D_drive/dataSince20210304/AA0308/AA0308.nwb\n",
      "[('AA0310AAAA_00012_00001.tif', 170.0, 'none'), ('AA0310AAAA_00013_00001.tif', 170.0, 'none'), ('AA0310AAAA_00014_00001.tif', 170.0, 'none'), ('AA0310AAAA_00015_00001.tif', 170.0, 'none'), ('AA0310AAAA_00016_00001.tif', 170.0, 'none'), ('AA0310AAAA_00017_00001.tif', 170.0, 'none'), ('AA0310AAAA_00018_00001.tif', 170.0, 'none'), ('AA0310AAAA_00019_00001.tif', 170.0, 'none'), ('AA0310AAAA_00020_00001.tif', 120.0, 'none'), ('AA0310AAAA_00021_00001.tif', 120.0, 'none'), ('AA0310AAAA_00022_00001.tif', 120.0, 'none'), ('AA0310AAAA_00023_00001.tif', 120.0, 'none'), ('AA0310AAAA_00024_00001.tif', 120.0, 'none'), ('AA0310AAAA_00025_00001.tif', 120.0, 'none'), ('AA0310AAAA_00026_00001.tif', 120.0, 'none'), ('AA0310AAAA_00027_00001.tif', 120.0, 'none'), ('AA0310AAAA_00028_00001.tif', 120.0, 'none'), ('AA0310AAAA_00029_00001.tif', 120.0, 'none'), ('AA0310AAAA_00030_00001.tif', 150.0, 'none'), ('AA0310AAAA_00031_00001.tif', 150.0, 'none'), ('AA0310AAAA_00032_00001.tif', 150.0, 'none'), ('AA0310AAAA_00034_00001.tif', 150.0, 'none'), ('AA0310AAAA_00035_00001.tif', 120.0, 'none'), ('AA0310AAAA_00036_00001.tif', 120.0, 'none'), ('AA0310AAAA_00037_00001.tif', 120.0, 'none'), ('AA0310AAAA_00038_00001.tif', 120.0, 'none'), ('AA0310AAAA_00039_00001.tif', 120.0, 'none'), ('AA0310AAAA_00040_00001.tif', 120.0, 'none'), ('AA0310AAAA_00041_00001.tif', 120.0, 'none'), ('AA0310AAAA_00042_00001.tif', 120.0, 'none'), ('AA0310AAAA_00043_00001.tif', 120.0, 'none'), ('AA0310AAAA_00044_00001.tif', 120.0, 'none'), ('AA0310AAAA_00045_00001.tif', 170.0, 'none'), ('AA0310AAAA_00046_00001.tif', 170.0, 'none'), ('AA0310AAAA_00047_00001.tif', 170.0, 'none'), ('AA0310AAAA_00048_00001.tif', 170.0, 'none'), ('AA0310AAAA_00049_00001.tif', 170.0, 'none'), ('AA0310AAAA_00050_00001.tif', 170.0, 'none'), ('AA0310AAAA_00051_00001.tif', 170.0, 'none'), ('AA0310AAAA_00052_00001.tif', 170.0, 'none'), ('AA0310AAAA_00053_00001.tif', 170.0, 'none'), ('AA0310AAAA_00054_00001.tif', 170.0, 'none'), ('AA0310AAAA_00055_00001.tif', 120.0, 'none'), ('AA0310AAAA_00056_00001.tif', 120.0, 'none'), ('AA0310AAAA_00057_00001.tif', 120.0, 'none'), ('AA0310AAAA_00058_00001.tif', 120.0, 'none'), ('AA0310AAAA_00059_00001.tif', 120.0, 'none'), ('AA0310AAAA_00060_00001.tif', 120.0, 'none'), ('AA0310AAAA_00061_00001.tif', 120.0, 'none'), ('AA0310AAAA_00062_00001.tif', 120.0, 'none'), ('AA0310AAAA_00063_00001.tif', 120.0, 'none'), ('AA0310AAAA_00064_00001.tif', 120.0, 'none'), ('AA0310AAAA_00065_00001.tif', 170.0, 'none'), ('AA0310AAAA_00066_00001.tif', 170.0, 'none'), ('AA0310AAAA_00067_00001.tif', 170.0, 'none'), ('AA0310AAAA_00068_00001.tif', 170.0, 'none'), ('AA0310AAAA_00069_00001.tif', 170.0, 'none'), ('AA0310AAAA_00070_00001.tif', 170.0, 'none'), ('AA0310AAAA_00071_00001.tif', 170.0, 'none'), ('AA0310AAAA_00072_00001.tif', 170.0, 'none'), ('AA0310AAAA_00073_00001.tif', 150.0, 'none'), ('AA0310AAAA_00074_00001.tif', 150.0, 'none')]\n",
      "added 2P data\n",
      "added motion correction data\n",
      "added ROI segmentation data\n",
      "added fluorescence trace data for ROIs\n",
      "added stim table data\n",
      "found pupillometry data for AA0310\n",
      "added pupil radius data\n",
      "added pupil video data\n",
      "NWB write success to: /media/DATA/backups/sutter2P_backup/D_drive/dataSince20210304/AA0310/AA0310.nwb\n",
      "[('AA0312AAAA_00015_00001.tif', 170.0, 'preZX1'), ('AA0312AAAA_00016_00001.tif', 170.0, 'preZX1'), ('AA0312AAAA_00017_00001.tif', 170.0, 'preZX1'), ('AA0312AAAA_00018_00001.tif', 170.0, 'preZX1'), ('AA0312AAAA_00019_00001.tif', 170.0, 'preZX1'), ('AA0312AAAA_00020_00001.tif', 170.0, 'preZX1'), ('AA0312AAAA_00021_00001.tif', 170.0, 'preZX1'), ('AA0312AAAA_00022_00001.tif', 170.0, 'preZX1'), ('AA0312AAAA_00023_00001.tif', 170.0, 'preZX1'), ('AA0312AAAA_00024_00001.tif', 170.0, 'preZX1'), ('AA0312AAAA_00025_00001.tif', 170.0, 'preZX1'), ('AA0312AAAA_00026_00001.tif', 170.0, 'preZX1'), ('AA0312AAAA_00027_00001.tif', 120.0, 'preZX1'), ('AA0312AAAA_00028_00001.tif', 120.0, 'preZX1'), ('AA0312AAAA_00029_00001.tif', 120.0, 'preZX1'), ('AA0312AAAA_00030_00001.tif', 120.0, 'preZX1'), ('AA0312AAAA_00031_00001.tif', 120.0, 'preZX1'), ('AA0312AAAA_00032_00001.tif', 120.0, 'preZX1'), ('AA0312AAAA_00033_00001.tif', 120.0, 'preZX1'), ('AA0312AAAA_00034_00001.tif', 120.0, 'preZX1'), ('AA0312AAAA_00035_00001.tif', 120.0, 'preZX1'), ('AA0312AAAA_00036_00001.tif', 120.0, 'preZX1'), ('AA0312AAAA_00037_00001.tif', 120.0, 'preZX1'), ('AA0312AAAA_00038_00001.tif', 120.0, 'preZX1'), ('AA0312AAAA_00039_00001.tif', 120.0, 'preZX1'), ('AA0312AAAA_00040_00001.tif', 120.0, 'preZX1'), ('AA0312AAAA_00041_00001.tif', 170.0, 'preZX1'), ('AA0312AAAA_00042_00001.tif', 170.0, 'preZX1'), ('AA0312AAAA_00043_00001.tif', 170.0, 'preZX1'), ('AA0312AAAA_00044_00001.tif', 170.0, 'preZX1'), ('AA0312AAAA_00045_00001.tif', 170.0, 'preZX1'), ('AA0312AAAA_00046_00001.tif', 170.0, 'preZX1'), ('AA0312AAAA_00047_00001.tif', 170.0, 'preZX1'), ('AA0312AAAA_00048_00001.tif', 170.0, 'preZX1'), ('AA0312AAAA_00049_00001.tif', 170.0, 'preZX1'), ('AA0312AAAA_00050_00001.tif', 170.0, 'preZX1'), ('AA0312AAAA_00052_00001.tif', 120.0, 'preZX1'), ('AA0312AAAA_00053_00001.tif', 120.0, 'preZX1'), ('AA0312AAAA_00054_00001.tif', 120.0, 'preZX1'), ('AA0312AAAA_00055_00001.tif', 120.0, 'preZX1'), ('AA0312AAAA_00056_00001.tif', 120.0, 'preZX1'), ('AA0312AAAA_00057_00001.tif', 120.0, 'preZX1'), ('AA0312AAAA_00058_00001.tif', 120.0, 'preZX1'), ('AA0312AAAA_00060_00001.tif', 150.0, 'preZX1'), ('AA0312AAAA_00061_00001.tif', 150.0, 'preZX1'), ('AA0312AAAA_00062_00001.tif', 150.0, 'preZX1'), ('AA0312AAAA_00063_00001.tif', 150.0, 'preZX1'), ('AA0312AAAA_00064_00001.tif', 170.0, 'postZX1'), ('AA0312AAAA_00065_00001.tif', 170.0, 'postZX1'), ('AA0312AAAA_00066_00001.tif', 170.0, 'postZX1'), ('AA0312AAAA_00067_00001.tif', 170.0, 'postZX1'), ('AA0312AAAA_00068_00001.tif', 170.0, 'postZX1'), ('AA0312AAAA_00069_00001.tif', 170.0, 'postZX1'), ('AA0312AAAA_00070_00001.tif', 170.0, 'postZX1'), ('AA0312AAAA_00071_00001.tif', 170.0, 'postZX1'), ('AA0312AAAA_00072_00001.tif', 170.0, 'postZX1'), ('AA0312AAAA_00073_00001.tif', 170.0, 'postZX1'), ('AA0312AAAA_00074_00001.tif', 170.0, 'postZX1'), ('AA0312AAAA_00075_00001.tif', 120.0, 'postZX1'), ('AA0312AAAA_00076_00001.tif', 120.0, 'postZX1'), ('AA0312AAAA_00077_00001.tif', 120.0, 'postZX1'), ('AA0312AAAA_00078_00001.tif', 120.0, 'postZX1'), ('AA0312AAAA_00079_00001.tif', 120.0, 'postZX1'), ('AA0312AAAA_00080_00001.tif', 120.0, 'postZX1'), ('AA0312AAAA_00081_00001.tif', 120.0, 'postZX1'), ('AA0312AAAA_00082_00001.tif', 120.0, 'postZX1'), ('AA0312AAAA_00083_00001.tif', 120.0, 'postZX1'), ('AA0312AAAA_00084_00001.tif', 120.0, 'postZX1'), ('AA0312AAAA_00085_00001.tif', 120.0, 'postZX1'), ('AA0312AAAA_00086_00001.tif', 170.0, 'postZX1'), ('AA0312AAAA_00087_00001.tif', 170.0, 'postZX1'), ('AA0312AAAA_00088_00001.tif', 170.0, 'postZX1'), ('AA0312AAAA_00089_00001.tif', 170.0, 'postZX1'), ('AA0312AAAA_00090_00001.tif', 170.0, 'postZX1'), ('AA0312AAAA_00091_00001.tif', 170.0, 'postZX1'), ('AA0312AAAA_00092_00001.tif', 170.0, 'postZX1'), ('AA0312AAAA_00093_00001.tif', 170.0, 'postZX1'), ('AA0312AAAA_00094_00001.tif', 170.0, 'postZX1'), ('AA0312AAAA_00095_00001.tif', 170.0, 'postZX1'), ('AA0312AAAA_00096_00001.tif', 170.0, 'postZX1')]\n",
      "added 2P data\n",
      "added motion correction data\n"
     ]
    },
    {
     "ename": "KeyError",
     "evalue": "'all'",
     "output_type": "error",
     "traceback": [
      "\u001b[0;31m---------------------------------------------------------------------------\u001b[0m",
      "\u001b[0;31mKeyError\u001b[0m                                  Traceback (most recent call last)",
      "Cell \u001b[0;32mIn[3], line 31\u001b[0m\n\u001b[1;32m     28\u001b[0m experiment_description \u001b[38;5;241m=\u001b[39m \u001b[38;5;124m\"\u001b[39m\u001b[38;5;124mPure tone in low and high DRC contrast with pupillometry\u001b[39m\u001b[38;5;124m\"\u001b[39m\n\u001b[1;32m     29\u001b[0m keywords \u001b[38;5;241m=\u001b[39m [\u001b[38;5;124m\"\u001b[39m\u001b[38;5;124m2P\u001b[39m\u001b[38;5;124m\"\u001b[39m, \u001b[38;5;124m\"\u001b[39m\u001b[38;5;124mCGC\u001b[39m\u001b[38;5;124m\"\u001b[39m, \u001b[38;5;124m\"\u001b[39m\u001b[38;5;124mpupillometry\u001b[39m\u001b[38;5;124m\"\u001b[39m, \u001b[38;5;124m\"\u001b[39m\u001b[38;5;124mDRC\u001b[39m\u001b[38;5;124m\"\u001b[39m]\n\u001b[0;32m---> 31\u001b[0m \u001b[43mlib\u001b[49m\u001b[38;5;241;43m.\u001b[39;49m\u001b[43mnwbScanImage\u001b[49m\u001b[38;5;241;43m.\u001b[39;49m\u001b[43mgenNWBfromScanImage_pc\u001b[49m\u001b[43m(\u001b[49m\n\u001b[1;32m     32\u001b[0m \u001b[43m    \u001b[49m\u001b[43mexperimentID\u001b[49m\u001b[38;5;241;43m=\u001b[39;49m\u001b[43mexperimentID\u001b[49m\u001b[43m,\u001b[49m\u001b[43m \u001b[49m\n\u001b[1;32m     33\u001b[0m \u001b[43m    \u001b[49m\u001b[43mdataPath\u001b[49m\u001b[38;5;241;43m=\u001b[39;49m\u001b[43mdataPath\u001b[49m\u001b[43m,\u001b[49m\u001b[43m \u001b[49m\n\u001b[1;32m     34\u001b[0m \u001b[43m    \u001b[49m\u001b[43mNWBoutputPath\u001b[49m\u001b[38;5;241;43m=\u001b[39;49m\u001b[43moutputNWBpath\u001b[49m\u001b[43m,\u001b[49m\n\u001b[1;32m     35\u001b[0m \u001b[43m    \u001b[49m\u001b[43msession_description\u001b[49m\u001b[38;5;241;43m=\u001b[39;49m\u001b[43msession_description\u001b[49m\u001b[43m,\u001b[49m\n\u001b[1;32m     36\u001b[0m \u001b[43m    \u001b[49m\u001b[43mexperiment_description\u001b[49m\u001b[38;5;241;43m=\u001b[39;49m\u001b[43mexperiment_description\u001b[49m\u001b[43m,\u001b[49m\n\u001b[1;32m     37\u001b[0m \u001b[43m    \u001b[49m\u001b[43mkeywords\u001b[49m\u001b[38;5;241;43m=\u001b[39;49m\u001b[43mkeywords\u001b[49m\u001b[43m,\u001b[49m\n\u001b[1;32m     38\u001b[0m \u001b[43m    \u001b[49m\u001b[38;5;241;43m*\u001b[39;49m\u001b[38;5;241;43m*\u001b[39;49m\u001b[43mlib\u001b[49m\u001b[38;5;241;43m.\u001b[39;49m\u001b[43mnwbScanImage\u001b[49m\u001b[38;5;241;43m.\u001b[39;49m\u001b[43mPARAMS_nwbFilePC\u001b[49m\u001b[43m,\u001b[49m\n\u001b[1;32m     39\u001b[0m \u001b[43m    \u001b[49m\u001b[38;5;241;43m*\u001b[39;49m\u001b[38;5;241;43m*\u001b[39;49m\u001b[43mlib\u001b[49m\u001b[38;5;241;43m.\u001b[39;49m\u001b[43mnwbScanImage\u001b[49m\u001b[38;5;241;43m.\u001b[39;49m\u001b[43mPARAMS_imagingPC\u001b[49m\n\u001b[1;32m     40\u001b[0m \u001b[43m    \u001b[49m\u001b[43m)\u001b[49m\n",
      "File \u001b[0;32m~/Documents/Python/nwb/data2nwb/scratch/../lib/nwbScanImage.py:562\u001b[0m, in \u001b[0;36mgenNWBfromScanImage_pc\u001b[0;34m(experimentID, dataPath, NWBoutputPath, session_description, experiment_description, keywords, experimenter, related_publications, lab, institution, imaging_scopeDesc, imaging_manufacturer, imaging_opticalChannel0desc, imaging_emissionLambda, imagingPlane_rate, imagingPlane_desc, imagingPlane_excitationLambda, imagingPlane_loc, imagingPlane_indicator, imagingPlane_gridSpacing, imagingPlane_gridSpacingUnit, imagingPlane_originCoords, imagingPlane_originCoordsUnit, overWriteNWB, motionCorrectedTifDir, returnNWB)\u001b[0m\n\u001b[1;32m    555\u001b[0m treatCond \u001b[38;5;241m=\u001b[39m (\u001b[38;5;124m'\u001b[39m\u001b[38;5;124mnone\u001b[39m\u001b[38;5;124m'\u001b[39m \u001b[38;5;28;01mif\u001b[39;00m roiCond\u001b[38;5;241m==\u001b[39m\u001b[38;5;124m'\u001b[39m\u001b[38;5;124mall\u001b[39m\u001b[38;5;124m'\u001b[39m \u001b[38;5;28;01melse\u001b[39;00m roiCond)\n\u001b[1;32m    557\u001b[0m roiMasks \u001b[38;5;241m=\u001b[39m lib\u001b[38;5;241m.\u001b[39mmat2py\u001b[38;5;241m.\u001b[39mgetROImasks(roiMat)\n\u001b[1;32m    559\u001b[0m plane_seg[roiCond] \u001b[38;5;241m=\u001b[39m img_seg\u001b[38;5;241m.\u001b[39mcreate_plane_segmentation(\n\u001b[1;32m    560\u001b[0m     name\u001b[38;5;241m=\u001b[39m\u001b[38;5;124mf\u001b[39m\u001b[38;5;124m\"\u001b[39m\u001b[38;5;124mPlaneSegmentation_\u001b[39m\u001b[38;5;132;01m{\u001b[39;00mroiCond\u001b[38;5;132;01m}\u001b[39;00m\u001b[38;5;124m\"\u001b[39m,\n\u001b[1;32m    561\u001b[0m     description\u001b[38;5;241m=\u001b[39m\u001b[38;5;124mf\u001b[39m\u001b[38;5;124m\"\u001b[39m\u001b[38;5;124moutput from segmenting the imaging plane for \u001b[39m\u001b[38;5;132;01m{\u001b[39;00mroiCond\u001b[38;5;132;01m}\u001b[39;00m\u001b[38;5;124m\"\u001b[39m,\n\u001b[0;32m--> 562\u001b[0m         imaging_plane\u001b[38;5;241m=\u001b[39m\u001b[43mimgPlane\u001b[49m\u001b[43m[\u001b[49m\u001b[43mroiCond\u001b[49m\u001b[43m]\u001b[49m,\n\u001b[1;32m    563\u001b[0m         reference_images\u001b[38;5;241m=\u001b[39m[p \u001b[38;5;28;01mfor\u001b[39;00m p,t \u001b[38;5;129;01min\u001b[39;00m \u001b[38;5;28mzip\u001b[39m(two_p_series,treatment) \u001b[38;5;28;01mif\u001b[39;00m t\u001b[38;5;241m==\u001b[39mtreatCond],  \u001b[38;5;66;03m# optional\u001b[39;00m\n\u001b[1;32m    564\u001b[0m     )\n\u001b[1;32m    566\u001b[0m \u001b[38;5;28;01mfor\u001b[39;00m roiImageMask \u001b[38;5;129;01min\u001b[39;00m roiMasks:\n\u001b[1;32m    567\u001b[0m     \u001b[38;5;66;03m# add image mask to plane segmentation\u001b[39;00m\n\u001b[1;32m    568\u001b[0m     plane_seg[roiCond]\u001b[38;5;241m.\u001b[39madd_roi(image_mask\u001b[38;5;241m=\u001b[39mroiImageMask)\n",
      "\u001b[0;31mKeyError\u001b[0m: 'all'"
     ]
    }
   ],
   "source": [
    "import os\n",
    "import lib.nwbScanImage\n",
    "\n",
    "import importlib\n",
    "importlib.reload(lib.nwbScanImage)\n",
    "\n",
    "dataPath = \"/media/DATA/backups/sutter2P_backup/D_drive/dataSince20210304\"\n",
    "\n",
    "experiments = [\n",
    "                'AA0304',\n",
    "                'AA0308',\n",
    "                'AA0310',\n",
    "                'AA0312',\n",
    "                'AA0314',\n",
    "                'AA0315',\n",
    "                'AA0318',\n",
    "                'AA0350',\n",
    "                'AA0353'\n",
    "               ]\n",
    "\n",
    "for experimentID in experiments:\n",
    "    outputNWBpath = os.path.join(dataPath,experimentID,f\"{experimentID}.nwb\")\n",
    "\n",
    "    if os.path.exists(outputNWBpath):\n",
    "        print(f\"NWB file already created for {experimentID}\")\n",
    "    else:\n",
    "        session_description = f\"pupilPTinContrast_{experimentID}_C57BL6J\"\n",
    "        experiment_description = \"Pure tone in low and high DRC contrast with pupillometry\"\n",
    "        keywords = [\"2P\", \"CGC\", \"pupillometry\", \"DRC\"]\n",
    "\n",
    "        lib.nwbScanImage.genNWBfromScanImage_pc(\n",
    "            experimentID=experimentID, \n",
    "            dataPath=dataPath, \n",
    "            NWBoutputPath=outputNWBpath,\n",
    "            session_description=session_description,\n",
    "            experiment_description=experiment_description,\n",
    "            keywords=keywords,\n",
    "            **lib.nwbScanImage.PARAMS_nwbFilePC,\n",
    "            **lib.nwbScanImage.PARAMS_imagingPC\n",
    "            )\n",
    "\n",
    "# issue AA0312 has moCorrROI_all but two treatment conditions (ROIs stayed the same), how to handle?"
   ]
  },
  {
   "cell_type": "code",
   "execution_count": null,
   "metadata": {},
   "outputs": [],
   "source": []
  }
 ],
 "metadata": {
  "kernelspec": {
   "display_name": "venvNWB",
   "language": "python",
   "name": "python3"
  },
  "language_info": {
   "codemirror_mode": {
    "name": "ipython",
    "version": 3
   },
   "file_extension": ".py",
   "mimetype": "text/x-python",
   "name": "python",
   "nbconvert_exporter": "python",
   "pygments_lexer": "ipython3",
   "version": "3.12.3"
  }
 },
 "nbformat": 4,
 "nbformat_minor": 2
}
