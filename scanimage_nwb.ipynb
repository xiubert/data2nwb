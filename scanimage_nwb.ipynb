{
 "cells": [
  {
   "cell_type": "markdown",
   "metadata": {},
   "source": [
    "# PC Specific ScanImage --> NWB (SCRIPT)"
   ]
  },
  {
   "cell_type": "code",
   "execution_count": null,
   "metadata": {},
   "outputs": [],
   "source": []
  },
  {
   "cell_type": "markdown",
   "metadata": {},
   "source": [
    "## create NWB file"
   ]
  },
  {
   "cell_type": "markdown",
   "metadata": {},
   "source": [
    "### set directories"
   ]
  },
  {
   "cell_type": "code",
   "execution_count": 1,
   "metadata": {},
   "outputs": [
    {
     "name": "stdout",
     "output_type": "stream",
     "text": [
      "pupil data exists for AA0315\n"
     ]
    }
   ],
   "source": [
    "import os\n",
    "import glob\n",
    "import re\n",
    "\n",
    "# dataPath = \"/home/pac/Documents/Python/nwb/scanimage/rawData\"\n",
    "# outputNWBpath = f\"/home/pac/Documents/Python/nwb/scanimage/nwbOutput/{experimentID}.nwb\"\n",
    "\n",
    "experimentID = 'AA0315'\n",
    "\n",
    "dataPath = \"/media/DATA/backups/sutter2P_backup/D_drive/dataSince20210304\"\n",
    "outputNWBpath = os.path.join(dataPath,experimentID,f\"{experimentID}.nwb\")\n",
    "motionCorrectedTifDir = 'NoRMCorred'\n",
    "\n",
    "experimentDir = os.path.join(dataPath,experimentID)\n",
    "experiment_mat = f\"{experimentID}_anmlROI_stimTable.mat\"\n",
    "moCorrMat = f\"{experimentID}_NoRMCorreParams.mat\"\n",
    "fluorescenceMat = f\"{experimentID}_tifFileList.mat\"\n",
    "\n",
    "\n",
    "pupilMat = f\"{experimentID}_pulsePupilUVlegend2P_s.mat\"\n",
    "if (os.path.exists(os.path.join(experimentDir,pupilMat)) or \n",
    "    os.path.exists(os.path.join(experimentDir,pupilMat.replace('_s.mat','.mat')))):\n",
    "    print(f\"pupil data exists for {experimentID}\")\n",
    "    addPupillometry = True\n",
    "\n"
   ]
  },
  {
   "cell_type": "markdown",
   "metadata": {},
   "source": [
    "### extract .tif image data and metadata"
   ]
  },
  {
   "cell_type": "code",
   "execution_count": 2,
   "metadata": {},
   "outputs": [
    {
     "name": "stdout",
     "output_type": "stream",
     "text": [
      "[('AA0315AAAA_00010_00001.tif', '10-May-2021 17:43:28', 170.0, 'preZX1'), ('AA0315AAAA_00011_00001.tif', '10-May-2021 17:46:27', 170.0, 'preZX1'), ('AA0315AAAA_00012_00001.tif', '10-May-2021 17:48:52', 170.0, 'preZX1'), ('AA0315AAAA_00013_00001.tif', '10-May-2021 17:50:12', 170.0, 'preZX1'), ('AA0315AAAA_00014_00001.tif', '10-May-2021 17:51:45', 170.0, 'preZX1'), ('AA0315AAAA_00015_00001.tif', '10-May-2021 17:53:03', 170.0, 'preZX1'), ('AA0315AAAA_00016_00001.tif', '10-May-2021 17:54:05', 170.0, 'preZX1'), ('AA0315AAAA_00017_00001.tif', '10-May-2021 17:55:41', 170.0, 'preZX1'), ('AA0315AAAA_00018_00001.tif', '10-May-2021 17:57:24', 170.0, 'preZX1'), ('AA0315AAAA_00019_00001.tif', '10-May-2021 17:58:56', 170.0, 'preZX1'), ('AA0315AAAA_00020_00001.tif', '10-May-2021 18:00:24', 170.0, 'preZX1'), ('AA0315AAAA_00021_00001.tif', '10-May-2021 18:02:33', 170.0, 'preZX1'), ('AA0315AAAA_00022_00001.tif', '10-May-2021 18:03:37', 170.0, 'preZX1'), ('AA0315AAAA_00023_00001.tif', '10-May-2021 18:04:51', 170.0, 'preZX1'), ('AA0315AAAA_00024_00001.tif', '10-May-2021 18:05:55', 170.0, 'preZX1'), ('AA0315AAAA_00025_00001.tif', '10-May-2021 18:07:03', 170.0, 'preZX1'), ('AA0315AAAA_00027_00001.tif', '10-May-2021 18:09:35', 120.0, 'preZX1'), ('AA0315AAAA_00031_00001.tif', '10-May-2021 18:20:20', 120.0, 'preZX1'), ('AA0315AAAA_00032_00001.tif', '10-May-2021 18:22:06', 120.0, 'preZX1'), ('AA0315AAAA_00033_00001.tif', '10-May-2021 18:22:55', 120.0, 'preZX1'), ('AA0315AAAA_00034_00001.tif', '10-May-2021 18:23:43', 120.0, 'preZX1'), ('AA0315AAAA_00035_00001.tif', '10-May-2021 18:24:34', 120.0, 'preZX1'), ('AA0315AAAA_00036_00001.tif', '10-May-2021 18:25:22', 120.0, 'preZX1'), ('AA0315AAAA_00037_00001.tif', '10-May-2021 18:26:09', 120.0, 'preZX1'), ('AA0315AAAA_00039_00001.tif', '10-May-2021 18:28:12', 120.0, 'preZX1'), ('AA0315AAAA_00040_00001.tif', '10-May-2021 18:32:00', 120.0, 'preZX1'), ('AA0315AAAA_00041_00001.tif', '10-May-2021 18:32:49', 120.0, 'preZX1'), ('AA0315AAAA_00042_00001.tif', '10-May-2021 18:33:37', 120.0, 'preZX1'), ('AA0315AAAA_00043_00001.tif', '10-May-2021 18:34:28', 120.0, 'preZX1'), ('AA0315AAAA_00044_00001.tif', '10-May-2021 18:35:43', 170.0, 'preZX1'), ('AA0315AAAA_00045_00001.tif', '10-May-2021 18:36:59', 170.0, 'preZX1'), ('AA0315AAAA_00046_00001.tif', '10-May-2021 18:38:12', 170.0, 'preZX1'), ('AA0315AAAA_00047_00001.tif', '10-May-2021 18:39:23', 170.0, 'preZX1'), ('AA0315AAAA_00048_00001.tif', '10-May-2021 18:40:34', 170.0, 'preZX1'), ('AA0315AAAA_00049_00001.tif', '10-May-2021 18:41:49', 170.0, 'preZX1'), ('AA0315AAAA_00050_00001.tif', '10-May-2021 18:43:20', 170.0, 'preZX1'), ('AA0315AAAA_00051_00001.tif', '10-May-2021 18:44:29', 170.0, 'preZX1'), ('AA0315AAAA_00052_00001.tif', '10-May-2021 18:45:34', 170.0, 'preZX1'), ('AA0315AAAA_00053_00001.tif', '10-May-2021 18:46:39', 170.0, 'preZX1'), ('AA0315AAAA_00054_00001.tif', '10-May-2021 18:48:07', 120.0, 'preZX1'), ('AA0315AAAA_00055_00001.tif', '10-May-2021 18:48:57', 120.0, 'preZX1'), ('AA0315AAAA_00056_00001.tif', '10-May-2021 18:49:44', 120.0, 'preZX1'), ('AA0315AAAA_00057_00001.tif', '10-May-2021 18:50:36', 120.0, 'preZX1'), ('AA0315AAAA_00058_00001.tif', '10-May-2021 18:51:24', 120.0, 'preZX1'), ('AA0315AAAA_00059_00001.tif', '10-May-2021 18:52:11', 120.0, 'preZX1'), ('AA0315AAAA_00060_00001.tif', '10-May-2021 18:53:01', 120.0, 'preZX1'), ('AA0315AAAA_00062_00001.tif', '10-May-2021 18:54:35', 120.0, 'preZX1'), ('AA0315AAAA_00063_00001.tif', '10-May-2021 19:16:50', 170.0, 'postZX1'), ('AA0315AAAA_00064_00001.tif', '10-May-2021 19:18:04', 170.0, 'postZX1'), ('AA0315AAAA_00065_00001.tif', '10-May-2021 19:19:33', 170.0, 'postZX1'), ('AA0315AAAA_00066_00001.tif', '10-May-2021 19:20:41', 170.0, 'postZX1'), ('AA0315AAAA_00067_00001.tif', '10-May-2021 19:22:10', 170.0, 'postZX1'), ('AA0315AAAA_00068_00001.tif', '10-May-2021 19:23:57', 170.0, 'postZX1'), ('AA0315AAAA_00069_00001.tif', '10-May-2021 19:25:11', 170.0, 'postZX1'), ('AA0315AAAA_00070_00001.tif', '10-May-2021 19:26:49', 170.0, 'postZX1'), ('AA0315AAAA_00071_00001.tif', '10-May-2021 19:28:13', 170.0, 'postZX1'), ('AA0315AAAA_00072_00001.tif', '10-May-2021 19:29:29', 170.0, 'postZX1'), ('AA0315AAAA_00073_00001.tif', '10-May-2021 19:30:32', 170.0, 'postZX1'), ('AA0315AAAA_00074_00001.tif', '10-May-2021 19:31:53', 170.0, 'postZX1'), ('AA0315AAAA_00075_00001.tif', '10-May-2021 19:33:18', 170.0, 'postZX1'), ('AA0315AAAA_00076_00001.tif', '10-May-2021 19:34:23', 170.0, 'postZX1'), ('AA0315AAAA_00077_00001.tif', '10-May-2021 19:35:51', 170.0, 'postZX1'), ('AA0315AAAA_00078_00001.tif', '10-May-2021 19:37:09', 170.0, 'postZX1'), ('AA0315AAAA_00079_00001.tif', '10-May-2021 19:38:33', 120.0, 'postZX1'), ('AA0315AAAA_00080_00001.tif', '10-May-2021 19:39:23', 120.0, 'postZX1'), ('AA0315AAAA_00081_00001.tif', '10-May-2021 19:40:10', 120.0, 'postZX1'), ('AA0315AAAA_00082_00001.tif', '10-May-2021 19:41:01', 120.0, 'postZX1'), ('AA0315AAAA_00083_00001.tif', '10-May-2021 19:41:49', 120.0, 'postZX1'), ('AA0315AAAA_00084_00001.tif', '10-May-2021 19:42:36', 120.0, 'postZX1'), ('AA0315AAAA_00085_00001.tif', '10-May-2021 19:43:26', 120.0, 'postZX1'), ('AA0315AAAA_00086_00001.tif', '10-May-2021 19:44:13', 120.0, 'postZX1'), ('AA0315AAAA_00087_00001.tif', '10-May-2021 19:45:00', 120.0, 'postZX1'), ('AA0315AAAA_00088_00001.tif', '10-May-2021 19:45:46', 120.0, 'postZX1'), ('AA0315AAAA_00089_00001.tif', '10-May-2021 19:46:35', 120.0, 'postZX1'), ('AA0315AAAA_00090_00001.tif', '10-May-2021 19:47:26', 120.0, 'postZX1'), ('AA0315AAAA_00091_00001.tif', '10-May-2021 19:48:53', 170.0, 'postZX1'), ('AA0315AAAA_00092_00001.tif', '10-May-2021 19:50:38', 170.0, 'postZX1'), ('AA0315AAAA_00093_00001.tif', '10-May-2021 19:56:23', 170.0, 'postZX1'), ('AA0315AAAA_00094_00001.tif', '10-May-2021 19:59:25', 170.0, 'postZX1'), ('AA0315AAAA_00095_00001.tif', '10-May-2021 20:01:48', 170.0, 'postZX1'), ('AA0315AAAA_00096_00001.tif', '10-May-2021 20:03:01', 170.0, 'postZX1'), ('AA0315AAAA_00097_00001.tif', '10-May-2021 20:04:13', 170.0, 'postZX1'), ('AA0315AAAA_00098_00001.tif', '10-May-2021 20:05:23', 170.0, 'postZX1'), ('AA0315AAAA_00099_00001.tif', '10-May-2021 20:06:28', 170.0, 'postZX1'), ('AA0315AAAA_00100_00001.tif', '10-May-2021 20:07:45', 170.0, 'postZX1'), ('AA0315AAAA_00101_00001.tif', '10-May-2021 20:09:15', 170.0, 'postZX1'), ('AA0315AAAA_00102_00001.tif', '10-May-2021 20:10:44', 120.0, 'postZX1'), ('AA0315AAAA_00103_00001.tif', '10-May-2021 20:11:33', 120.0, 'postZX1'), ('AA0315AAAA_00104_00001.tif', '10-May-2021 20:12:20', 120.0, 'postZX1'), ('AA0315AAAA_00105_00001.tif', '10-May-2021 20:13:11', 120.0, 'postZX1'), ('AA0315AAAA_00106_00001.tif', '10-May-2021 20:14:00', 120.0, 'postZX1'), ('AA0315AAAA_00107_00001.tif', '10-May-2021 20:14:46', 120.0, 'postZX1'), ('AA0315AAAA_00108_00001.tif', '10-May-2021 20:15:36', 120.0, 'postZX1'), ('AA0315AAAA_00109_00001.tif', '10-May-2021 20:16:23', 120.0, 'postZX1'), ('AA0315AAAA_00110_00001.tif', '10-May-2021 20:17:10', 120.0, 'postZX1'), ('AA0315AAAA_00111_00001.tif', '10-May-2021 20:17:56', 120.0, 'postZX1'), ('AA0315AAAA_00112_00001.tif', '10-May-2021 20:19:41', 150.0, 'postZX1'), ('AA0315AAAA_00113_00001.tif', '10-May-2021 20:20:36', 150.0, 'postZX1'), ('AA0315AAAA_00114_00001.tif', '10-May-2021 20:21:26', 150.0, 'postZX1'), ('AA0315AAAA_00115_00001.tif', '10-May-2021 20:22:18', 150.0, 'postZX1')]\n"
     ]
    }
   ],
   "source": [
    "# get tif file list\n",
    "import sys\n",
    "sys.path.insert(1, '../')\n",
    "import lib.mat2py\n",
    "\n",
    "# get tif creation date, end write time, and frame counts\n",
    "tifFileList = lib.mat2py.getMatCellArrayOfStr(os.path.join(experimentDir,experiment_mat),varPath = ['tifFileList','stim','name'])\n",
    "fileTimeWrite = lib.mat2py.getMatCellArrayOfStr(os.path.join(experimentDir,experiment_mat),varPath = ['tifFileList','stim','date'])\n",
    "tifFrameCounts = lib.mat2py.getMatCellArrayOfNum(os.path.join(experimentDir,experiment_mat),varPath = ['tifFileList','stim','nFrames'])\n",
    "treatment = lib.mat2py.getMatCellArrayOfStr(os.path.join(experimentDir,experiment_mat),varPath = ['tifFileList','stim','treatment'])\n",
    "\n",
    "print(list(zip(tifFileList,fileTimeWrite,tifFrameCounts,treatment)))"
   ]
  },
  {
   "cell_type": "code",
   "execution_count": null,
   "metadata": {},
   "outputs": [],
   "source": [
    "# ROI mat ([experimentID]_moCorrROI_all.mat) will always end in _all.mat if treatment is 'none'.\n",
    "# If treatment (eg preZX1 and postZX1), there may be either one ROI mat for the whole session (ending in _all.mat) \n",
    "# or an ROI .mat for each treatment (eg. [experimentID]_moCorrROI_preZX1.mat and [experimentID]_moCorrROI_postZX1.mat)\n",
    "\n",
    "# If treatment == 'none' (should be same for all .tif), then ROI mat will be called [experimentID]_moCorrROI_all.mat\n",
    "# and keys in imaging_plane and ImageSegmentation will be called 'all'\n",
    "\n",
    "# If multiple ROI sets / ROI change with time, must have different imaging_plane for each ROI set (via create_imaging_plane)\n",
    "\n",
    "# TwoPhotonSeries must be associated with the corresponding imaging plane\n",
    "# If multiple ROI .mat, there will be a separate ImageSegmentation (stored in plane_seg) for each,\n",
    "# this will reference the corresponding imaging plane.\n",
    "# ROI table regions are created for each ImageSegmentation (stored in plane_seg) and house\n",
    "# ROI fluorescence data.\n",
    "# Each RoiResponseSeries (eg fluorescence for a given .tif) is associated with the corresponding ROI table.\n",
    "roiMatPat = f\"{experimentID}_moCorrROI*.mat\"\n",
    "roiMats = glob.glob(os.path.join(experimentDir,roiMatPat))\n",
    "\n",
    "if len(roiMats)==1 and os.path.basename(roiMats[0])==f\"{experimentID}_moCorrROI_all.mat\":\n",
    "    roiSet = [\"all\"]\n",
    "    tifROI = roiSet*len(treatment)\n",
    "else:\n",
    "    roiSet = [re.search(f\"{experimentID}_moCorrROI_(.*).mat\",roiMat).group(1) for roiMat in roiMats]\n",
    "    tifROI = treatment"
   ]
  },
  {
   "cell_type": "code",
   "execution_count": 4,
   "metadata": {},
   "outputs": [
    {
     "data": {
      "text/plain": [
       "'AA0315AAAA_00010_00001.tif'"
      ]
     },
     "execution_count": 4,
     "metadata": {},
     "output_type": "execute_result"
    }
   ],
   "source": [
    "tifFileList[0]"
   ]
  },
  {
   "cell_type": "code",
   "execution_count": 6,
   "metadata": {},
   "outputs": [
    {
     "ename": "AttributeError",
     "evalue": "'NoneType' object has no attribute 'groupdict'",
     "output_type": "error",
     "traceback": [
      "\u001b[0;31m---------------------------------------------------------------------------\u001b[0m",
      "\u001b[0;31mAttributeError\u001b[0m                            Traceback (most recent call last)",
      "Cell \u001b[0;32mIn[6], line 1\u001b[0m\n\u001b[0;32m----> 1\u001b[0m \u001b[43mlib\u001b[49m\u001b[38;5;241;43m.\u001b[39;49m\u001b[43mmat2py\u001b[49m\u001b[38;5;241;43m.\u001b[39;49m\u001b[43mgetTifStimParams\u001b[49m\u001b[43m(\u001b[49m\u001b[43mos\u001b[49m\u001b[38;5;241;43m.\u001b[39;49m\u001b[43mpath\u001b[49m\u001b[38;5;241;43m.\u001b[39;49m\u001b[43mjoin\u001b[49m\u001b[43m(\u001b[49m\u001b[43mexperimentDir\u001b[49m\u001b[43m,\u001b[49m\u001b[43mtifFileList\u001b[49m\u001b[43m[\u001b[49m\u001b[38;5;241;43m0\u001b[39;49m\u001b[43m]\u001b[49m\u001b[43m)\u001b[49m\u001b[43m)\u001b[49m\n",
      "File \u001b[0;32m~/Documents/Python/nwb/data2nwb/lib/mat2py.py:241\u001b[0m, in \u001b[0;36mgetTifStimParams\u001b[0;34m(tifFullFilePath)\u001b[0m\n\u001b[1;32m    239\u001b[0m     stimParamDict \u001b[38;5;241m=\u001b[39m extractMapParams(tempMat[\u001b[38;5;124m'\u001b[39m\u001b[38;5;124mpulse\u001b[39m\u001b[38;5;124m'\u001b[39m],tempMat[\u001b[38;5;124m'\u001b[39m\u001b[38;5;124mparams\u001b[39m\u001b[38;5;124m'\u001b[39m])\n\u001b[1;32m    240\u001b[0m \u001b[38;5;28;01melse\u001b[39;00m:\n\u001b[0;32m--> 241\u001b[0m     stimParamDict \u001b[38;5;241m=\u001b[39m \u001b[43mextractStimParams\u001b[49m\u001b[43m(\u001b[49m\u001b[43mtempMat\u001b[49m\u001b[43m[\u001b[49m\u001b[38;5;124;43m'\u001b[39;49m\u001b[38;5;124;43mpulse\u001b[39;49m\u001b[38;5;124;43m'\u001b[39;49m\u001b[43m]\u001b[49m\u001b[43m,\u001b[49m\u001b[43mtempMat\u001b[49m\u001b[43m[\u001b[49m\u001b[38;5;124;43m'\u001b[39;49m\u001b[38;5;124;43mparams\u001b[39;49m\u001b[38;5;124;43m'\u001b[39;49m\u001b[43m]\u001b[49m\u001b[43m)\u001b[49m\n\u001b[1;32m    242\u001b[0m     stim \u001b[38;5;241m=\u001b[39m stimParamDict[\u001b[38;5;124m'\u001b[39m\u001b[38;5;124mrawPulse\u001b[39m\u001b[38;5;124m'\u001b[39m]\n\u001b[1;32m    243\u001b[0m \u001b[38;5;28;01mreturn\u001b[39;00m (stimParamDict,stim)\n",
      "File \u001b[0;32m~/Documents/Python/nwb/data2nwb/lib/mat2py.py:206\u001b[0m, in \u001b[0;36mextractStimParams\u001b[0;34m(pulseStruct, triggerParamsStruct)\u001b[0m\n\u001b[1;32m    199\u001b[0m \u001b[38;5;250m\u001b[39m\u001b[38;5;124;03m\"\"\"Takes pulse and param struct from a tif .mat stim stamp \u001b[39;00m\n\u001b[1;32m    200\u001b[0m \u001b[38;5;124;03mand outputs stimulus parameters as a dict\"\"\"\u001b[39;00m\n\u001b[1;32m    202\u001b[0m stimParams \u001b[38;5;241m=\u001b[39m {\u001b[38;5;124m'\u001b[39m\u001b[38;5;124mrawPulse\u001b[39m\u001b[38;5;124m'\u001b[39m: \u001b[38;5;28mstr\u001b[39m(pulseStruct[\u001b[38;5;124m'\u001b[39m\u001b[38;5;124mpulsename\u001b[39m\u001b[38;5;124m'\u001b[39m]),\n\u001b[1;32m    203\u001b[0m              \u001b[38;5;124m'\u001b[39m\u001b[38;5;124mPulse\u001b[39m\u001b[38;5;124m'\u001b[39m: \u001b[38;5;28mstr\u001b[39m(pulseStruct[\u001b[38;5;124m'\u001b[39m\u001b[38;5;124mpulsename\u001b[39m\u001b[38;5;124m'\u001b[39m])[:\u001b[38;5;241m-\u001b[39m\u001b[38;5;241m2\u001b[39m],\\\n\u001b[1;32m    204\u001b[0m              \u001b[38;5;124m'\u001b[39m\u001b[38;5;124mdelayToEphusTrig_s\u001b[39m\u001b[38;5;124m'\u001b[39m: \u001b[38;5;28mfloat\u001b[39m(triggerParamsStruct[\u001b[38;5;124m'\u001b[39m\u001b[38;5;124mstimDelay\u001b[39m\u001b[38;5;124m'\u001b[39m])}\n\u001b[0;32m--> 206\u001b[0m stimParams\u001b[38;5;241m.\u001b[39mupdate(\u001b[43mregex\u001b[49m\u001b[38;5;241;43m.\u001b[39;49m\u001b[43msearch\u001b[49m\u001b[43m(\u001b[49m\u001b[43m_stimParamRegex\u001b[49m\u001b[43m,\u001b[49m\u001b[43mstimParams\u001b[49m\u001b[43m[\u001b[49m\u001b[38;5;124;43m'\u001b[39;49m\u001b[38;5;124;43mPulse\u001b[39;49m\u001b[38;5;124;43m'\u001b[39;49m\u001b[43m]\u001b[49m\u001b[43m)\u001b[49m\u001b[38;5;241;43m.\u001b[39;49m\u001b[43mgroupdict\u001b[49m())\n\u001b[1;32m    208\u001b[0m stimParams[\u001b[38;5;124m'\u001b[39m\u001b[38;5;124mPTfreq_Hz\u001b[39m\u001b[38;5;124m'\u001b[39m] \u001b[38;5;241m=\u001b[39m \u001b[38;5;28mint\u001b[39m(stimParams[\u001b[38;5;124m'\u001b[39m\u001b[38;5;124mPTfreq_Hz\u001b[39m\u001b[38;5;124m'\u001b[39m])\u001b[38;5;241m*\u001b[39m\u001b[38;5;241m1000\u001b[39m \u001b[38;5;28;01mif\u001b[39;00m \\\n\u001b[1;32m    209\u001b[0m                           \u001b[38;5;28mlen\u001b[39m(stimParams[\u001b[38;5;124m'\u001b[39m\u001b[38;5;124mPTfreq_Hz\u001b[39m\u001b[38;5;124m'\u001b[39m])\u001b[38;5;241m<\u001b[39m\u001b[38;5;241m3\u001b[39m \u001b[38;5;28;01melse\u001b[39;00m \u001b[38;5;28mint\u001b[39m(stimParams[\u001b[38;5;124m'\u001b[39m\u001b[38;5;124mPTfreq_Hz\u001b[39m\u001b[38;5;124m'\u001b[39m])\n\u001b[1;32m    210\u001b[0m stimParams[\u001b[38;5;124m'\u001b[39m\u001b[38;5;124mPTonset_s\u001b[39m\u001b[38;5;124m'\u001b[39m] \u001b[38;5;241m=\u001b[39m \u001b[38;5;28mfloat\u001b[39m(stimParams[\u001b[38;5;124m'\u001b[39m\u001b[38;5;124mPTonset_s\u001b[39m\u001b[38;5;124m'\u001b[39m]\u001b[38;5;241m.\u001b[39mreplace(\u001b[38;5;124m'\u001b[39m\u001b[38;5;124mpt\u001b[39m\u001b[38;5;124m'\u001b[39m,\u001b[38;5;124m'\u001b[39m\u001b[38;5;124m.\u001b[39m\u001b[38;5;124m'\u001b[39m))\n",
      "\u001b[0;31mAttributeError\u001b[0m: 'NoneType' object has no attribute 'groupdict'"
     ]
    }
   ],
   "source": [
    "lib.mat2py.getTifStimParams(os.path.join(experimentDir,tifFileList[0]))"
   ]
  },
  {
   "cell_type": "code",
   "execution_count": null,
   "metadata": {},
   "outputs": [],
   "source": []
  },
  {
   "cell_type": "markdown",
   "metadata": {},
   "source": [
    "### NWB file prep"
   ]
  },
  {
   "cell_type": "markdown",
   "metadata": {},
   "source": [
    "#### instantiate NWB file"
   ]
  },
  {
   "cell_type": "code",
   "execution_count": 10,
   "metadata": {},
   "outputs": [],
   "source": [
    "from uuid import uuid4\n",
    "from pynwb import NWBHDF5IO, NWBFile, TimeSeries\n",
    "from pynwb.image import ImageSeries\n",
    "from pynwb.ophys import (\n",
    "    CorrectedImageStack,\n",
    "    Fluorescence,\n",
    "    ImageSegmentation,\n",
    "    MotionCorrection,\n",
    "    OpticalChannel,\n",
    "    RoiResponseSeries,\n",
    "    TwoPhotonSeries,\n",
    ")"
   ]
  },
  {
   "cell_type": "code",
   "execution_count": null,
   "metadata": {},
   "outputs": [],
   "source": [
    "import lib.tifExtract\n",
    "import importlib\n",
    "importlib.reload(lib.tifExtract)\n",
    "# get metadata from first tif for session start\n",
    "session_start = lib.tifExtract.getSItifTime(os.path.join(experimentDir,tifFileList[0]))\n",
    "session_start"
   ]
  },
  {
   "cell_type": "code",
   "execution_count": null,
   "metadata": {},
   "outputs": [],
   "source": [
    "# refer to notebook for session description\n",
    "# standardize: experiment_animal_mouseLine --> pupilPTinContrast_AA0304_C57BL6J\n",
    "# see dataMapPCetal2024.txt: /media/DATA/backups/sutter2P_backup/D_drive\n",
    "\n",
    "nwbfile = NWBFile(\n",
    "    session_description=f\"pupilPTinContrast_{experimentID}_C57BL6J\",\n",
    "    identifier=str(uuid4()),\n",
    "    session_start_time=session_start,\n",
    "    experimenter=[\n",
    "        \"Cody, Patrick\",\n",
    "    ],\n",
    "    lab=\"Tzounopoulos Lab\",\n",
    "    institution=\"University of Pittsburgh\",\n",
    "    experiment_description=\"Pure tone in low and high DRC contrast with pupillometry\",\n",
    "    keywords=[\"2P\", \"CGC\", \"pupillometry\", \"DRC\"],\n",
    "    related_publications=\"10.1523/JNEUROSCI.0939-23.2024\",\n",
    ")\n"
   ]
  },
  {
   "cell_type": "markdown",
   "metadata": {},
   "source": [
    "#### set imaging plane"
   ]
  },
  {
   "cell_type": "code",
   "execution_count": 13,
   "metadata": {},
   "outputs": [],
   "source": [
    "device = nwbfile.create_device(\n",
    "    name=\"Microscope\",\n",
    "    description=\"Sutter moveable objective microscope (MOM) with mode-locked laser light (MaiTai HP) at 100-200 mW intensity through 40x0.8NA objective (Olympus) with X-Y galvanometric scanning\",\n",
    "    manufacturer=\"Sutter\",\n",
    ")\n",
    "optical_channel = OpticalChannel(\n",
    "    name=\"OpticalChannel\",\n",
    "    description=\"green channel for GCaMP\",\n",
    "    emission_lambda=525.0,\n",
    ")\n",
    "# filter FF03 525/50 (Semrock) --> 525 +/- 25 (center wavelength 525): https://www.idex-hs.com/store/product-detail/ff03_525_50_25/fl-004656"
   ]
  },
  {
   "cell_type": "code",
   "execution_count": 14,
   "metadata": {},
   "outputs": [],
   "source": [
    "# if multiple ROI sets / ROI change with time, must have different imaging plane for each ROI set --> usually the case with pre/post treatment (ZX1)\n",
    "imgPlane = {}\n",
    "for cond in roiSet:\n",
    "    imgPlane[cond] = nwbfile.create_imaging_plane(\n",
    "        name=f\"ImagingPlane{cond}\",\n",
    "        optical_channel=optical_channel,\n",
    "        imaging_rate=5.0,\n",
    "        description=\"Auditory Cortex\",\n",
    "        device=device,\n",
    "        excitation_lambda=940.0,\n",
    "        indicator=\"GFP\",\n",
    "        location=\"ACtx\",\n",
    "        grid_spacing=[145.0, 145.0],\n",
    "        grid_spacing_unit=\"micrometers\",\n",
    "        origin_coords=[-2.0, 4.25, 2.0],\n",
    "        origin_coords_unit=\"meters\",\n",
    "    )\n",
    "# “Origin coordinates are relative to bregma. First dimension corresponds to anterior-posterior axis (larger index = more anterior). \n",
    "# Second dimension corresponds to medial-lateral axis (larger index = more rightward). \n",
    "# Third dimension corresponds to dorsal-ventral axis (larger index = more ventral)."
   ]
  },
  {
   "cell_type": "markdown",
   "metadata": {},
   "source": [
    "#### set two-photon series data"
   ]
  },
  {
   "cell_type": "code",
   "execution_count": 15,
   "metadata": {},
   "outputs": [],
   "source": [
    "# add to nwb 2p series\n",
    "import lib.tifExtract\n",
    "import importlib\n",
    "importlib.reload(lib.tifExtract)\n",
    "\n",
    "fileTimesInstantiate, nFrames, frameRates, starts = [],[],[],[]\n",
    "two_p_series = []\n",
    "for i,tif in enumerate(tifFileList):\n",
    "    imgData,fileTimeInstantiate,frameCount,frameRate = lib.tifExtract.getSItifData(os.path.join(experimentDir,tif))\n",
    "    start = lib.tifExtract.secMicroSec2sec(fileTimeInstantiate-session_start)\n",
    "    two_p_ser = TwoPhotonSeries(\n",
    "        name=f\"TwoPhotonSeries_{i:03}\",\n",
    "        description=\"Raw 2p data\",\n",
    "        data=imgData,\n",
    "        imaging_plane=imgPlane[tifROI[i]],\n",
    "        rate=frameRate,\n",
    "        starting_time=start,\n",
    "        unit=\"normalized amplitude\",\n",
    "        comments=f\"file: {tif}, treatment: {treatment[i]}, fileTimeInstantiate: {fileTimeInstantiate}, nFrames: {frameCount})\",\n",
    "    )\n",
    "    two_p_series.append(two_p_ser)\n",
    "\n",
    "    fileTimesInstantiate.append(fileTimeInstantiate)\n",
    "    nFrames.append(frameCount)\n",
    "    frameRates.append(frameRate)\n",
    "    starts.append(start)\n",
    "\n",
    "    nwbfile.add_acquisition(two_p_ser)"
   ]
  },
  {
   "cell_type": "code",
   "execution_count": 28,
   "metadata": {},
   "outputs": [],
   "source": [
    "# test file write\n",
    "from lib.nwbScanImage import writeNWB\n",
    "writeNWB(outputNWBpath,nwbfile)\n",
    "# view with neurosift: neurosift {outputNWBpath}\n"
   ]
  },
  {
   "cell_type": "markdown",
   "metadata": {},
   "source": [
    "#### add motion correction data\n",
    "- shifts in animalDir/NoRMCorred/[animal]_NoRMCorreParams.mat\n",
    "    - concatenated together of length (nTifFiles * sum(tifFileList.stim.nFrames))\n",
    "    - dim of each frame is (8,8,1,2) --> can be squeezed to (8,8,2)"
   ]
  },
  {
   "cell_type": "code",
   "execution_count": 16,
   "metadata": {},
   "outputs": [],
   "source": [
    "import lib.mat2py\n",
    "import importlib\n",
    "importlib.reload(lib.mat2py)\n",
    "\n",
    "shifts,moCorrParams = lib.mat2py.getMoCorrShiftParams(os.path.join(experimentDir,motionCorrectedTifDir,moCorrMat),nFrames=nFrames)"
   ]
  },
  {
   "cell_type": "code",
   "execution_count": 17,
   "metadata": {},
   "outputs": [],
   "source": [
    "# add processing module to include motiuon corrected data\n",
    "ophys_module = nwbfile.create_processing_module(\n",
    "    name=\"ophys\", description=\"optical physiology processed data\"\n",
    ")\n",
    "motion_correction = MotionCorrection(name='Motion Corrected TwoPhotonSeries')"
   ]
  },
  {
   "cell_type": "code",
   "execution_count": 18,
   "metadata": {},
   "outputs": [],
   "source": [
    "for i,(tif,shift) in enumerate(zip(tifFileList,shifts)):\n",
    "    imgData = lib.tifExtract.getSItifData(os.path.join(experimentDir,\n",
    "                                                       motionCorrectedTifDir,\n",
    "                                                       tif.replace('.tif','_NoRMCorre.tif')),getMetadata=False)\n",
    "\n",
    "    corrected = ImageSeries(\n",
    "        name=\"corrected\",  # this must be named \"corrected\"\n",
    "        description=f\"A motion corrected image stack for acquisition {i:03}\",\n",
    "        data=imgData,\n",
    "        unit=\"na\",\n",
    "        format=\"raw\",\n",
    "        comments=f\"corrected file: {tif}\",\n",
    "        rate=frameRates[i],\n",
    "        starting_time=starts[i],\n",
    "    )\n",
    "\n",
    "    xy_translation = TimeSeries(\n",
    "        name=f\"xy_translation\",\n",
    "        description=f\"x,y translation in pixels for acquisition {i:03}\",\n",
    "        data=shift,\n",
    "        unit=\"pixels\",\n",
    "        rate=frameRates[i],\n",
    "        starting_time=starts[i],\n",
    "        control_description = (moCorrParams if i==0 else None),\n",
    "        comments=('control_description: NoRMCorreParams' if i==0 else ''),\n",
    "    )\n",
    "\n",
    "    motion_correction.add_corrected_image_stack(CorrectedImageStack(\n",
    "        corrected=corrected,\n",
    "        original=two_p_series[i],\n",
    "        xy_translation=xy_translation,\n",
    "        name=f\"motion_corrected_TwoPhotonSeries_{i:03}\"\n",
    "    ))"
   ]
  },
  {
   "cell_type": "code",
   "execution_count": null,
   "metadata": {},
   "outputs": [],
   "source": [
    "ophys_module.add(motion_correction)"
   ]
  },
  {
   "cell_type": "code",
   "execution_count": 13,
   "metadata": {},
   "outputs": [],
   "source": [
    "# test file write\n",
    "from lib.nwbScanImage import writeNWB\n",
    "writeNWB(outputNWBpath,nwbfile)\n",
    "# view with neurosift: neurosift {outputNWBpath}\n"
   ]
  },
  {
   "cell_type": "markdown",
   "metadata": {},
   "source": [
    "#### add ROI via planeSegmentation\n",
    "- in experiment dir, ROI drawn on motion corrected data saved in [animal id]_moCorrROI_*.mat\n",
    "- if no treatment file takes name [animal id]_moCorrROI_all.mat otherwise it takes form [animal id]_moCorrROI_pre[treatment].mat and [animal id]_moCorrROI_post[treatment].mat\n",
    "- if more than one condition / treatment, image segmentation must be associated with a separate imaging plane"
   ]
  },
  {
   "cell_type": "code",
   "execution_count": 20,
   "metadata": {},
   "outputs": [],
   "source": [
    "import re\n",
    "\n",
    "img_seg = ImageSegmentation()\n",
    "ophys_module.add(img_seg)\n",
    "\n",
    "plane_seg = {}\n",
    "# usually roiMat for each treatment\n",
    "for roiMat,roiCond in zip(roiMats,roiSet):    \n",
    "    roiMasks = lib.mat2py.getROImasks(roiMat)\n",
    "\n",
    "    plane_seg[roiCond] = img_seg.create_plane_segmentation(\n",
    "        name=f\"PlaneSegmentation_{roiCond}\",\n",
    "        description=f\"output from segmenting the imaging plane for {roiCond}\",\n",
    "            imaging_plane=imgPlane[roiCond],\n",
    "            reference_images=[p for p,t in zip(two_p_series,treatment) if t==roiCond],  # optional\n",
    "        )\n",
    "\n",
    "    for roiImageMask in roiMasks:\n",
    "        # add image mask to plane segmentation\n",
    "        plane_seg[roiCond].add_roi(image_mask=roiImageMask)\n"
   ]
  },
  {
   "cell_type": "code",
   "execution_count": null,
   "metadata": {},
   "outputs": [],
   "source": [
    "from matplotlib import pyplot as plt\n",
    "plt.imshow(roiMasks[0])"
   ]
  },
  {
   "cell_type": "markdown",
   "metadata": {},
   "source": [
    "#### add fluorescence traces for ROIs"
   ]
  },
  {
   "cell_type": "code",
   "execution_count": null,
   "metadata": {},
   "outputs": [],
   "source": [
    "import lib.mat2py\n",
    "import importlib\n",
    "importlib.reload(lib.mat2py)"
   ]
  },
  {
   "cell_type": "code",
   "execution_count": null,
   "metadata": {},
   "outputs": [],
   "source": [
    "# load ROI fluo data from experiment\n",
    "fluoROI = lib.mat2py.getROIfluo(os.path.join(experimentDir,fluorescenceMat))\n",
    "len(fluoROI)"
   ]
  },
  {
   "cell_type": "code",
   "execution_count": 25,
   "metadata": {},
   "outputs": [],
   "source": [
    "# roi fluorescence responses associated with a region, each region is associated with a plane segmentation (usually one per condition)\n",
    "# which has corresponding IDs for the ROI - roiResponseSeries a linked to these planesegment IDs\n",
    "roi_resp_series = []\n",
    "for cond in plane_seg:\n",
    "    rt_region = plane_seg[cond].create_roi_table_region(\n",
    "        region=plane_seg[cond].id.data, description=f\"ROI for {cond}\"\n",
    "        )\n",
    "    # only get responses in the matching treatment condition\n",
    "    responses = [(i,f,s,fr) for i,(f,t,s,fr) in enumerate(zip(fluoROI,tifROI,starts,frameRates)) if t==cond]\n",
    "    for i,f,s,fr in responses:\n",
    "        roi_resp_series.append(RoiResponseSeries(\n",
    "            name=f\"RoiResponseSeries_{i:03}\",\n",
    "            description=f\"Fluorescence responses for motion corrected ROIs for TwoPhotonSeries_{i:03}\",\n",
    "            data=f,\n",
    "            rois=rt_region,\n",
    "            unit=\"lumens\",\n",
    "            rate=fr,\n",
    "            starting_time=s\n",
    "            ))"
   ]
  },
  {
   "cell_type": "code",
   "execution_count": null,
   "metadata": {},
   "outputs": [],
   "source": [
    "# one fluorescence module, RoiResponseSeries is a list\n",
    "fl = Fluorescence(roi_response_series=roi_resp_series)\n",
    "ophys_module.add(fl)"
   ]
  },
  {
   "cell_type": "code",
   "execution_count": 34,
   "metadata": {},
   "outputs": [],
   "source": [
    "# test file write\n",
    "writeNWB(outputNWBpath,nwbfile)\n",
    "# view with neurosift: neurosift {outputNWBpath}"
   ]
  },
  {
   "cell_type": "markdown",
   "metadata": {},
   "source": [
    "#### add sound stimulus data via DynamicTable"
   ]
  },
  {
   "cell_type": "code",
   "execution_count": 27,
   "metadata": {},
   "outputs": [],
   "source": [
    "# add sound stimulus data via DynamicTable\n",
    "pulseNames = lib.mat2py.getMatCellArrayOfStr(os.path.join(experimentDir,experiment_mat),['pulseLegend2P','pulseName'])\n",
    "pulseSets = lib.mat2py.getMatCellArrayOfStr(os.path.join(experimentDir,experiment_mat),['pulseLegend2P','pulseSet'])\n",
    "tifPulse = lib.mat2py.getMatCellArrayOfStr(os.path.join(experimentDir,experiment_mat),['pulseLegend2P','tif'])\n",
    "pulseNames, pulseSets = zip(*[(pulseName,pulseSet) for t,pulseName,pulseSet in zip(tifPulse,pulseNames,pulseSets) if t in tifFileList])\n",
    "\n",
    "stimData = {\n",
    "    'fileTimeInstantiate': ('time .tif file was instantiated/created',\n",
    "                            [dt.strftime('%d-%b-%Y %H:%M:%S.%f') for dt in fileTimesInstantiate]),\n",
    "    'file': ('name of .tif file',tifFileList),\n",
    "    'nFrames': ('number of frames in .tif file',nFrames),\n",
    "    'frameRate': ('frame rate of .tif file',frameRates),\n",
    "    'pulseNames': ('sound stimulation pulse name',pulseNames),\n",
    "    'pulseSets': ('sound stimulation pulse set',pulseSets),\n",
    "    'treatment': ('treatment',treatment)\n",
    "}"
   ]
  },
  {
   "cell_type": "code",
   "execution_count": 28,
   "metadata": {},
   "outputs": [],
   "source": [
    "from hdmf.common import VectorData, DynamicTable\n",
    "\n",
    "cols = []\n",
    "for col,v in stimData.items():\n",
    "    cols.append(\n",
    "            VectorData(\n",
    "            name=col,\n",
    "            description=v[0],\n",
    "            data=v[1],\n",
    "        )\n",
    "    )\n",
    "stim_table = DynamicTable(\n",
    "    name='stim param table',\n",
    "    description='Maps sound stim parameters to .tif files',\n",
    "    columns=cols,\n",
    ")\n",
    "\n",
    "nwbfile.add_stimulus(stim_table)"
   ]
  },
  {
   "cell_type": "code",
   "execution_count": 24,
   "metadata": {},
   "outputs": [],
   "source": [
    "# test file write\n",
    "from lib.nwbScanImage import writeNWB\n",
    "writeNWB(outputNWBpath,nwbfile)\n",
    "# view with neurosift: neurosift {outputNWBpath}\n",
    "\n",
    "if addPupillometry==False:\n",
    "    print('stop here, no pupillometry')"
   ]
  },
  {
   "cell_type": "markdown",
   "metadata": {},
   "source": [
    "#### add pupillometry data\n",
    "- behavior/pupil tracking with timeSeries for pupilDiameter\n",
    "- processing/imageSeries for pupil video"
   ]
  },
  {
   "cell_type": "code",
   "execution_count": null,
   "metadata": {},
   "outputs": [],
   "source": [
    "import lib.mat2py\n",
    "import importlib\n",
    "importlib.reload(lib.mat2py)"
   ]
  },
  {
   "cell_type": "markdown",
   "metadata": {},
   "source": [
    "##### add pupil radius"
   ]
  },
  {
   "cell_type": "code",
   "execution_count": 29,
   "metadata": {},
   "outputs": [],
   "source": [
    "import numpy as np\n",
    "from pynwb.behavior import PupilTracking\n",
    "\n",
    "behavior_module = nwbfile.create_processing_module(\n",
    "    name=\"behavior\", description=\"Processed behavioral data\"\n",
    ")\n"
   ]
  },
  {
   "cell_type": "code",
   "execution_count": 47,
   "metadata": {},
   "outputs": [],
   "source": [
    "# split:\n",
    "pupilDataProcessed = lib.mat2py.getPupilDataProcessed(os.path.join(experimentDir,pupilMat))\n",
    "pupil_radii = []\n"
   ]
  },
  {
   "cell_type": "code",
   "execution_count": 48,
   "metadata": {},
   "outputs": [],
   "source": [
    "pupilFrameFiles,pupilRadius = zip(*[(f,r) for f,r in zip(pupilDataProcessed['pupilFrameFiles'],pupilDataProcessed['pupilRadius']) \n",
    "    if f.replace('_pupilFrames.mat','.tif') in tifFileList])"
   ]
  },
  {
   "cell_type": "code",
   "execution_count": 49,
   "metadata": {},
   "outputs": [],
   "source": [
    "for i,pupilFrameFile in enumerate(pupilFrameFiles):\n",
    "    pupil_radii.append(\n",
    "        TimeSeries(\n",
    "            name=f\"pupil_radius_{i:03}\",\n",
    "            description=f\"Pupil radius extracted from the video of the right eye for TwoPhotonSeries_{i:03}\",\n",
    "            data=pupilRadius[i],\n",
    "            rate=float(pupilDataProcessed['frameRate']),\n",
    "            starting_time=starts[i],\n",
    "            unit=\"na\",\n",
    "            comments=f\"pupilFrameFile: {pupilFrameFile}, associated .tif file: {tifFileList[i]}\"\n",
    "        )\n",
    "    )\n"
   ]
  },
  {
   "cell_type": "code",
   "execution_count": null,
   "metadata": {},
   "outputs": [],
   "source": [
    "pupil_tracking = PupilTracking(time_series=pupil_radii, name=\"PupilTracking\")\n",
    "\n",
    "behavior_module.add(pupil_tracking)"
   ]
  },
  {
   "cell_type": "code",
   "execution_count": 28,
   "metadata": {},
   "outputs": [],
   "source": [
    "# test file write\n",
    "writeNWB(outputNWBpath,nwbfile)\n",
    "# view with neurosift: neurosift {outputNWBpath}"
   ]
  },
  {
   "cell_type": "markdown",
   "metadata": {},
   "source": [
    "##### add pupil video\n",
    "- without video: ~1.4 GB for AA0304\n",
    "- with pupil video: ~4.6 GB for AA0304"
   ]
  },
  {
   "cell_type": "code",
   "execution_count": 51,
   "metadata": {},
   "outputs": [],
   "source": [
    "pupilVideoSeries = []\n",
    "\n",
    "for i,pupilFrameFile in enumerate(pupilFrameFiles):\n",
    "    pupilVideoSeries.append(\n",
    "        ImageSeries(\n",
    "            name=f\"pupil_video_{i:03}\",\n",
    "            description=f\"Pupil video of the right eye for TwoPhotonSeries_{i:03}\",\n",
    "            data=lib.mat2py.getPupilImg(os.path.join(experimentDir,pupilFrameFile)),\n",
    "            rate=float(pupilDataProcessed['frameRate']),\n",
    "            starting_time=starts[i],\n",
    "            unit=\"na\",\n",
    "            comments=f\"pupilFrameFile: {pupilFrameFile}, associated .tif file: {tifFileList[i]}\"\n",
    "        )\n",
    "    )"
   ]
  },
  {
   "cell_type": "code",
   "execution_count": null,
   "metadata": {},
   "outputs": [],
   "source": [
    "behavior_module.add(pupilVideoSeries)"
   ]
  },
  {
   "cell_type": "code",
   "execution_count": 58,
   "metadata": {},
   "outputs": [],
   "source": [
    "# test file write\n",
    "from lib.nwbScanImage import writeNWB\n",
    "writeNWB(outputNWBpath,nwbfile,overWrite=True)\n",
    "# view with neurosift: neurosift {outputNWBpath}"
   ]
  },
  {
   "cell_type": "markdown",
   "metadata": {},
   "source": [
    "# ScanImage --> NWB function"
   ]
  },
  {
   "cell_type": "code",
   "execution_count": null,
   "metadata": {},
   "outputs": [],
   "source": [
    "# import lib.nwbScanImage\n",
    "\n",
    "# import importlib\n",
    "# importlib.reload(lib.nwbScanImage)\n",
    "\n",
    "# experimentID = 'AA0314'\n",
    "\n",
    "# dataPath = \"/media/DATA/backups/sutter2P_backup/D_drive/dataSince20210304\"\n",
    "# outputNWBpath = os.path.join(dataPath,experimentID,f\"{experimentID}.nwb\")\n",
    "\n",
    "# session_description = f\"pupilPTinContrast_{experimentID}_C57BL6J\"\n",
    "# experiment_description = \"Pure tone in low and high DRC contrast with pupillometry\"\n",
    "# keywords = [\"2P\", \"CGC\", \"pupillometry\", \"DRC\"]\n",
    "\n",
    "# lib.nwbScanImage.genNWBfromScanImage_pc_concat(\n",
    "#     experimentID=experimentID, \n",
    "#     dataPath=dataPath, \n",
    "#     NWBoutputPath=outputNWBpath,\n",
    "#     session_description=session_description,\n",
    "#     experiment_description=experiment_description,\n",
    "#     keywords=keywords,\n",
    "#     **lib.nwbScanImage.PARAMS_nwbFilePC,\n",
    "#     **lib.nwbScanImage.PARAMS_imagingPC\n",
    "# )"
   ]
  },
  {
   "cell_type": "code",
   "execution_count": null,
   "metadata": {},
   "outputs": [],
   "source": [
    "# import os\n",
    "# import lib.nwbScanImage\n",
    "\n",
    "# import importlib\n",
    "# importlib.reload(lib.nwbScanImage)\n",
    "\n",
    "# experimentID = 'AA0308'\n",
    "# # /media/DATA/backups/sutter2P_backup/D_drive/ZnT3_pupil/BIN2/AA0323\n",
    "# #  /media/DATA/backups/sutter2P_backup/D_drive/dataSince20210304/AA0308\n",
    "# dataPath = \"/media/DATA/backups/sutter2P_backup/D_drive/dataSince20210304\"\n",
    "# outputNWBpath = os.path.join(dataPath,experimentID,f\"{experimentID}.nwb\")\n",
    "\n",
    "# session_description = f\"pupilPTinContrast_{experimentID}_C57BL6J\"\n",
    "# experiment_description = \"Pure tone in low and high DRC contrast with pupillometry\"\n",
    "# keywords = [\"2P\", \"CGC\", \"pupillometry\", \"DRC\"]\n",
    "\n",
    "# lib.nwbScanImage.genNWBfromScanImage_pc_concat(\n",
    "#     experimentID=experimentID, \n",
    "#     dataPath=dataPath, \n",
    "#     NWBoutputPath=outputNWBpath,\n",
    "#     session_description=session_description,\n",
    "#     experiment_description=experiment_description,\n",
    "#     keywords=keywords,\n",
    "#     **lib.nwbScanImage.PARAMS_nwbFilePC,\n",
    "#     **lib.nwbScanImage.PARAMS_imagingPC\n",
    "# )"
   ]
  },
  {
   "cell_type": "code",
   "execution_count": 1,
   "metadata": {},
   "outputs": [
    {
     "name": "stdout",
     "output_type": "stream",
     "text": [
      "stim\n",
      "[('AA0314AAAA_00010_00001.tif', 170.0, 'preZX1'), ('AA0314AAAA_00011_00001.tif', 170.0, 'preZX1'), ('AA0314AAAA_00012_00001.tif', 170.0, 'preZX1'), ('AA0314AAAA_00013_00001.tif', 170.0, 'preZX1'), ('AA0314AAAA_00014_00001.tif', 170.0, 'preZX1'), ('AA0314AAAA_00015_00001.tif', 170.0, 'preZX1'), ('AA0314AAAA_00016_00001.tif', 170.0, 'preZX1'), ('AA0314AAAA_00017_00001.tif', 170.0, 'preZX1'), ('AA0314AAAA_00018_00001.tif', 170.0, 'preZX1'), ('AA0314AAAA_00019_00001.tif', 170.0, 'preZX1'), ('AA0314AAAA_00020_00001.tif', 170.0, 'preZX1'), ('AA0314AAAA_00021_00001.tif', 170.0, 'preZX1'), ('AA0314AAAA_00022_00001.tif', 170.0, 'preZX1'), ('AA0314AAAA_00023_00001.tif', 170.0, 'preZX1'), ('AA0314AAAA_00024_00001.tif', 170.0, 'preZX1'), ('AA0314AAAA_00025_00001.tif', 170.0, 'preZX1'), ('AA0314AAAA_00026_00001.tif', 120.0, 'preZX1'), ('AA0314AAAA_00029_00001.tif', 120.0, 'preZX1'), ('AA0314AAAA_00030_00001.tif', 120.0, 'preZX1'), ('AA0314AAAA_00031_00001.tif', 120.0, 'preZX1'), ('AA0314AAAA_00032_00001.tif', 120.0, 'preZX1'), ('AA0314AAAA_00033_00001.tif', 120.0, 'preZX1'), ('AA0314AAAA_00035_00001.tif', 120.0, 'preZX1'), ('AA0314AAAA_00036_00001.tif', 120.0, 'preZX1'), ('AA0314AAAA_00037_00001.tif', 120.0, 'preZX1'), ('AA0314AAAA_00038_00001.tif', 120.0, 'preZX1'), ('AA0314AAAA_00039_00001.tif', 120.0, 'preZX1'), ('AA0314AAAA_00040_00001.tif', 120.0, 'preZX1'), ('AA0314AAAA_00041_00001.tif', 120.0, 'preZX1'), ('AA0314AAAA_00042_00001.tif', 120.0, 'preZX1'), ('AA0314AAAA_00043_00001.tif', 170.0, 'preZX1'), ('AA0314AAAA_00044_00001.tif', 170.0, 'preZX1'), ('AA0314AAAA_00045_00001.tif', 170.0, 'preZX1'), ('AA0314AAAA_00046_00001.tif', 170.0, 'preZX1'), ('AA0314AAAA_00047_00001.tif', 170.0, 'preZX1'), ('AA0314AAAA_00048_00001.tif', 170.0, 'preZX1'), ('AA0314AAAA_00049_00001.tif', 170.0, 'preZX1'), ('AA0314AAAA_00050_00001.tif', 170.0, 'preZX1'), ('AA0314AAAA_00051_00001.tif', 170.0, 'preZX1'), ('AA0314AAAA_00052_00001.tif', 170.0, 'postZX1'), ('AA0314AAAA_00053_00001.tif', 170.0, 'postZX1'), ('AA0314AAAA_00054_00001.tif', 170.0, 'postZX1'), ('AA0314AAAA_00055_00001.tif', 170.0, 'postZX1'), ('AA0314AAAA_00056_00001.tif', 170.0, 'postZX1'), ('AA0314AAAA_00057_00001.tif', 170.0, 'postZX1'), ('AA0314AAAA_00058_00001.tif', 170.0, 'postZX1'), ('AA0314AAAA_00059_00001.tif', 170.0, 'postZX1'), ('AA0314AAAA_00060_00001.tif', 170.0, 'postZX1'), ('AA0314AAAA_00061_00001.tif', 170.0, 'postZX1'), ('AA0314AAAA_00062_00001.tif', 170.0, 'postZX1'), ('AA0314AAAA_00063_00001.tif', 170.0, 'postZX1'), ('AA0314AAAA_00064_00001.tif', 170.0, 'postZX1'), ('AA0314AAAA_00065_00001.tif', 170.0, 'postZX1'), ('AA0314AAAA_00066_00001.tif', 170.0, 'postZX1'), ('AA0314AAAA_00067_00001.tif', 170.0, 'postZX1'), ('AA0314AAAA_00068_00001.tif', 120.0, 'postZX1'), ('AA0314AAAA_00069_00001.tif', 120.0, 'postZX1'), ('AA0314AAAA_00070_00001.tif', 120.0, 'postZX1'), ('AA0314AAAA_00071_00001.tif', 120.0, 'postZX1'), ('AA0314AAAA_00072_00001.tif', 120.0, 'postZX1'), ('AA0314AAAA_00073_00001.tif', 120.0, 'postZX1'), ('AA0314AAAA_00074_00001.tif', 120.0, 'postZX1'), ('AA0314AAAA_00076_00001.tif', 120.0, 'postZX1'), ('AA0314AAAA_00077_00001.tif', 120.0, 'postZX1'), ('AA0314AAAA_00078_00001.tif', 120.0, 'postZX1'), ('AA0314AAAA_00079_00001.tif', 120.0, 'postZX1'), ('AA0314AAAA_00080_00001.tif', 120.0, 'postZX1'), ('AA0314AAAA_00081_00001.tif', 120.0, 'postZX1'), ('AA0314AAAA_00082_00001.tif', 120.0, 'postZX1'), ('AA0314AAAA_00083_00001.tif', 120.0, 'postZX1'), ('AA0314AAAA_00084_00001.tif', 170.0, 'postZX1'), ('AA0314AAAA_00085_00001.tif', 170.0, 'postZX1'), ('AA0314AAAA_00086_00001.tif', 170.0, 'postZX1'), ('AA0314AAAA_00087_00001.tif', 170.0, 'postZX1'), ('AA0314AAAA_00088_00001.tif', 170.0, 'postZX1'), ('AA0314AAAA_00089_00001.tif', 170.0, 'postZX1'), ('AA0314AAAA_00090_00001.tif', 170.0, 'postZX1'), ('AA0314AAAA_00091_00001.tif', 170.0, 'postZX1'), ('AA0314AAAA_00092_00001.tif', 170.0, 'postZX1'), ('AA0314AAAA_00094_00001.tif', 120.0, 'postZX1'), ('AA0314AAAA_00095_00001.tif', 120.0, 'postZX1'), ('AA0314AAAA_00096_00001.tif', 150.0, 'postZX1'), ('AA0314AAAA_00097_00001.tif', 150.0, 'postZX1'), ('AA0314AAAA_00098_00001.tif', 150.0, 'postZX1'), ('AA0314AAAA_00099_00001.tif', 150.0, 'postZX1')]\n"
     ]
    },
    {
     "name": "stderr",
     "output_type": "stream",
     "text": [
      "/home/pac/Documents/Python/nwb/venvNWB/lib/python3.12/site-packages/pynwb/file.py:472: UserWarning: Date is missing timezone information. Updating to local timezone.\n",
      "  args_to_set['session_start_time'] = _add_missing_timezone(session_start_time)\n"
     ]
    },
    {
     "name": "stdout",
     "output_type": "stream",
     "text": [
      "added 2P data\n",
      "added motion correction data\n",
      "added ROI segmentation data\n"
     ]
    },
    {
     "name": "stderr",
     "output_type": "stream",
     "text": [
      "/home/pac/Documents/Python/nwb/venvNWB/lib/python3.12/site-packages/hdmf/container.py:536: UserWarning: The linked table for DynamicTableRegion 'rois' does not share an ancestor with the DynamicTableRegion.\n",
      "  child._validate_on_set_parent()\n"
     ]
    },
    {
     "name": "stdout",
     "output_type": "stream",
     "text": [
      "added fluorescence trace data for ROIs\n",
      "added stim table data\n",
      "found pupillometry data for AA0314\n",
      "added pupil radius data\n",
      "added pupil video data\n",
      "NWB write success to: /media/DATA/backups/sutter2P_backup/D_drive/dataSince20210304/AA0314/AA0314.nwb\n"
     ]
    }
   ],
   "source": [
    "# after fix to file by file\n",
    "import sys\n",
    "sys.path.insert(1, '../')\n",
    "import os\n",
    "import lib.nwbScanImage\n",
    "\n",
    "import importlib\n",
    "importlib.reload(lib.nwbScanImage)\n",
    "\n",
    "# AA0314 took ~3 minutes to run\n",
    "experimentID = 'AA0314'\n",
    "# /media/DATA/backups/sutter2P_backup/D_drive/ZnT3_pupil/BIN2/AA0323\n",
    "#  /media/DATA/backups/sutter2P_backup/D_drive/dataSince20210304/AA0308\n",
    "dataPath = \"/media/DATA/backups/sutter2P_backup/D_drive/dataSince20210304\"\n",
    "outputNWBpath = os.path.join(dataPath,experimentID,f\"{experimentID}.nwb\")\n",
    "\n",
    "session_description = f\"pupilPTinContrast_{experimentID}_C57BL6J\"\n",
    "experiment_description = \"Pure tone in low and high DRC contrast with pupillometry\"\n",
    "keywords = [\"2P\", \"CGC\", \"pupillometry\", \"DRC\"]\n",
    "\n",
    "lib.nwbScanImage.genNWBfromScanImage_pc(\n",
    "    experimentID=experimentID, \n",
    "    dataPath=dataPath, \n",
    "    NWBoutputPath=outputNWBpath,\n",
    "    session_description=session_description,\n",
    "    experiment_description=experiment_description,\n",
    "    keywords=keywords,\n",
    "    **lib.nwbScanImage.PARAMS_nwbFilePC,\n",
    "    **lib.nwbScanImage.PARAMS_imagingPC\n",
    ")"
   ]
  },
  {
   "cell_type": "code",
   "execution_count": null,
   "metadata": {},
   "outputs": [],
   "source": [
    "# after fix to file by file\n",
    "import sys\n",
    "sys.path.insert(1, '../')\n",
    "import os\n",
    "import lib.nwbScanImage\n",
    "\n",
    "import importlib\n",
    "importlib.reload(lib.nwbScanImage)\n",
    "\n",
    "# AA0314 took ~3 minutes to run\n",
    "# /media/DATA/backups/sutter2P_backup/D_drive/ZnT3_pupil/BIN2/AA0323\n",
    "#  /media/DATA/backups/sutter2P_backup/D_drive/dataSince20210304/AA0308\n",
    "dataPath = \"/media/DATA/backups/sutter2P_backup/D_drive/ZnT3_pupil/BIN2\"\n",
    "experimentID = \"AA0330\"\n",
    "outputNWBpath = os.path.join(dataPath,experimentID,f\"{experimentID}.nwb\")\n",
    "\n",
    "session_description = f\"test_{experimentID}_test\"\n",
    "experiment_description = \"Pure tone in low and high DRC contrast with pupillometry\"\n",
    "keywords = [\"2P\", \"CGC\", \"pupillometry\", \"DRC\"]\n",
    "\n",
    "lib.nwbScanImage.genNWBfromScanImage_pc(\n",
    "    experimentID=experimentID, \n",
    "    dataPath=dataPath, \n",
    "    NWBoutputPath=outputNWBpath,\n",
    "    session_description=session_description,\n",
    "    experiment_description=experiment_description,\n",
    "    keywords=keywords,\n",
    "    **lib.nwbScanImage.PARAMS_nwbFilePC,\n",
    "    **lib.nwbScanImage.PARAMS_imagingPC\n",
    ")"
   ]
  },
  {
   "cell_type": "code",
   "execution_count": null,
   "metadata": {},
   "outputs": [],
   "source": [
    "# after fix to file by file\n",
    "import sys\n",
    "sys.path.insert(1, '../')\n",
    "import os\n",
    "import lib.nwbScanImage\n",
    "\n",
    "import importlib\n",
    "importlib.reload(lib.nwbScanImage)\n",
    "\n",
    "experimentID = 'AA0304'\n",
    "# /media/DATA/backups/sutter2P_backup/D_drive/ZnT3_pupil/BIN2/AA0323\n",
    "#  /media/DATA/backups/sutter2P_backup/D_drive/dataSince20210304/AA0308\n",
    "dataPath = \"/media/DATA/backups/sutter2P_backup/D_drive/dataSince20210304\"\n",
    "outputNWBpath = os.path.join(dataPath,experimentID,f\"{experimentID}.nwb\")\n",
    "\n",
    "session_description = f\"pupilPTinContrast_{experimentID}_C57BL6J\"\n",
    "experiment_description = \"Pure tone in low and high DRC contrast with pupillometry\"\n",
    "keywords = [\"2P\", \"CGC\", \"pupillometry\", \"DRC\"]\n",
    "\n",
    "lib.nwbScanImage.genNWBfromScanImage_pc(\n",
    "    experimentID=experimentID, \n",
    "    dataPath=dataPath, \n",
    "    NWBoutputPath=outputNWBpath,\n",
    "    session_description=session_description,\n",
    "    experiment_description=experiment_description,\n",
    "    keywords=keywords,\n",
    "    **lib.nwbScanImage.PARAMS_nwbFilePC,\n",
    "    **lib.nwbScanImage.PARAMS_imagingPC\n",
    ")"
   ]
  },
  {
   "cell_type": "markdown",
   "metadata": {},
   "source": [
    "## run NWB build over multiple directories"
   ]
  },
  {
   "cell_type": "code",
   "execution_count": 1,
   "metadata": {},
   "outputs": [
    {
     "name": "stdout",
     "output_type": "stream",
     "text": [
      "NWB file already created for AA0304\n",
      "NWB file already created for AA0308\n",
      "NWB file already created for AA0310\n",
      "NWB file already created for AA0312\n",
      "NWB file already created for AA0314\n",
      "[('AA0315AAAA_00010_00001.tif', 170.0, 'preZX1'), ('AA0315AAAA_00011_00001.tif', 170.0, 'preZX1'), ('AA0315AAAA_00012_00001.tif', 170.0, 'preZX1'), ('AA0315AAAA_00013_00001.tif', 170.0, 'preZX1'), ('AA0315AAAA_00014_00001.tif', 170.0, 'preZX1'), ('AA0315AAAA_00015_00001.tif', 170.0, 'preZX1'), ('AA0315AAAA_00016_00001.tif', 170.0, 'preZX1'), ('AA0315AAAA_00017_00001.tif', 170.0, 'preZX1'), ('AA0315AAAA_00018_00001.tif', 170.0, 'preZX1'), ('AA0315AAAA_00019_00001.tif', 170.0, 'preZX1'), ('AA0315AAAA_00020_00001.tif', 170.0, 'preZX1'), ('AA0315AAAA_00021_00001.tif', 170.0, 'preZX1'), ('AA0315AAAA_00022_00001.tif', 170.0, 'preZX1'), ('AA0315AAAA_00023_00001.tif', 170.0, 'preZX1'), ('AA0315AAAA_00024_00001.tif', 170.0, 'preZX1'), ('AA0315AAAA_00025_00001.tif', 170.0, 'preZX1'), ('AA0315AAAA_00027_00001.tif', 120.0, 'preZX1'), ('AA0315AAAA_00031_00001.tif', 120.0, 'preZX1'), ('AA0315AAAA_00032_00001.tif', 120.0, 'preZX1'), ('AA0315AAAA_00033_00001.tif', 120.0, 'preZX1'), ('AA0315AAAA_00034_00001.tif', 120.0, 'preZX1'), ('AA0315AAAA_00035_00001.tif', 120.0, 'preZX1'), ('AA0315AAAA_00036_00001.tif', 120.0, 'preZX1'), ('AA0315AAAA_00037_00001.tif', 120.0, 'preZX1'), ('AA0315AAAA_00039_00001.tif', 120.0, 'preZX1'), ('AA0315AAAA_00040_00001.tif', 120.0, 'preZX1'), ('AA0315AAAA_00041_00001.tif', 120.0, 'preZX1'), ('AA0315AAAA_00042_00001.tif', 120.0, 'preZX1'), ('AA0315AAAA_00043_00001.tif', 120.0, 'preZX1'), ('AA0315AAAA_00044_00001.tif', 170.0, 'preZX1'), ('AA0315AAAA_00045_00001.tif', 170.0, 'preZX1'), ('AA0315AAAA_00046_00001.tif', 170.0, 'preZX1'), ('AA0315AAAA_00047_00001.tif', 170.0, 'preZX1'), ('AA0315AAAA_00048_00001.tif', 170.0, 'preZX1'), ('AA0315AAAA_00049_00001.tif', 170.0, 'preZX1'), ('AA0315AAAA_00050_00001.tif', 170.0, 'preZX1'), ('AA0315AAAA_00051_00001.tif', 170.0, 'preZX1'), ('AA0315AAAA_00052_00001.tif', 170.0, 'preZX1'), ('AA0315AAAA_00053_00001.tif', 170.0, 'preZX1'), ('AA0315AAAA_00054_00001.tif', 120.0, 'preZX1'), ('AA0315AAAA_00055_00001.tif', 120.0, 'preZX1'), ('AA0315AAAA_00056_00001.tif', 120.0, 'preZX1'), ('AA0315AAAA_00057_00001.tif', 120.0, 'preZX1'), ('AA0315AAAA_00058_00001.tif', 120.0, 'preZX1'), ('AA0315AAAA_00059_00001.tif', 120.0, 'preZX1'), ('AA0315AAAA_00060_00001.tif', 120.0, 'preZX1'), ('AA0315AAAA_00062_00001.tif', 120.0, 'preZX1'), ('AA0315AAAA_00063_00001.tif', 170.0, 'postZX1'), ('AA0315AAAA_00064_00001.tif', 170.0, 'postZX1'), ('AA0315AAAA_00065_00001.tif', 170.0, 'postZX1'), ('AA0315AAAA_00066_00001.tif', 170.0, 'postZX1'), ('AA0315AAAA_00067_00001.tif', 170.0, 'postZX1'), ('AA0315AAAA_00068_00001.tif', 170.0, 'postZX1'), ('AA0315AAAA_00069_00001.tif', 170.0, 'postZX1'), ('AA0315AAAA_00070_00001.tif', 170.0, 'postZX1'), ('AA0315AAAA_00071_00001.tif', 170.0, 'postZX1'), ('AA0315AAAA_00072_00001.tif', 170.0, 'postZX1'), ('AA0315AAAA_00073_00001.tif', 170.0, 'postZX1'), ('AA0315AAAA_00074_00001.tif', 170.0, 'postZX1'), ('AA0315AAAA_00075_00001.tif', 170.0, 'postZX1'), ('AA0315AAAA_00076_00001.tif', 170.0, 'postZX1'), ('AA0315AAAA_00077_00001.tif', 170.0, 'postZX1'), ('AA0315AAAA_00078_00001.tif', 170.0, 'postZX1'), ('AA0315AAAA_00079_00001.tif', 120.0, 'postZX1'), ('AA0315AAAA_00080_00001.tif', 120.0, 'postZX1'), ('AA0315AAAA_00081_00001.tif', 120.0, 'postZX1'), ('AA0315AAAA_00082_00001.tif', 120.0, 'postZX1'), ('AA0315AAAA_00083_00001.tif', 120.0, 'postZX1'), ('AA0315AAAA_00084_00001.tif', 120.0, 'postZX1'), ('AA0315AAAA_00085_00001.tif', 120.0, 'postZX1'), ('AA0315AAAA_00086_00001.tif', 120.0, 'postZX1'), ('AA0315AAAA_00087_00001.tif', 120.0, 'postZX1'), ('AA0315AAAA_00088_00001.tif', 120.0, 'postZX1'), ('AA0315AAAA_00089_00001.tif', 120.0, 'postZX1'), ('AA0315AAAA_00090_00001.tif', 120.0, 'postZX1'), ('AA0315AAAA_00091_00001.tif', 170.0, 'postZX1'), ('AA0315AAAA_00092_00001.tif', 170.0, 'postZX1'), ('AA0315AAAA_00093_00001.tif', 170.0, 'postZX1'), ('AA0315AAAA_00094_00001.tif', 170.0, 'postZX1'), ('AA0315AAAA_00095_00001.tif', 170.0, 'postZX1'), ('AA0315AAAA_00096_00001.tif', 170.0, 'postZX1'), ('AA0315AAAA_00097_00001.tif', 170.0, 'postZX1'), ('AA0315AAAA_00098_00001.tif', 170.0, 'postZX1'), ('AA0315AAAA_00099_00001.tif', 170.0, 'postZX1'), ('AA0315AAAA_00100_00001.tif', 170.0, 'postZX1'), ('AA0315AAAA_00101_00001.tif', 170.0, 'postZX1'), ('AA0315AAAA_00102_00001.tif', 120.0, 'postZX1'), ('AA0315AAAA_00103_00001.tif', 120.0, 'postZX1'), ('AA0315AAAA_00104_00001.tif', 120.0, 'postZX1'), ('AA0315AAAA_00105_00001.tif', 120.0, 'postZX1'), ('AA0315AAAA_00106_00001.tif', 120.0, 'postZX1'), ('AA0315AAAA_00107_00001.tif', 120.0, 'postZX1'), ('AA0315AAAA_00108_00001.tif', 120.0, 'postZX1'), ('AA0315AAAA_00109_00001.tif', 120.0, 'postZX1'), ('AA0315AAAA_00110_00001.tif', 120.0, 'postZX1'), ('AA0315AAAA_00111_00001.tif', 120.0, 'postZX1'), ('AA0315AAAA_00112_00001.tif', 150.0, 'postZX1'), ('AA0315AAAA_00113_00001.tif', 150.0, 'postZX1'), ('AA0315AAAA_00114_00001.tif', 150.0, 'postZX1'), ('AA0315AAAA_00115_00001.tif', 150.0, 'postZX1')]\n"
     ]
    },
    {
     "name": "stderr",
     "output_type": "stream",
     "text": [
      "/home/pac/Documents/Python/nwb/venvNWB/lib/python3.12/site-packages/pynwb/file.py:472: UserWarning: Date is missing timezone information. Updating to local timezone.\n",
      "  args_to_set['session_start_time'] = _add_missing_timezone(session_start_time)\n"
     ]
    },
    {
     "name": "stdout",
     "output_type": "stream",
     "text": [
      "added 2P data\n",
      "added motion correction data\n",
      "added ROI segmentation data\n"
     ]
    },
    {
     "name": "stderr",
     "output_type": "stream",
     "text": [
      "/home/pac/Documents/Python/nwb/venvNWB/lib/python3.12/site-packages/hdmf/container.py:536: UserWarning: The linked table for DynamicTableRegion 'rois' does not share an ancestor with the DynamicTableRegion.\n",
      "  child._validate_on_set_parent()\n"
     ]
    },
    {
     "name": "stdout",
     "output_type": "stream",
     "text": [
      "added fluorescence trace data for ROIs\n",
      "added stim table data\n",
      "found pupillometry data for AA0315\n",
      "added pupil radius data\n",
      "added pupil video data\n",
      "NWB write success to: /media/DATA/backups/sutter2P_backup/D_drive/dataSince20210304/AA0315/AA0315.nwb\n",
      "[('AA0318AAAA_00011_00001.tif', 170.0, 'preZX1'), ('AA0318AAAA_00012_00001.tif', 170.0, 'preZX1'), ('AA0318AAAA_00013_00001.tif', 170.0, 'preZX1'), ('AA0318AAAA_00014_00001.tif', 170.0, 'preZX1'), ('AA0318AAAA_00015_00001.tif', 170.0, 'preZX1'), ('AA0318AAAA_00016_00001.tif', 170.0, 'preZX1'), ('AA0318AAAA_00017_00001.tif', 170.0, 'preZX1'), ('AA0318AAAA_00018_00001.tif', 170.0, 'preZX1'), ('AA0318AAAA_00019_00001.tif', 170.0, 'preZX1'), ('AA0318AAAA_00020_00001.tif', 170.0, 'preZX1'), ('AA0318AAAA_00021_00001.tif', 170.0, 'preZX1'), ('AA0318AAAA_00022_00001.tif', 170.0, 'preZX1'), ('AA0318AAAA_00023_00001.tif', 170.0, 'preZX1'), ('AA0318AAAA_00024_00001.tif', 170.0, 'preZX1'), ('AA0318AAAA_00025_00001.tif', 170.0, 'preZX1'), ('AA0318AAAA_00026_00001.tif', 170.0, 'preZX1'), ('AA0318AAAA_00039_00001.tif', 120.0, 'preZX1'), ('AA0318AAAA_00040_00001.tif', 120.0, 'preZX1'), ('AA0318AAAA_00041_00001.tif', 120.0, 'preZX1'), ('AA0318AAAA_00042_00001.tif', 120.0, 'preZX1'), ('AA0318AAAA_00043_00001.tif', 120.0, 'preZX1'), ('AA0318AAAA_00044_00001.tif', 120.0, 'preZX1'), ('AA0318AAAA_00045_00001.tif', 120.0, 'preZX1'), ('AA0318AAAA_00046_00001.tif', 120.0, 'preZX1'), ('AA0318AAAA_00047_00001.tif', 170.0, 'preZX1'), ('AA0318AAAA_00048_00001.tif', 170.0, 'preZX1'), ('AA0318AAAA_00049_00001.tif', 170.0, 'preZX1'), ('AA0318AAAA_00050_00001.tif', 170.0, 'preZX1'), ('AA0318AAAA_00051_00001.tif', 170.0, 'preZX1'), ('AA0318AAAA_00052_00001.tif', 170.0, 'preZX1'), ('AA0318AAAA_00053_00001.tif', 170.0, 'preZX1'), ('AA0318AAAA_00054_00001.tif', 170.0, 'preZX1'), ('AA0318AAAA_00055_00001.tif', 170.0, 'preZX1'), ('AA0318AAAA_00056_00001.tif', 170.0, 'preZX1'), ('AA0318AAAA_00057_00001.tif', 170.0, 'preZX1'), ('AA0318AAAA_00058_00001.tif', 170.0, 'preZX1'), ('AA0318AAAA_00059_00001.tif', 120.0, 'preZX1'), ('AA0318AAAA_00060_00001.tif', 120.0, 'preZX1'), ('AA0318AAAA_00061_00001.tif', 120.0, 'preZX1'), ('AA0318AAAA_00062_00001.tif', 120.0, 'preZX1'), ('AA0318AAAA_00063_00001.tif', 120.0, 'preZX1'), ('AA0318AAAA_00064_00001.tif', 120.0, 'preZX1'), ('AA0318AAAA_00065_00001.tif', 120.0, 'preZX1'), ('AA0318AAAA_00066_00001.tif', 120.0, 'preZX1'), ('AA0318AAAA_00067_00001.tif', 120.0, 'preZX1'), ('AA0318AAAA_00068_00001.tif', 120.0, 'preZX1'), ('AA0318AAAA_00069_00001.tif', 120.0, 'preZX1'), ('AA0318AAAA_00070_00001.tif', 120.0, 'preZX1'), ('AA0318AAAA_00071_00001.tif', 120.0, 'preZX1'), ('AA0318AAAA_00072_00001.tif', 120.0, 'preZX1'), ('AA0318AAAA_00073_00001.tif', 120.0, 'preZX1'), ('AA0318AAAA_00074_00001.tif', 120.0, 'preZX1'), ('AA0318AAAA_00075_00001.tif', 120.0, 'postZX1'), ('AA0318AAAA_00076_00001.tif', 120.0, 'postZX1'), ('AA0318AAAA_00077_00001.tif', 120.0, 'postZX1'), ('AA0318AAAA_00078_00001.tif', 120.0, 'postZX1'), ('AA0318AAAA_00079_00001.tif', 120.0, 'postZX1'), ('AA0318AAAA_00080_00001.tif', 120.0, 'postZX1'), ('AA0318AAAA_00081_00001.tif', 120.0, 'postZX1'), ('AA0318AAAA_00082_00001.tif', 120.0, 'postZX1'), ('AA0318AAAA_00083_00001.tif', 170.0, 'postZX1'), ('AA0318AAAA_00084_00001.tif', 170.0, 'postZX1'), ('AA0318AAAA_00085_00001.tif', 170.0, 'postZX1'), ('AA0318AAAA_00086_00001.tif', 170.0, 'postZX1'), ('AA0318AAAA_00087_00001.tif', 170.0, 'postZX1'), ('AA0318AAAA_00088_00001.tif', 170.0, 'postZX1'), ('AA0318AAAA_00089_00001.tif', 170.0, 'postZX1'), ('AA0318AAAA_00090_00001.tif', 170.0, 'postZX1'), ('AA0318AAAA_00091_00001.tif', 120.0, 'postZX1'), ('AA0318AAAA_00092_00001.tif', 120.0, 'postZX1'), ('AA0318AAAA_00093_00001.tif', 120.0, 'postZX1'), ('AA0318AAAA_00094_00001.tif', 120.0, 'postZX1'), ('AA0318AAAA_00095_00001.tif', 120.0, 'postZX1'), ('AA0318AAAA_00096_00001.tif', 120.0, 'postZX1'), ('AA0318AAAA_00097_00001.tif', 120.0, 'postZX1'), ('AA0318AAAA_00098_00001.tif', 120.0, 'postZX1'), ('AA0318AAAA_00099_00001.tif', 120.0, 'postZX1'), ('AA0318AAAA_00100_00001.tif', 170.0, 'postZX1'), ('AA0318AAAA_00101_00001.tif', 170.0, 'postZX1'), ('AA0318AAAA_00102_00001.tif', 170.0, 'postZX1'), ('AA0318AAAA_00103_00001.tif', 170.0, 'postZX1'), ('AA0318AAAA_00104_00001.tif', 170.0, 'postZX1'), ('AA0318AAAA_00105_00001.tif', 170.0, 'postZX1'), ('AA0318AAAA_00106_00001.tif', 170.0, 'postZX1'), ('AA0318AAAA_00107_00001.tif', 170.0, 'postZX1'), ('AA0318AAAA_00108_00001.tif', 120.0, 'postZX1'), ('AA0318AAAA_00109_00001.tif', 120.0, 'postZX1'), ('AA0318AAAA_00110_00001.tif', 120.0, 'postZX1'), ('AA0318AAAA_00111_00001.tif', 120.0, 'postZX1'), ('AA0318AAAA_00112_00001.tif', 120.0, 'postZX1'), ('AA0318AAAA_00113_00001.tif', 120.0, 'postZX1'), ('AA0318AAAA_00114_00001.tif', 120.0, 'postZX1'), ('AA0318AAAA_00115_00001.tif', 120.0, 'postZX1'), ('AA0318AAAA_00116_00001.tif', 170.0, 'postZX1'), ('AA0318AAAA_00117_00001.tif', 170.0, 'postZX1'), ('AA0318AAAA_00118_00001.tif', 170.0, 'postZX1'), ('AA0318AAAA_00119_00001.tif', 170.0, 'postZX1'), ('AA0318AAAA_00120_00001.tif', 170.0, 'postZX1'), ('AA0318AAAA_00121_00001.tif', 170.0, 'postZX1'), ('AA0318AAAA_00122_00001.tif', 170.0, 'postZX1'), ('AA0318AAAA_00123_00001.tif', 170.0, 'postZX1'), ('AA0318AAAA_00124_00001.tif', 170.0, 'postZX1'), ('AA0318AAAA_00125_00001.tif', 170.0, 'postZX1'), ('AA0318AAAA_00126_00001.tif', 170.0, 'postZX1'), ('AA0318AAAA_00127_00001.tif', 170.0, 'postZX1'), ('AA0318AAAA_00128_00001.tif', 170.0, 'postZX1'), ('AA0318AAAA_00129_00001.tif', 170.0, 'postZX1'), ('AA0318AAAA_00130_00001.tif', 170.0, 'postZX1'), ('AA0318AAAA_00131_00001.tif', 120.0, 'postZX1'), ('AA0318AAAA_00132_00001.tif', 120.0, 'postZX1'), ('AA0318AAAA_00133_00001.tif', 120.0, 'postZX1'), ('AA0318AAAA_00134_00001.tif', 150.0, 'postZX1'), ('AA0318AAAA_00135_00001.tif', 150.0, 'postZX1'), ('AA0318AAAA_00136_00001.tif', 150.0, 'postZX1')]\n",
      "added 2P data\n",
      "added motion correction data\n",
      "added ROI segmentation data\n",
      "added fluorescence trace data for ROIs\n",
      "added stim table data\n",
      "found pupillometry data for AA0318\n",
      "added pupil radius data\n",
      "added pupil video data\n",
      "NWB write success to: /media/DATA/backups/sutter2P_backup/D_drive/dataSince20210304/AA0318/AA0318.nwb\n",
      "[('AA0350AAAA_00010_00001.tif', 170.0, 'preACSF'), ('AA0350AAAA_00011_00001.tif', 170.0, 'preACSF'), ('AA0350AAAA_00012_00001.tif', 170.0, 'preACSF'), ('AA0350AAAA_00013_00001.tif', 170.0, 'preACSF'), ('AA0350AAAA_00014_00001.tif', 170.0, 'preACSF'), ('AA0350AAAA_00015_00001.tif', 170.0, 'preACSF'), ('AA0350AAAA_00016_00001.tif', 170.0, 'preACSF'), ('AA0350AAAA_00017_00001.tif', 170.0, 'preACSF'), ('AA0350AAAA_00018_00001.tif', 170.0, 'preACSF'), ('AA0350AAAA_00019_00001.tif', 170.0, 'preACSF'), ('AA0350AAAA_00020_00001.tif', 170.0, 'preACSF'), ('AA0350AAAA_00021_00001.tif', 170.0, 'preACSF'), ('AA0350AAAA_00022_00001.tif', 170.0, 'preACSF'), ('AA0350AAAA_00023_00001.tif', 170.0, 'preACSF'), ('AA0350AAAA_00024_00001.tif', 170.0, 'preACSF'), ('AA0350AAAA_00025_00001.tif', 170.0, 'preACSF'), ('AA0350AAAA_00026_00001.tif', 170.0, 'preACSF'), ('AA0350AAAA_00027_00001.tif', 170.0, 'preACSF'), ('AA0350AAAA_00028_00001.tif', 170.0, 'preACSF'), ('AA0350AAAA_00029_00001.tif', 170.0, 'preACSF'), ('AA0350AAAA_00033_00001.tif', 120.0, 'preACSF'), ('AA0350AAAA_00034_00001.tif', 120.0, 'preACSF'), ('AA0350AAAA_00035_00001.tif', 120.0, 'preACSF'), ('AA0350AAAA_00036_00001.tif', 120.0, 'preACSF'), ('AA0350AAAA_00037_00001.tif', 120.0, 'preACSF'), ('AA0350AAAA_00038_00001.tif', 120.0, 'preACSF'), ('AA0350AAAA_00039_00001.tif', 120.0, 'preACSF'), ('AA0350AAAA_00040_00001.tif', 120.0, 'preACSF'), ('AA0350AAAA_00041_00001.tif', 120.0, 'preACSF'), ('AA0350AAAA_00042_00001.tif', 120.0, 'preACSF'), ('AA0350AAAA_00043_00001.tif', 120.0, 'preACSF'), ('AA0350AAAA_00044_00001.tif', 120.0, 'preACSF'), ('AA0350AAAA_00045_00001.tif', 120.0, 'preACSF'), ('AA0350AAAA_00046_00001.tif', 120.0, 'preACSF'), ('AA0350AAAA_00047_00001.tif', 120.0, 'preACSF'), ('AA0350AAAA_00048_00001.tif', 120.0, 'preACSF'), ('AA0350AAAA_00049_00001.tif', 170.0, 'preACSF'), ('AA0350AAAA_00050_00001.tif', 170.0, 'preACSF'), ('AA0350AAAA_00051_00001.tif', 170.0, 'preACSF'), ('AA0350AAAA_00052_00001.tif', 170.0, 'preACSF'), ('AA0350AAAA_00054_00001.tif', 170.0, 'postACSF'), ('AA0350AAAA_00055_00001.tif', 170.0, 'postACSF'), ('AA0350AAAA_00056_00001.tif', 170.0, 'postACSF'), ('AA0350AAAA_00057_00001.tif', 170.0, 'postACSF'), ('AA0350AAAA_00058_00001.tif', 170.0, 'postACSF'), ('AA0350AAAA_00059_00001.tif', 170.0, 'postACSF'), ('AA0350AAAA_00060_00001.tif', 170.0, 'postACSF'), ('AA0350AAAA_00061_00001.tif', 170.0, 'postACSF'), ('AA0350AAAA_00062_00001.tif', 170.0, 'postACSF'), ('AA0350AAAA_00063_00001.tif', 170.0, 'postACSF'), ('AA0350AAAA_00064_00001.tif', 170.0, 'postACSF'), ('AA0350AAAA_00065_00001.tif', 170.0, 'postACSF'), ('AA0350AAAA_00066_00001.tif', 170.0, 'postACSF'), ('AA0350AAAA_00067_00001.tif', 170.0, 'postACSF'), ('AA0350AAAA_00068_00001.tif', 170.0, 'postACSF'), ('AA0350AAAA_00069_00001.tif', 170.0, 'postACSF'), ('AA0350AAAA_00070_00001.tif', 120.0, 'postACSF'), ('AA0350AAAA_00071_00001.tif', 120.0, 'postACSF'), ('AA0350AAAA_00072_00001.tif', 120.0, 'postACSF'), ('AA0350AAAA_00073_00001.tif', 120.0, 'postACSF'), ('AA0350AAAA_00074_00001.tif', 120.0, 'postACSF'), ('AA0350AAAA_00075_00001.tif', 120.0, 'postACSF'), ('AA0350AAAA_00076_00001.tif', 120.0, 'postACSF'), ('AA0350AAAA_00077_00001.tif', 120.0, 'postACSF'), ('AA0350AAAA_00078_00001.tif', 120.0, 'postACSF'), ('AA0350AAAA_00079_00001.tif', 120.0, 'postACSF'), ('AA0350AAAA_00080_00001.tif', 120.0, 'postACSF'), ('AA0350AAAA_00081_00001.tif', 120.0, 'postACSF'), ('AA0350AAAA_00082_00001.tif', 120.0, 'postACSF'), ('AA0350AAAA_00083_00001.tif', 120.0, 'postACSF'), ('AA0350AAAA_00084_00001.tif', 120.0, 'postACSF'), ('AA0350AAAA_00085_00001.tif', 120.0, 'postACSF'), ('AA0350AAAA_00086_00001.tif', 170.0, 'postACSF'), ('AA0350AAAA_00087_00001.tif', 170.0, 'postACSF'), ('AA0350AAAA_00088_00001.tif', 170.0, 'postACSF'), ('AA0350AAAA_00089_00001.tif', 170.0, 'postACSF'), ('AA0350AAAA_00090_00001.tif', 170.0, 'postACSF'), ('AA0350AAAA_00091_00001.tif', 170.0, 'postACSF'), ('AA0350AAAA_00092_00001.tif', 170.0, 'postACSF'), ('AA0350AAAA_00093_00001.tif', 170.0, 'postACSF')]\n",
      "added 2P data\n",
      "added motion correction data\n",
      "added ROI segmentation data\n",
      "added fluorescence trace data for ROIs\n",
      "added stim table data\n",
      "found pupillometry data for AA0350\n",
      "added pupil radius data\n",
      "added pupil video data\n",
      "NWB write success to: /media/DATA/backups/sutter2P_backup/D_drive/dataSince20210304/AA0350/AA0350.nwb\n",
      "[('AA0353AAAA_00010_00001.tif', 170.0, 'preACSF'), ('AA0353AAAA_00011_00001.tif', 170.0, 'preACSF'), ('AA0353AAAA_00012_00001.tif', 170.0, 'preACSF'), ('AA0353AAAA_00013_00001.tif', 170.0, 'preACSF'), ('AA0353AAAA_00014_00001.tif', 170.0, 'preACSF'), ('AA0353AAAA_00015_00001.tif', 170.0, 'preACSF'), ('AA0353AAAA_00016_00001.tif', 170.0, 'preACSF'), ('AA0353AAAA_00017_00001.tif', 170.0, 'preACSF'), ('AA0353AAAA_00018_00001.tif', 170.0, 'preACSF'), ('AA0353AAAA_00019_00001.tif', 170.0, 'preACSF'), ('AA0353AAAA_00020_00001.tif', 170.0, 'preACSF'), ('AA0353AAAA_00021_00001.tif', 170.0, 'preACSF'), ('AA0353AAAA_00022_00001.tif', 170.0, 'preACSF'), ('AA0353AAAA_00023_00001.tif', 170.0, 'preACSF'), ('AA0353AAAA_00024_00001.tif', 170.0, 'preACSF'), ('AA0353AAAA_00025_00001.tif', 170.0, 'preACSF'), ('AA0353AAAA_00026_00001.tif', 120.0, 'preACSF'), ('AA0353AAAA_00030_00001.tif', 120.0, 'preACSF'), ('AA0353AAAA_00031_00001.tif', 120.0, 'preACSF'), ('AA0353AAAA_00032_00001.tif', 120.0, 'preACSF'), ('AA0353AAAA_00033_00001.tif', 120.0, 'preACSF'), ('AA0353AAAA_00034_00001.tif', 120.0, 'preACSF'), ('AA0353AAAA_00035_00001.tif', 120.0, 'preACSF'), ('AA0353AAAA_00036_00001.tif', 120.0, 'preACSF'), ('AA0353AAAA_00037_00001.tif', 120.0, 'preACSF'), ('AA0353AAAA_00038_00001.tif', 120.0, 'preACSF'), ('AA0353AAAA_00039_00001.tif', 120.0, 'preACSF'), ('AA0353AAAA_00040_00001.tif', 120.0, 'preACSF'), ('AA0353AAAA_00041_00001.tif', 120.0, 'preACSF'), ('AA0353AAAA_00042_00001.tif', 120.0, 'preACSF'), ('AA0353AAAA_00043_00001.tif', 120.0, 'preACSF'), ('AA0353AAAA_00044_00001.tif', 120.0, 'preACSF'), ('AA0353AAAA_00045_00001.tif', 120.0, 'preACSF'), ('AA0353AAAA_00046_00001.tif', 170.0, 'preACSF'), ('AA0353AAAA_00047_00001.tif', 170.0, 'preACSF'), ('AA0353AAAA_00048_00001.tif', 170.0, 'preACSF'), ('AA0353AAAA_00049_00001.tif', 170.0, 'preACSF'), ('AA0353AAAA_00050_00001.tif', 170.0, 'preACSF'), ('AA0353AAAA_00051_00001.tif', 170.0, 'preACSF'), ('AA0353AAAA_00052_00001.tif', 170.0, 'preACSF'), ('AA0353AAAA_00053_00001.tif', 170.0, 'preACSF'), ('AA0353AAAA_00054_00001.tif', 170.0, 'preACSF'), ('AA0353AAAA_00055_00001.tif', 170.0, 'postACSF'), ('AA0353AAAA_00056_00001.tif', 170.0, 'postACSF'), ('AA0353AAAA_00057_00001.tif', 170.0, 'postACSF'), ('AA0353AAAA_00058_00001.tif', 170.0, 'postACSF'), ('AA0353AAAA_00059_00001.tif', 170.0, 'postACSF'), ('AA0353AAAA_00060_00001.tif', 170.0, 'postACSF'), ('AA0353AAAA_00061_00001.tif', 170.0, 'postACSF'), ('AA0353AAAA_00062_00001.tif', 170.0, 'postACSF'), ('AA0353AAAA_00063_00001.tif', 170.0, 'postACSF'), ('AA0353AAAA_00064_00001.tif', 170.0, 'postACSF'), ('AA0353AAAA_00065_00001.tif', 170.0, 'postACSF'), ('AA0353AAAA_00066_00001.tif', 170.0, 'postACSF'), ('AA0353AAAA_00067_00001.tif', 170.0, 'postACSF'), ('AA0353AAAA_00068_00001.tif', 170.0, 'postACSF'), ('AA0353AAAA_00069_00001.tif', 170.0, 'postACSF'), ('AA0353AAAA_00070_00001.tif', 170.0, 'postACSF'), ('AA0353AAAA_00071_00001.tif', 170.0, 'postACSF'), ('AA0353AAAA_00072_00001.tif', 170.0, 'postACSF'), ('AA0353AAAA_00073_00001.tif', 170.0, 'postACSF'), ('AA0353AAAA_00074_00001.tif', 170.0, 'postACSF'), ('AA0353AAAA_00075_00001.tif', 170.0, 'postACSF'), ('AA0353AAAA_00076_00001.tif', 170.0, 'postACSF'), ('AA0353AAAA_00077_00001.tif', 170.0, 'postACSF'), ('AA0353AAAA_00078_00001.tif', 170.0, 'postACSF'), ('AA0353AAAA_00079_00001.tif', 170.0, 'postACSF'), ('AA0353AAAA_00080_00001.tif', 170.0, 'postACSF'), ('AA0353AAAA_00081_00001.tif', 120.0, 'postACSF'), ('AA0353AAAA_00082_00001.tif', 120.0, 'postACSF'), ('AA0353AAAA_00083_00001.tif', 120.0, 'postACSF'), ('AA0353AAAA_00084_00001.tif', 120.0, 'postACSF'), ('AA0353AAAA_00085_00001.tif', 120.0, 'postACSF'), ('AA0353AAAA_00086_00001.tif', 120.0, 'postACSF'), ('AA0353AAAA_00087_00001.tif', 120.0, 'postACSF'), ('AA0353AAAA_00088_00001.tif', 120.0, 'postACSF'), ('AA0353AAAA_00089_00001.tif', 120.0, 'postACSF'), ('AA0353AAAA_00090_00001.tif', 120.0, 'postACSF'), ('AA0353AAAA_00091_00001.tif', 120.0, 'postACSF'), ('AA0353AAAA_00092_00001.tif', 120.0, 'postACSF'), ('AA0353AAAA_00093_00001.tif', 120.0, 'postACSF'), ('AA0353AAAA_00094_00001.tif', 120.0, 'postACSF'), ('AA0353AAAA_00095_00001.tif', 120.0, 'postACSF'), ('AA0353AAAA_00096_00001.tif', 120.0, 'postACSF'), ('AA0353AAAA_00097_00001.tif', 120.0, 'postACSF'), ('AA0353AAAA_00098_00001.tif', 120.0, 'postACSF')]\n",
      "added 2P data\n",
      "added motion correction data\n",
      "added ROI segmentation data\n",
      "added fluorescence trace data for ROIs\n",
      "added stim table data\n",
      "found pupillometry data for AA0353\n",
      "added pupil radius data\n",
      "added pupil video data\n",
      "NWB write success to: /media/DATA/backups/sutter2P_backup/D_drive/dataSince20210304/AA0353/AA0353.nwb\n"
     ]
    }
   ],
   "source": [
    "import os\n",
    "import lib.nwbScanImage\n",
    "\n",
    "import importlib\n",
    "importlib.reload(lib.nwbScanImage)\n",
    "\n",
    "dataPath = \"/media/DATA/backups/sutter2P_backup/D_drive/dataSince20210304\"\n",
    "\n",
    "experiments = [\n",
    "                'AA0304',\n",
    "                'AA0308',\n",
    "                'AA0310',\n",
    "                'AA0312',\n",
    "                'AA0314',\n",
    "                'AA0315',\n",
    "                'AA0318',\n",
    "                'AA0350',\n",
    "                'AA0353'\n",
    "               ]\n",
    "\n",
    "for experimentID in experiments:\n",
    "    outputNWBpath = os.path.join(dataPath,experimentID,f\"{experimentID}.nwb\")\n",
    "\n",
    "    if os.path.exists(outputNWBpath):\n",
    "        print(f\"NWB file already created for {experimentID}\")\n",
    "    else:\n",
    "        session_description = f\"pupilPTinContrast_{experimentID}_C57BL6J\"\n",
    "        experiment_description = \"Pure tone in low and high DRC contrast with pupillometry\"\n",
    "        keywords = [\"2P\", \"CGC\", \"pupillometry\", \"DRC\"]\n",
    "\n",
    "        lib.nwbScanImage.genNWBfromScanImage_pc(\n",
    "            experimentID=experimentID, \n",
    "            dataPath=dataPath, \n",
    "            NWBoutputPath=outputNWBpath,\n",
    "            session_description=session_description,\n",
    "            experiment_description=experiment_description,\n",
    "            keywords=keywords,\n",
    "            **lib.nwbScanImage.PARAMS_nwbFilePC,\n",
    "            **lib.nwbScanImage.PARAMS_imagingPC\n",
    "            )"
   ]
  },
  {
   "cell_type": "code",
   "execution_count": null,
   "metadata": {},
   "outputs": [],
   "source": [
    "import os\n",
    "import lib.nwbScanImage\n",
    "\n",
    "import importlib\n",
    "importlib.reload(lib.nwbScanImage)\n",
    "\n",
    "dataPath = \"/media/DATA/backups/sutter2P_backup/D_drive/dataSince20210304\"\n",
    "\n",
    "experiments = [\n",
    "                'AA0304',\n",
    "                'AA0308',\n",
    "                'AA0310',\n",
    "                'AA0312',\n",
    "                'AA0314',\n",
    "                'AA0315',\n",
    "                'AA0318',\n",
    "                'AA0350',\n",
    "                'AA0353'\n",
    "               ]\n",
    "\n",
    "for experimentID in experiments:\n",
    "    outputNWBpath = os.path.join(dataPath,experimentID,f\"{experimentID}.nwb\")\n",
    "\n",
    "    if os.path.exists(outputNWBpath):\n",
    "        print(f\"NWB file already created for {experimentID}\")\n",
    "    else:\n",
    "        session_description = f\"pupilPTinContrast_{experimentID}_C57BL6J\"\n",
    "        experiment_description = \"Pure tone in low and high DRC contrast with pupillometry\"\n",
    "        keywords = [\"2P\", \"CGC\", \"pupillometry\", \"DRC\"]\n",
    "\n",
    "        lib.nwbScanImage.genNWBfromScanImage_pc(\n",
    "            experimentID=experimentID, \n",
    "            dataPath=dataPath, \n",
    "            NWBoutputPath=outputNWBpath,\n",
    "            session_description=session_description,\n",
    "            experiment_description=experiment_description,\n",
    "            keywords=keywords,\n",
    "            **lib.nwbScanImage.PARAMS_nwbFilePC,\n",
    "            **lib.nwbScanImage.PARAMS_imagingPC\n",
    "            )\n",
    "\n",
    "# issue AA0312 has moCorrROI_all but two treatment conditions (ROIs stayed the same), how to handle?"
   ]
  },
  {
   "cell_type": "code",
   "execution_count": null,
   "metadata": {},
   "outputs": [],
   "source": []
  }
 ],
 "metadata": {
  "kernelspec": {
   "display_name": "venvNWB",
   "language": "python",
   "name": "python3"
  },
  "language_info": {
   "codemirror_mode": {
    "name": "ipython",
    "version": 3
   },
   "file_extension": ".py",
   "mimetype": "text/x-python",
   "name": "python",
   "nbconvert_exporter": "python",
   "pygments_lexer": "ipython3",
   "version": "3.12.3"
  }
 },
 "nbformat": 4,
 "nbformat_minor": 2
}
