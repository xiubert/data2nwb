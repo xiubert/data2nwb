{
 "cells": [
  {
   "cell_type": "markdown",
   "metadata": {},
   "source": [
    "# PC Specific ScanImage --> NWB (SCRIPT)"
   ]
  },
  {
   "cell_type": "markdown",
   "metadata": {},
   "source": [
    "## create NWB file"
   ]
  },
  {
   "cell_type": "markdown",
   "metadata": {},
   "source": [
    "### set directories"
   ]
  },
  {
   "cell_type": "code",
   "execution_count": 1,
   "metadata": {},
   "outputs": [
    {
     "name": "stdout",
     "output_type": "stream",
     "text": [
      "pupil data exists for AA0314\n"
     ]
    }
   ],
   "source": [
    "import os\n",
    "\n",
    "# dataPath = \"/home/pac/Documents/Python/nwb/scanimage/rawData\"\n",
    "# outputNWBpath = f\"/home/pac/Documents/Python/nwb/scanimage/nwbOutput/{experimentID}.nwb\"\n",
    "\n",
    "experimentID = 'AA0314'\n",
    "\n",
    "dataPath = \"/media/DATA/backups/sutter2P_backup/D_drive/dataSince20210304\"\n",
    "outputNWBpath = os.path.join(dataPath,experimentID,f\"{experimentID}.nwb\")\n",
    "\n",
    "\n",
    "experimentDir = os.path.join(dataPath,experimentID)\n",
    "experiment_mat = f\"{experimentID}_anmlROI_stimTable.mat\"\n",
    "moCorrMat = f\"./NoRMCorred/{experimentID}_NoRMCorreParams.mat\"\n",
    "roiMat = f\"{experimentID}_moCorrROI_all.mat\"\n",
    "fluorescenceMat = f\"{experimentID}_tifFileList.mat\"\n",
    "\n",
    "\n",
    "pupilMat = f\"{experimentID}_pulsePupilUVlegend2P_s.mat\"\n",
    "if (os.path.exists(os.path.join(experimentDir,pupilMat)) or \n",
    "    os.path.exists(os.path.join(experimentDir,pupilMat.replace('_s.mat','.mat')))):\n",
    "    print(f\"pupil data exists for {experimentID}\")\n",
    "    addPupillometry = True\n",
    "\n"
   ]
  },
  {
   "cell_type": "markdown",
   "metadata": {},
   "source": [
    "### extract .tif image data and metadata"
   ]
  },
  {
   "cell_type": "code",
   "execution_count": 2,
   "metadata": {},
   "outputs": [
    {
     "name": "stdout",
     "output_type": "stream",
     "text": [
      "[('AA0314AAAA_00010_00001.tif', '25-Apr-2021 15:33:20', 170.0), ('AA0314AAAA_00011_00001.tif', '25-Apr-2021 15:35:00', 170.0), ('AA0314AAAA_00012_00001.tif', '25-Apr-2021 15:37:22', 170.0), ('AA0314AAAA_00013_00001.tif', '25-Apr-2021 15:38:32', 170.0), ('AA0314AAAA_00014_00001.tif', '25-Apr-2021 15:39:30', 170.0), ('AA0314AAAA_00015_00001.tif', '25-Apr-2021 15:40:44', 170.0), ('AA0314AAAA_00016_00001.tif', '25-Apr-2021 15:42:11', 170.0), ('AA0314AAAA_00017_00001.tif', '25-Apr-2021 15:43:07', 170.0), ('AA0314AAAA_00018_00001.tif', '25-Apr-2021 15:44:31', 170.0), ('AA0314AAAA_00019_00001.tif', '25-Apr-2021 15:45:46', 170.0), ('AA0314AAAA_00020_00001.tif', '25-Apr-2021 15:46:46', 170.0), ('AA0314AAAA_00021_00001.tif', '25-Apr-2021 15:48:34', 170.0), ('AA0314AAAA_00022_00001.tif', '25-Apr-2021 15:49:43', 170.0), ('AA0314AAAA_00023_00001.tif', '25-Apr-2021 15:50:44', 170.0), ('AA0314AAAA_00024_00001.tif', '25-Apr-2021 15:51:42', 170.0), ('AA0314AAAA_00025_00001.tif', '25-Apr-2021 15:52:57', 170.0), ('AA0314AAAA_00026_00001.tif', '25-Apr-2021 15:54:17', 120.0), ('AA0314AAAA_00029_00001.tif', '25-Apr-2021 16:02:25', 120.0), ('AA0314AAAA_00030_00001.tif', '25-Apr-2021 16:03:51', 120.0), ('AA0314AAAA_00031_00001.tif', '25-Apr-2021 16:04:40', 120.0), ('AA0314AAAA_00032_00001.tif', '25-Apr-2021 16:05:28', 120.0), ('AA0314AAAA_00033_00001.tif', '25-Apr-2021 16:06:19', 120.0), ('AA0314AAAA_00035_00001.tif', '25-Apr-2021 16:07:54', 120.0), ('AA0314AAAA_00036_00001.tif', '25-Apr-2021 16:08:44', 120.0), ('AA0314AAAA_00037_00001.tif', '25-Apr-2021 16:09:31', 120.0), ('AA0314AAAA_00038_00001.tif', '25-Apr-2021 16:10:17', 120.0), ('AA0314AAAA_00039_00001.tif', '25-Apr-2021 16:11:04', 120.0), ('AA0314AAAA_00040_00001.tif', '25-Apr-2021 16:11:53', 120.0), ('AA0314AAAA_00041_00001.tif', '25-Apr-2021 16:12:44', 120.0), ('AA0314AAAA_00042_00001.tif', '25-Apr-2021 16:13:31', 120.0), ('AA0314AAAA_00043_00001.tif', '25-Apr-2021 16:14:57', 170.0), ('AA0314AAAA_00044_00001.tif', '25-Apr-2021 16:16:18', 170.0), ('AA0314AAAA_00045_00001.tif', '25-Apr-2021 16:17:25', 170.0), ('AA0314AAAA_00046_00001.tif', '25-Apr-2021 16:18:37', 170.0), ('AA0314AAAA_00047_00001.tif', '25-Apr-2021 16:19:36', 170.0), ('AA0314AAAA_00048_00001.tif', '25-Apr-2021 16:20:41', 170.0), ('AA0314AAAA_00049_00001.tif', '25-Apr-2021 16:21:58', 170.0), ('AA0314AAAA_00050_00001.tif', '25-Apr-2021 16:23:05', 170.0), ('AA0314AAAA_00051_00001.tif', '25-Apr-2021 16:24:03', 170.0), ('AA0314AAAA_00052_00001.tif', '25-Apr-2021 16:48:50', 170.0), ('AA0314AAAA_00053_00001.tif', '25-Apr-2021 16:49:59', 170.0), ('AA0314AAAA_00054_00001.tif', '25-Apr-2021 16:51:16', 170.0), ('AA0314AAAA_00055_00001.tif', '25-Apr-2021 16:52:33', 170.0), ('AA0314AAAA_00056_00001.tif', '25-Apr-2021 16:53:34', 170.0), ('AA0314AAAA_00057_00001.tif', '25-Apr-2021 16:54:44', 170.0), ('AA0314AAAA_00058_00001.tif', '25-Apr-2021 16:55:44', 170.0), ('AA0314AAAA_00059_00001.tif', '25-Apr-2021 16:57:01', 170.0), ('AA0314AAAA_00060_00001.tif', '25-Apr-2021 16:58:19', 170.0), ('AA0314AAAA_00061_00001.tif', '25-Apr-2021 16:59:30', 170.0), ('AA0314AAAA_00062_00001.tif', '25-Apr-2021 17:01:01', 170.0), ('AA0314AAAA_00063_00001.tif', '25-Apr-2021 17:02:11', 170.0), ('AA0314AAAA_00064_00001.tif', '25-Apr-2021 17:03:45', 170.0), ('AA0314AAAA_00065_00001.tif', '25-Apr-2021 17:05:03', 170.0), ('AA0314AAAA_00066_00001.tif', '25-Apr-2021 17:06:04', 170.0), ('AA0314AAAA_00067_00001.tif', '25-Apr-2021 17:07:15', 170.0), ('AA0314AAAA_00068_00001.tif', '25-Apr-2021 17:08:44', 120.0), ('AA0314AAAA_00069_00001.tif', '25-Apr-2021 17:09:33', 120.0), ('AA0314AAAA_00070_00001.tif', '25-Apr-2021 17:10:20', 120.0), ('AA0314AAAA_00071_00001.tif', '25-Apr-2021 17:11:11', 120.0), ('AA0314AAAA_00072_00001.tif', '25-Apr-2021 17:12:00', 120.0), ('AA0314AAAA_00073_00001.tif', '25-Apr-2021 17:12:46', 120.0), ('AA0314AAAA_00074_00001.tif', '25-Apr-2021 17:13:36', 120.0), ('AA0314AAAA_00076_00001.tif', '25-Apr-2021 17:16:39', 120.0), ('AA0314AAAA_00077_00001.tif', '25-Apr-2021 17:17:28', 120.0), ('AA0314AAAA_00078_00001.tif', '25-Apr-2021 17:18:15', 120.0), ('AA0314AAAA_00079_00001.tif', '25-Apr-2021 17:19:06', 120.0), ('AA0314AAAA_00080_00001.tif', '25-Apr-2021 17:19:54', 120.0), ('AA0314AAAA_00081_00001.tif', '25-Apr-2021 17:20:40', 120.0), ('AA0314AAAA_00082_00001.tif', '25-Apr-2021 17:21:31', 120.0), ('AA0314AAAA_00083_00001.tif', '25-Apr-2021 17:22:18', 120.0), ('AA0314AAAA_00084_00001.tif', '25-Apr-2021 17:23:45', 170.0), ('AA0314AAAA_00085_00001.tif', '25-Apr-2021 17:24:58', 170.0), ('AA0314AAAA_00086_00001.tif', '25-Apr-2021 17:26:02', 170.0), ('AA0314AAAA_00087_00001.tif', '25-Apr-2021 17:27:06', 170.0), ('AA0314AAAA_00088_00001.tif', '25-Apr-2021 17:28:22', 170.0), ('AA0314AAAA_00089_00001.tif', '25-Apr-2021 17:29:23', 170.0), ('AA0314AAAA_00090_00001.tif', '25-Apr-2021 17:30:25', 170.0), ('AA0314AAAA_00091_00001.tif', '25-Apr-2021 17:31:30', 170.0), ('AA0314AAAA_00092_00001.tif', '25-Apr-2021 17:32:31', 170.0), ('AA0314AAAA_00094_00001.tif', '25-Apr-2021 17:34:21', 120.0), ('AA0314AAAA_00095_00001.tif', '25-Apr-2021 17:35:08', 120.0), ('AA0314AAAA_00096_00001.tif', '25-Apr-2021 17:37:09', 150.0), ('AA0314AAAA_00097_00001.tif', '25-Apr-2021 17:38:14', 150.0), ('AA0314AAAA_00098_00001.tif', '25-Apr-2021 17:39:28', 150.0), ('AA0314AAAA_00099_00001.tif', '25-Apr-2021 17:40:48', 150.0)]\n"
     ]
    }
   ],
   "source": [
    "# get tif file list\n",
    "import lib.mat2py\n",
    "\n",
    "# get tif creation date, end write time, and frame counts\n",
    "tifFileList = lib.mat2py.getMatCellArrayOfStr(os.path.join(experimentDir,experiment_mat),varPath = ['tifFileList','stim','name'])\n",
    "fileTimeWrite = lib.mat2py.getMatCellArrayOfStr(os.path.join(experimentDir,experiment_mat),varPath = ['tifFileList','stim','date'])\n",
    "tifFrameCounts = lib.mat2py.getMatCellArrayOfNum(os.path.join(experimentDir,experiment_mat),varPath = ['tifFileList','stim','nFrames'])\n",
    "print(list(zip(tifFileList,fileTimeWrite,tifFrameCounts)))"
   ]
  },
  {
   "cell_type": "code",
   "execution_count": 3,
   "metadata": {},
   "outputs": [
    {
     "name": "stdout",
     "output_type": "stream",
     "text": [
      "(12820, 256, 256)\n"
     ]
    },
    {
     "data": {
      "text/plain": [
       "12820"
      ]
     },
     "execution_count": 3,
     "metadata": {},
     "output_type": "execute_result"
    }
   ],
   "source": [
    "# get tif data\n",
    "import lib.tifExtract\n",
    "\n",
    "imgData,fileTimeInstantiate,nFrames,fr = lib.tifExtract.getTifData(tifFileList, experimentDir)\n",
    "sum(nFrames)"
   ]
  },
  {
   "cell_type": "code",
   "execution_count": 4,
   "metadata": {},
   "outputs": [
    {
     "data": {
      "text/plain": [
       "12820"
      ]
     },
     "execution_count": 4,
     "metadata": {},
     "output_type": "execute_result"
    }
   ],
   "source": [
    "# Convert tif file instantiation date strings to timestamps of each frame in seconds\n",
    "timestamps,date_times = lib.tifExtract.filetime2secTimestamp(fileTimeInstantiate, nFrames, fr)\n",
    "len(timestamps)"
   ]
  },
  {
   "cell_type": "markdown",
   "metadata": {},
   "source": [
    "### NWB file prep"
   ]
  },
  {
   "cell_type": "markdown",
   "metadata": {},
   "source": [
    "#### instantiate NWB file"
   ]
  },
  {
   "cell_type": "code",
   "execution_count": 6,
   "metadata": {},
   "outputs": [],
   "source": [
    "from uuid import uuid4\n",
    "from pynwb import NWBHDF5IO, NWBFile, TimeSeries\n",
    "from pynwb.image import ImageSeries\n",
    "from pynwb.ophys import (\n",
    "    CorrectedImageStack,\n",
    "    Fluorescence,\n",
    "    ImageSegmentation,\n",
    "    MotionCorrection,\n",
    "    OpticalChannel,\n",
    "    RoiResponseSeries,\n",
    "    TwoPhotonSeries,\n",
    ")"
   ]
  },
  {
   "cell_type": "code",
   "execution_count": 7,
   "metadata": {},
   "outputs": [
    {
     "name": "stderr",
     "output_type": "stream",
     "text": [
      "/home/pac/Documents/Python/nwb/venvNWB/lib/python3.12/site-packages/pynwb/file.py:472: UserWarning: Date is missing timezone information. Updating to local timezone.\n",
      "  args_to_set['session_start_time'] = _add_missing_timezone(session_start_time)\n"
     ]
    }
   ],
   "source": [
    "# refer to notebook for session description\n",
    "# standardize: experiment_animal_mouseLine --> pupilPTinContrast_AA0304_C57BL6J\n",
    "# see dataMapPCetal2024.txt: /media/DATA/backups/sutter2P_backup/D_drive\n",
    "\n",
    "nwbfile = NWBFile(\n",
    "    session_description=f\"pupilPTinContrast_{experimentID}_C57BL6J\",\n",
    "    identifier=str(uuid4()),\n",
    "    session_start_time=date_times[0],\n",
    "    experimenter=[\n",
    "        \"Cody, Patrick\",\n",
    "    ],\n",
    "    lab=\"Tzounopoulos Lab\",\n",
    "    institution=\"University of Pittsburgh\",\n",
    "    experiment_description=\"Pure tone in low and high DRC contrast with pupillometry\",\n",
    "    keywords=[\"2P\", \"CGC\", \"pupillometry\", \"DRC\"],\n",
    "    related_publications=\"10.1523/JNEUROSCI.0939-23.2024\",\n",
    ")\n"
   ]
  },
  {
   "cell_type": "markdown",
   "metadata": {},
   "source": [
    "#### set imaging plane"
   ]
  },
  {
   "cell_type": "code",
   "execution_count": 8,
   "metadata": {},
   "outputs": [],
   "source": [
    "device = nwbfile.create_device(\n",
    "    name=\"Microscope\",\n",
    "    description=\"Sutter moveable objective microscope (MOM) with mode-locked laser light (MaiTai HP) at 100-200 mW intensity through 40x0.8NA objective (Olympus) with X-Y galvanometric scanning\",\n",
    "    manufacturer=\"Sutter\",\n",
    ")\n",
    "optical_channel = OpticalChannel(\n",
    "    name=\"OpticalChannel\",\n",
    "    description=\"green channel for GCaMP\",\n",
    "    emission_lambda=525.0,\n",
    ")\n",
    "# filter FF03 525/50 (Semrock) --> 525 +/- 25 (center wavelength 525): https://www.idex-hs.com/store/product-detail/ff03_525_50_25/fl-004656"
   ]
  },
  {
   "cell_type": "code",
   "execution_count": 9,
   "metadata": {},
   "outputs": [],
   "source": [
    "imaging_plane = nwbfile.create_imaging_plane(\n",
    "    name=\"ImagingPlane\",\n",
    "    optical_channel=optical_channel,\n",
    "    imaging_rate=5.0,\n",
    "    description=\"Auditory Cortex\",\n",
    "    device=device,\n",
    "    excitation_lambda=940.0,\n",
    "    indicator=\"GFP\",\n",
    "    location=\"ACtx\",\n",
    "    grid_spacing=[145.0, 145.0],\n",
    "    grid_spacing_unit=\"micrometers\",\n",
    "    origin_coords=[-2.0, 4.25, 2.0],\n",
    "    origin_coords_unit=\"meters\",\n",
    ")\n",
    "# “Origin coordinates are relative to bregma. First dimension corresponds to anterior-posterior axis (larger index = more anterior). \n",
    "# Second dimension corresponds to medial-lateral axis (larger index = more rightward). \n",
    "# Third dimension corresponds to dorsal-ventral axis (larger index = more ventral)."
   ]
  },
  {
   "cell_type": "markdown",
   "metadata": {},
   "source": [
    "#### set two-photon series data"
   ]
  },
  {
   "cell_type": "code",
   "execution_count": 10,
   "metadata": {},
   "outputs": [],
   "source": [
    "# add to nwb 2p series\n",
    "two_p_series = TwoPhotonSeries(\n",
    "    name=\"TwoPhotonSeries\",\n",
    "    description=\"Raw 2p data\",\n",
    "    data=imgData,\n",
    "    imaging_plane=imaging_plane,\n",
    "    unit=\"normalized amplitude\",\n",
    "    control_description=list(zip(fileTimeInstantiate,tifFileList,nFrames,fr,fileTimeWrite)),\n",
    "    comments=\"control_description form: (fileTimeInstantiate,file,nFrames,frameRate,fileTimeWrite)\",\n",
    "    timestamps=timestamps\n",
    ")\n",
    "\n",
    "nwbfile.add_acquisition(two_p_series)"
   ]
  },
  {
   "cell_type": "code",
   "execution_count": 11,
   "metadata": {},
   "outputs": [],
   "source": [
    "# test file write\n",
    "# def writeNWB(outputPath: str, nwbfile, overWrite: bool = True):\n",
    "#     if os.path.exists(outputPath):\n",
    "#         if overWrite==True:\n",
    "#             os.remove(outputPath)\n",
    "#         else:\n",
    "#             raise('file exists')\n",
    "\n",
    "#     with NWBHDF5IO(outputPath, \"w\") as io:\n",
    "#         io.write(nwbfile)\n",
    "from lib.nwbScanImage import writeNWB\n",
    "writeNWB(outputNWBpath,nwbfile)\n",
    "# view with neurosift: neurosift {outputNWBpath}\n"
   ]
  },
  {
   "cell_type": "markdown",
   "metadata": {},
   "source": [
    "#### add motion correction data\n",
    "- shifts in animalDir/NoRMCorred/[animal]_NoRMCorreParams.mat --> all\n",
    "    - concatenated together of length (nTifFiles * sum(tifFileList.stim.nFrames))\n",
    "    - dim of each frame is (8,8,1,2) --> can be squeezed to (8,8,2)"
   ]
  },
  {
   "cell_type": "code",
   "execution_count": 11,
   "metadata": {},
   "outputs": [
    {
     "name": "stdout",
     "output_type": "stream",
     "text": [
      "(12820, 256, 256)\n"
     ]
    }
   ],
   "source": [
    "imgData_corr = lib.tifExtract.getTifData(\n",
    "   [f.replace('.tif','_NoRMCorre.tif') for f in tifFileList], \n",
    "   os.path.join(experimentDir,'NoRMCorred'),\n",
    "   getMetadata=False)\n",
    "\n",
    "shifts,moCorrParams = lib.mat2py.getMoCorrShiftParams(os.path.join(experimentDir,moCorrMat))"
   ]
  },
  {
   "cell_type": "code",
   "execution_count": 12,
   "metadata": {},
   "outputs": [],
   "source": [
    "corrected = ImageSeries(\n",
    "    name=\"corrected\",  # this must be named \"corrected\"\n",
    "    description=\"A motion corrected image stack\",\n",
    "    data=imgData_corr,\n",
    "    unit=\"na\",\n",
    "    format=\"raw\",\n",
    "    control_description=list(zip(fileTimeInstantiate,tifFileList,nFrames,fr,fileTimeWrite)),\n",
    "    comments=\"control_description form: (fileTimeInstantiate,file,nFrames,frameRate,fileTimeWrite)\",\n",
    "    timestamps=timestamps\n",
    ")\n",
    "\n",
    "xy_translation = TimeSeries(\n",
    "    name=\"xy_translation\",\n",
    "    description=\"x,y translation in pixels\",\n",
    "    data=shifts,\n",
    "    unit=\"pixels\",\n",
    "    timestamps=timestamps,\n",
    "    control_description = moCorrParams,\n",
    "    comments= 'control_description: NoRMCorreParams',\n",
    ")\n",
    "\n",
    "corrected_image_stack = CorrectedImageStack(\n",
    "    corrected=corrected,\n",
    "    original=two_p_series,\n",
    "    xy_translation=xy_translation,\n",
    ")\n",
    "\n",
    "motion_correction = MotionCorrection(corrected_image_stacks=[corrected_image_stack])"
   ]
  },
  {
   "cell_type": "code",
   "execution_count": null,
   "metadata": {},
   "outputs": [],
   "source": [
    "ophys_module = nwbfile.create_processing_module(\n",
    "    name=\"ophys\", description=\"optical physiology processed data\"\n",
    ")\n",
    "\n",
    "ophys_module.add(motion_correction)"
   ]
  },
  {
   "cell_type": "code",
   "execution_count": 15,
   "metadata": {},
   "outputs": [],
   "source": [
    "# test file write\n",
    "writeNWB(outputNWBpath,nwbfile)\n",
    "# view with neurosift: neurosift {outputNWBpath}\n"
   ]
  },
  {
   "cell_type": "markdown",
   "metadata": {},
   "source": [
    "#### add ROI via planeSegmentation\n",
    "- in experiment dir, ROI drawn on motion corrected data saved in [animal id]_moCorrROI_all.mat"
   ]
  },
  {
   "cell_type": "code",
   "execution_count": 16,
   "metadata": {},
   "outputs": [],
   "source": [
    "roiMasks = lib.mat2py.getROImasks(os.path.join(experimentDir,roiMat))"
   ]
  },
  {
   "cell_type": "code",
   "execution_count": null,
   "metadata": {},
   "outputs": [],
   "source": [
    "img_seg = ImageSegmentation()\n",
    "\n",
    "ps = img_seg.create_plane_segmentation(\n",
    "    name=\"PlaneSegmentation\",\n",
    "    description=\"output from segmenting the imaging plane\",\n",
    "    imaging_plane=imaging_plane,\n",
    "    reference_images=two_p_series,  # optional\n",
    ")\n",
    "\n",
    "ophys_module.add(img_seg)"
   ]
  },
  {
   "cell_type": "code",
   "execution_count": null,
   "metadata": {},
   "outputs": [],
   "source": [
    "from matplotlib import pyplot as plt\n",
    "for roiImageMask in roiMasks:\n",
    "    # add image mask to plane segmentation\n",
    "    ps.add_roi(image_mask=roiImageMask)\n",
    "\n",
    "plt.imshow(roiMasks[0])"
   ]
  },
  {
   "cell_type": "markdown",
   "metadata": {},
   "source": [
    "#### add fluorescence traces for ROIs"
   ]
  },
  {
   "cell_type": "code",
   "execution_count": null,
   "metadata": {},
   "outputs": [],
   "source": [
    "# load ROI fluo data from experiment\n",
    "arrL = lib.mat2py.getROIfluo(os.path.join(experimentDir,fluorescenceMat))\n",
    "arrL.shape"
   ]
  },
  {
   "cell_type": "code",
   "execution_count": null,
   "metadata": {},
   "outputs": [],
   "source": [
    "rt_region = ps.create_roi_table_region(\n",
    "    region=list(range(arrL.shape[1])), description=\"all ROI\"\n",
    ")\n",
    "\n",
    "roi_resp_series = RoiResponseSeries(\n",
    "    name=\"RoiResponseSeries\",\n",
    "    description=\"Fluorescence responses for motion corrected ROIs\",\n",
    "    data=arrL,\n",
    "    rois=rt_region,\n",
    "    unit=\"lumens\",\n",
    "    rate=5.0,\n",
    ")\n",
    "\n",
    "fl = Fluorescence(roi_response_series=roi_resp_series)\n",
    "ophys_module.add(fl)"
   ]
  },
  {
   "cell_type": "code",
   "execution_count": 21,
   "metadata": {},
   "outputs": [],
   "source": [
    "# test file write\n",
    "writeNWB(outputNWBpath,nwbfile)\n",
    "# view with neurosift: neurosift {outputNWBpath}"
   ]
  },
  {
   "cell_type": "markdown",
   "metadata": {},
   "source": [
    "#### add sound stimulus data via DynamicTable"
   ]
  },
  {
   "cell_type": "code",
   "execution_count": 22,
   "metadata": {},
   "outputs": [],
   "source": [
    "pulseNames = lib.mat2py.getMatCellArrayOfStr(os.path.join(experimentDir,experiment_mat),['pulseLegend2P','pulseName'])\n",
    "pulseSets = lib.mat2py.getMatCellArrayOfStr(os.path.join(experimentDir,experiment_mat),['pulseLegend2P','pulseSet'])\n",
    "\n",
    "stimData = {\n",
    "    'fileTimeInstantiate': ('time .tif file was instantiated/created',fileTimeInstantiate),\n",
    "    'file': ('name of .tif file',tifFileList),\n",
    "    'nFrames': ('number of frames in .tif file',nFrames),\n",
    "    'frameRate': ('frame rate of .tif file',fr),\n",
    "    'pulseNames': ('sound stimulation pulse name',pulseNames),\n",
    "    'pulseSets': ('sound stimulation pulse set',pulseSets)\n",
    "}"
   ]
  },
  {
   "cell_type": "code",
   "execution_count": 23,
   "metadata": {},
   "outputs": [],
   "source": [
    "from hdmf.common import VectorData, DynamicTable\n",
    "\n",
    "cols = []\n",
    "for col,v in stimData.items():\n",
    "    cols.append(\n",
    "            VectorData(\n",
    "            name=col,\n",
    "            description=v[0],\n",
    "            data=v[1],\n",
    "        )\n",
    "    )\n",
    "stim_table = DynamicTable(\n",
    "    name='stim param table',\n",
    "    description='Maps sound stim parameters to .tif files',\n",
    "    columns=cols,\n",
    ")\n",
    "\n",
    "nwbfile.add_stimulus(stim_table)"
   ]
  },
  {
   "cell_type": "code",
   "execution_count": 24,
   "metadata": {},
   "outputs": [],
   "source": [
    "# test file write\n",
    "writeNWB(outputNWBpath,nwbfile)\n",
    "# view with neurosift: neurosift {outputNWBpath}\n",
    "\n",
    "if addPupillometry==False:\n",
    "    print('stop here, no pupillometry')"
   ]
  },
  {
   "cell_type": "markdown",
   "metadata": {},
   "source": [
    "#### add pupillometry data\n",
    "- behavior/pupil tracking with timeSeries for pupilDiameter\n",
    "- processing/imageSeries for pupil video"
   ]
  },
  {
   "cell_type": "code",
   "execution_count": 25,
   "metadata": {},
   "outputs": [],
   "source": [
    "pupilData = lib.mat2py.getPupilData(pupilMat,getImgData=True,experimentDir=experimentDir)\n",
    "# if not adding pupil video to NWB\n",
    "# pupilData = lib.mat2py.getPupilData(pupilMat,getImgData=False,experimentDir=experimentDir)"
   ]
  },
  {
   "cell_type": "markdown",
   "metadata": {},
   "source": [
    "##### get pupil timestamps"
   ]
  },
  {
   "cell_type": "code",
   "execution_count": 26,
   "metadata": {},
   "outputs": [],
   "source": [
    "pupilTimestamps,pupilDate_times = lib.tifExtract.filetime2secTimestamp(fileTimeInstantiate,pupilData['nFrames'],pupilData['frameRate'])"
   ]
  },
  {
   "cell_type": "markdown",
   "metadata": {},
   "source": [
    "##### add pupil radius"
   ]
  },
  {
   "cell_type": "code",
   "execution_count": 27,
   "metadata": {},
   "outputs": [],
   "source": [
    "import numpy as np\n",
    "from pynwb.behavior import PupilTracking\n",
    "\n",
    "behavior_module = nwbfile.create_processing_module(\n",
    "    name=\"behavior\", description=\"Processed behavioral data\"\n",
    ")\n",
    "\n",
    "pupil_diameter = TimeSeries(\n",
    "    name=\"pupil_radius\",\n",
    "    description=\"Pupil radius extracted from the video of the right eye.\",\n",
    "    data=np.concatenate(pupilData['pupilRadius']),\n",
    "    timestamps=pupilTimestamps,\n",
    "    unit=\"na\",\n",
    ")\n",
    "\n",
    "pupil_tracking = PupilTracking(time_series=pupil_diameter, name=\"PupilTracking\")\n",
    "\n",
    "behavior_module.add(pupil_tracking)"
   ]
  },
  {
   "cell_type": "code",
   "execution_count": 28,
   "metadata": {},
   "outputs": [],
   "source": [
    "# test file write\n",
    "writeNWB(outputNWBpath,nwbfile)\n",
    "# view with neurosift: neurosift {outputNWBpath}"
   ]
  },
  {
   "cell_type": "markdown",
   "metadata": {},
   "source": [
    "##### add pupil video\n",
    "- without video: ~1.4 GB for AA0304\n",
    "- with pupil video: ~4.6 GB for AA0304"
   ]
  },
  {
   "cell_type": "code",
   "execution_count": 29,
   "metadata": {},
   "outputs": [],
   "source": [
    "pupil_video = ImageSeries(\n",
    "    name=\"pupil_video\",\n",
    "    description=\"Pupil video of the right eye.\",\n",
    "    data=pupilData['pupilImgData'],\n",
    "    timestamps=pupilTimestamps,\n",
    "    unit=\"arbitrary\",\n",
    ")\n",
    "\n",
    "pupil_video_module = nwbfile.create_processing_module(\n",
    "    name=\"pupillometry video\", description=\"pupillometry video data\"\n",
    ")\n",
    "\n",
    "pupil_video_module.add(pupil_video)"
   ]
  },
  {
   "cell_type": "code",
   "execution_count": 30,
   "metadata": {},
   "outputs": [],
   "source": [
    "# test file write\n",
    "writeNWB(outputNWBpath,nwbfile)\n",
    "# view with neurosift: neurosift {outputNWBpath}"
   ]
  },
  {
   "cell_type": "markdown",
   "metadata": {},
   "source": [
    "# ScanImage --> NWB function"
   ]
  },
  {
   "cell_type": "code",
   "execution_count": 6,
   "metadata": {},
   "outputs": [
    {
     "name": "stdout",
     "output_type": "stream",
     "text": [
      "[('AA0314AAAA_00010_00001.tif', '25-Apr-2021 15:33:20', 170.0), ('AA0314AAAA_00011_00001.tif', '25-Apr-2021 15:35:00', 170.0), ('AA0314AAAA_00012_00001.tif', '25-Apr-2021 15:37:22', 170.0), ('AA0314AAAA_00013_00001.tif', '25-Apr-2021 15:38:32', 170.0), ('AA0314AAAA_00014_00001.tif', '25-Apr-2021 15:39:30', 170.0), ('AA0314AAAA_00015_00001.tif', '25-Apr-2021 15:40:44', 170.0), ('AA0314AAAA_00016_00001.tif', '25-Apr-2021 15:42:11', 170.0), ('AA0314AAAA_00017_00001.tif', '25-Apr-2021 15:43:07', 170.0), ('AA0314AAAA_00018_00001.tif', '25-Apr-2021 15:44:31', 170.0), ('AA0314AAAA_00019_00001.tif', '25-Apr-2021 15:45:46', 170.0), ('AA0314AAAA_00020_00001.tif', '25-Apr-2021 15:46:46', 170.0), ('AA0314AAAA_00021_00001.tif', '25-Apr-2021 15:48:34', 170.0), ('AA0314AAAA_00022_00001.tif', '25-Apr-2021 15:49:43', 170.0), ('AA0314AAAA_00023_00001.tif', '25-Apr-2021 15:50:44', 170.0), ('AA0314AAAA_00024_00001.tif', '25-Apr-2021 15:51:42', 170.0), ('AA0314AAAA_00025_00001.tif', '25-Apr-2021 15:52:57', 170.0), ('AA0314AAAA_00026_00001.tif', '25-Apr-2021 15:54:17', 120.0), ('AA0314AAAA_00029_00001.tif', '25-Apr-2021 16:02:25', 120.0), ('AA0314AAAA_00030_00001.tif', '25-Apr-2021 16:03:51', 120.0), ('AA0314AAAA_00031_00001.tif', '25-Apr-2021 16:04:40', 120.0), ('AA0314AAAA_00032_00001.tif', '25-Apr-2021 16:05:28', 120.0), ('AA0314AAAA_00033_00001.tif', '25-Apr-2021 16:06:19', 120.0), ('AA0314AAAA_00035_00001.tif', '25-Apr-2021 16:07:54', 120.0), ('AA0314AAAA_00036_00001.tif', '25-Apr-2021 16:08:44', 120.0), ('AA0314AAAA_00037_00001.tif', '25-Apr-2021 16:09:31', 120.0), ('AA0314AAAA_00038_00001.tif', '25-Apr-2021 16:10:17', 120.0), ('AA0314AAAA_00039_00001.tif', '25-Apr-2021 16:11:04', 120.0), ('AA0314AAAA_00040_00001.tif', '25-Apr-2021 16:11:53', 120.0), ('AA0314AAAA_00041_00001.tif', '25-Apr-2021 16:12:44', 120.0), ('AA0314AAAA_00042_00001.tif', '25-Apr-2021 16:13:31', 120.0), ('AA0314AAAA_00043_00001.tif', '25-Apr-2021 16:14:57', 170.0), ('AA0314AAAA_00044_00001.tif', '25-Apr-2021 16:16:18', 170.0), ('AA0314AAAA_00045_00001.tif', '25-Apr-2021 16:17:25', 170.0), ('AA0314AAAA_00046_00001.tif', '25-Apr-2021 16:18:37', 170.0), ('AA0314AAAA_00047_00001.tif', '25-Apr-2021 16:19:36', 170.0), ('AA0314AAAA_00048_00001.tif', '25-Apr-2021 16:20:41', 170.0), ('AA0314AAAA_00049_00001.tif', '25-Apr-2021 16:21:58', 170.0), ('AA0314AAAA_00050_00001.tif', '25-Apr-2021 16:23:05', 170.0), ('AA0314AAAA_00051_00001.tif', '25-Apr-2021 16:24:03', 170.0), ('AA0314AAAA_00052_00001.tif', '25-Apr-2021 16:48:50', 170.0), ('AA0314AAAA_00053_00001.tif', '25-Apr-2021 16:49:59', 170.0), ('AA0314AAAA_00054_00001.tif', '25-Apr-2021 16:51:16', 170.0), ('AA0314AAAA_00055_00001.tif', '25-Apr-2021 16:52:33', 170.0), ('AA0314AAAA_00056_00001.tif', '25-Apr-2021 16:53:34', 170.0), ('AA0314AAAA_00057_00001.tif', '25-Apr-2021 16:54:44', 170.0), ('AA0314AAAA_00058_00001.tif', '25-Apr-2021 16:55:44', 170.0), ('AA0314AAAA_00059_00001.tif', '25-Apr-2021 16:57:01', 170.0), ('AA0314AAAA_00060_00001.tif', '25-Apr-2021 16:58:19', 170.0), ('AA0314AAAA_00061_00001.tif', '25-Apr-2021 16:59:30', 170.0), ('AA0314AAAA_00062_00001.tif', '25-Apr-2021 17:01:01', 170.0), ('AA0314AAAA_00063_00001.tif', '25-Apr-2021 17:02:11', 170.0), ('AA0314AAAA_00064_00001.tif', '25-Apr-2021 17:03:45', 170.0), ('AA0314AAAA_00065_00001.tif', '25-Apr-2021 17:05:03', 170.0), ('AA0314AAAA_00066_00001.tif', '25-Apr-2021 17:06:04', 170.0), ('AA0314AAAA_00067_00001.tif', '25-Apr-2021 17:07:15', 170.0), ('AA0314AAAA_00068_00001.tif', '25-Apr-2021 17:08:44', 120.0), ('AA0314AAAA_00069_00001.tif', '25-Apr-2021 17:09:33', 120.0), ('AA0314AAAA_00070_00001.tif', '25-Apr-2021 17:10:20', 120.0), ('AA0314AAAA_00071_00001.tif', '25-Apr-2021 17:11:11', 120.0), ('AA0314AAAA_00072_00001.tif', '25-Apr-2021 17:12:00', 120.0), ('AA0314AAAA_00073_00001.tif', '25-Apr-2021 17:12:46', 120.0), ('AA0314AAAA_00074_00001.tif', '25-Apr-2021 17:13:36', 120.0), ('AA0314AAAA_00076_00001.tif', '25-Apr-2021 17:16:39', 120.0), ('AA0314AAAA_00077_00001.tif', '25-Apr-2021 17:17:28', 120.0), ('AA0314AAAA_00078_00001.tif', '25-Apr-2021 17:18:15', 120.0), ('AA0314AAAA_00079_00001.tif', '25-Apr-2021 17:19:06', 120.0), ('AA0314AAAA_00080_00001.tif', '25-Apr-2021 17:19:54', 120.0), ('AA0314AAAA_00081_00001.tif', '25-Apr-2021 17:20:40', 120.0), ('AA0314AAAA_00082_00001.tif', '25-Apr-2021 17:21:31', 120.0), ('AA0314AAAA_00083_00001.tif', '25-Apr-2021 17:22:18', 120.0), ('AA0314AAAA_00084_00001.tif', '25-Apr-2021 17:23:45', 170.0), ('AA0314AAAA_00085_00001.tif', '25-Apr-2021 17:24:58', 170.0), ('AA0314AAAA_00086_00001.tif', '25-Apr-2021 17:26:02', 170.0), ('AA0314AAAA_00087_00001.tif', '25-Apr-2021 17:27:06', 170.0), ('AA0314AAAA_00088_00001.tif', '25-Apr-2021 17:28:22', 170.0), ('AA0314AAAA_00089_00001.tif', '25-Apr-2021 17:29:23', 170.0), ('AA0314AAAA_00090_00001.tif', '25-Apr-2021 17:30:25', 170.0), ('AA0314AAAA_00091_00001.tif', '25-Apr-2021 17:31:30', 170.0), ('AA0314AAAA_00092_00001.tif', '25-Apr-2021 17:32:31', 170.0), ('AA0314AAAA_00094_00001.tif', '25-Apr-2021 17:34:21', 120.0), ('AA0314AAAA_00095_00001.tif', '25-Apr-2021 17:35:08', 120.0), ('AA0314AAAA_00096_00001.tif', '25-Apr-2021 17:37:09', 150.0), ('AA0314AAAA_00097_00001.tif', '25-Apr-2021 17:38:14', 150.0), ('AA0314AAAA_00098_00001.tif', '25-Apr-2021 17:39:28', 150.0), ('AA0314AAAA_00099_00001.tif', '25-Apr-2021 17:40:48', 150.0)]\n",
      "(12820, 256, 256)\n",
      "total frames: 12820\n",
      "length of timestamps: 12820\n",
      "added 2P data\n"
     ]
    },
    {
     "name": "stderr",
     "output_type": "stream",
     "text": [
      "/home/pac/Documents/Python/nwb/venvNWB/lib/python3.12/site-packages/pynwb/file.py:472: UserWarning: Date is missing timezone information. Updating to local timezone.\n",
      "  args_to_set['session_start_time'] = _add_missing_timezone(session_start_time)\n"
     ]
    },
    {
     "name": "stdout",
     "output_type": "stream",
     "text": [
      "(12820, 256, 256)\n",
      "added motion correction data\n"
     ]
    },
    {
     "ename": "FileNotFoundError",
     "evalue": "[Errno 2] No such file or directory: '/media/DATA/backups/sutter2P_backup/D_drive/dataSince20210304/AA0314/AA0314_moCorrROI_all.mat'",
     "output_type": "error",
     "traceback": [
      "\u001b[0;31m---------------------------------------------------------------------------\u001b[0m",
      "\u001b[0;31mFileNotFoundError\u001b[0m                         Traceback (most recent call last)",
      "File \u001b[0;32m~/Documents/Python/nwb/venvNWB/lib/python3.12/site-packages/scipy/io/matlab/_mio.py:39\u001b[0m, in \u001b[0;36m_open_file\u001b[0;34m(file_like, appendmat, mode)\u001b[0m\n\u001b[1;32m     38\u001b[0m \u001b[38;5;28;01mtry\u001b[39;00m:\n\u001b[0;32m---> 39\u001b[0m     \u001b[38;5;28;01mreturn\u001b[39;00m \u001b[38;5;28;43mopen\u001b[39;49m\u001b[43m(\u001b[49m\u001b[43mfile_like\u001b[49m\u001b[43m,\u001b[49m\u001b[43m \u001b[49m\u001b[43mmode\u001b[49m\u001b[43m)\u001b[49m, \u001b[38;5;28;01mTrue\u001b[39;00m\n\u001b[1;32m     40\u001b[0m \u001b[38;5;28;01mexcept\u001b[39;00m \u001b[38;5;167;01mOSError\u001b[39;00m \u001b[38;5;28;01mas\u001b[39;00m e:\n\u001b[1;32m     41\u001b[0m     \u001b[38;5;66;03m# Probably \"not found\"\u001b[39;00m\n",
      "\u001b[0;31mFileNotFoundError\u001b[0m: [Errno 2] No such file or directory: '/media/DATA/backups/sutter2P_backup/D_drive/dataSince20210304/AA0314/AA0314_moCorrROI_all.mat'",
      "\nDuring handling of the above exception, another exception occurred:\n",
      "\u001b[0;31mFileNotFoundError\u001b[0m                         Traceback (most recent call last)",
      "Cell \u001b[0;32mIn[6], line 15\u001b[0m\n\u001b[1;32m     12\u001b[0m experiment_description \u001b[38;5;241m=\u001b[39m \u001b[38;5;124m\"\u001b[39m\u001b[38;5;124mPure tone in low and high DRC contrast with pupillometry\u001b[39m\u001b[38;5;124m\"\u001b[39m\n\u001b[1;32m     13\u001b[0m keywords \u001b[38;5;241m=\u001b[39m [\u001b[38;5;124m\"\u001b[39m\u001b[38;5;124m2P\u001b[39m\u001b[38;5;124m\"\u001b[39m, \u001b[38;5;124m\"\u001b[39m\u001b[38;5;124mCGC\u001b[39m\u001b[38;5;124m\"\u001b[39m, \u001b[38;5;124m\"\u001b[39m\u001b[38;5;124mpupillometry\u001b[39m\u001b[38;5;124m\"\u001b[39m, \u001b[38;5;124m\"\u001b[39m\u001b[38;5;124mDRC\u001b[39m\u001b[38;5;124m\"\u001b[39m]\n\u001b[0;32m---> 15\u001b[0m \u001b[43mlib\u001b[49m\u001b[38;5;241;43m.\u001b[39;49m\u001b[43mnwbScanImage\u001b[49m\u001b[38;5;241;43m.\u001b[39;49m\u001b[43mgenNWBfromScanImage_pc\u001b[49m\u001b[43m(\u001b[49m\n\u001b[1;32m     16\u001b[0m \u001b[43m    \u001b[49m\u001b[43mexperimentID\u001b[49m\u001b[38;5;241;43m=\u001b[39;49m\u001b[43mexperimentID\u001b[49m\u001b[43m,\u001b[49m\u001b[43m \u001b[49m\n\u001b[1;32m     17\u001b[0m \u001b[43m    \u001b[49m\u001b[43mdataPath\u001b[49m\u001b[38;5;241;43m=\u001b[39;49m\u001b[43mdataPath\u001b[49m\u001b[43m,\u001b[49m\u001b[43m \u001b[49m\n\u001b[1;32m     18\u001b[0m \u001b[43m    \u001b[49m\u001b[43mNWBoutputPath\u001b[49m\u001b[38;5;241;43m=\u001b[39;49m\u001b[43moutputNWBpath\u001b[49m\u001b[43m,\u001b[49m\n\u001b[1;32m     19\u001b[0m \u001b[43m    \u001b[49m\u001b[43msession_description\u001b[49m\u001b[38;5;241;43m=\u001b[39;49m\u001b[43msession_description\u001b[49m\u001b[43m,\u001b[49m\n\u001b[1;32m     20\u001b[0m \u001b[43m    \u001b[49m\u001b[43mexperiment_description\u001b[49m\u001b[38;5;241;43m=\u001b[39;49m\u001b[43mexperiment_description\u001b[49m\u001b[43m,\u001b[49m\n\u001b[1;32m     21\u001b[0m \u001b[43m    \u001b[49m\u001b[43mkeywords\u001b[49m\u001b[38;5;241;43m=\u001b[39;49m\u001b[43mkeywords\u001b[49m\u001b[43m,\u001b[49m\n\u001b[1;32m     22\u001b[0m \u001b[43m    \u001b[49m\u001b[38;5;241;43m*\u001b[39;49m\u001b[38;5;241;43m*\u001b[39;49m\u001b[43mlib\u001b[49m\u001b[38;5;241;43m.\u001b[39;49m\u001b[43mnwbScanImage\u001b[49m\u001b[38;5;241;43m.\u001b[39;49m\u001b[43mPARAMS_nwbFilePC\u001b[49m\u001b[43m,\u001b[49m\n\u001b[1;32m     23\u001b[0m \u001b[43m    \u001b[49m\u001b[38;5;241;43m*\u001b[39;49m\u001b[38;5;241;43m*\u001b[39;49m\u001b[43mlib\u001b[49m\u001b[38;5;241;43m.\u001b[39;49m\u001b[43mnwbScanImage\u001b[49m\u001b[38;5;241;43m.\u001b[39;49m\u001b[43mPARAMS_imagingPC\u001b[49m\n\u001b[1;32m     24\u001b[0m \u001b[43m)\u001b[49m\n",
      "File \u001b[0;32m~/Documents/Python/nwb/data2nwb/lib/nwbScanImage.py:234\u001b[0m, in \u001b[0;36mgenNWBfromScanImage_pc\u001b[0;34m(experimentID, dataPath, NWBoutputPath, session_description, experiment_description, keywords, experimenter, related_publications, lab, institution, imaging_scopeDesc, imaging_manufacturer, imaging_opticalChannel0desc, imaging_emissionLambda, imagingPlane_rate, imagingPlane_desc, imagingPlane_excitationLambda, imagingPlane_loc, imagingPlane_indicator, imagingPlane_gridSpacing, imagingPlane_gridSpacingUnit, imagingPlane_originCoords, imagingPlane_originCoordsUnit, overWriteNWB)\u001b[0m\n\u001b[1;32m    231\u001b[0m \u001b[38;5;28mprint\u001b[39m(\u001b[38;5;124m\"\u001b[39m\u001b[38;5;124madded motion correction data\u001b[39m\u001b[38;5;124m\"\u001b[39m)\n\u001b[1;32m    233\u001b[0m \u001b[38;5;66;03m# add ROI via planeSegmentation\u001b[39;00m\n\u001b[0;32m--> 234\u001b[0m roiMasks \u001b[38;5;241m=\u001b[39m \u001b[43mlib\u001b[49m\u001b[38;5;241;43m.\u001b[39;49m\u001b[43mmat2py\u001b[49m\u001b[38;5;241;43m.\u001b[39;49m\u001b[43mgetROImasks\u001b[49m\u001b[43m(\u001b[49m\u001b[43mos\u001b[49m\u001b[38;5;241;43m.\u001b[39;49m\u001b[43mpath\u001b[49m\u001b[38;5;241;43m.\u001b[39;49m\u001b[43mjoin\u001b[49m\u001b[43m(\u001b[49m\u001b[43mexperimentDir\u001b[49m\u001b[43m,\u001b[49m\u001b[43mroiMat\u001b[49m\u001b[43m)\u001b[49m\u001b[43m)\u001b[49m\n\u001b[1;32m    236\u001b[0m img_seg \u001b[38;5;241m=\u001b[39m ImageSegmentation()\n\u001b[1;32m    238\u001b[0m ps \u001b[38;5;241m=\u001b[39m img_seg\u001b[38;5;241m.\u001b[39mcreate_plane_segmentation(\n\u001b[1;32m    239\u001b[0m     name\u001b[38;5;241m=\u001b[39m\u001b[38;5;124m\"\u001b[39m\u001b[38;5;124mPlaneSegmentation\u001b[39m\u001b[38;5;124m\"\u001b[39m,\n\u001b[1;32m    240\u001b[0m     description\u001b[38;5;241m=\u001b[39m\u001b[38;5;124m\"\u001b[39m\u001b[38;5;124moutput from segmenting the imaging plane\u001b[39m\u001b[38;5;124m\"\u001b[39m,\n\u001b[1;32m    241\u001b[0m     imaging_plane\u001b[38;5;241m=\u001b[39mimaging_plane,\n\u001b[1;32m    242\u001b[0m     reference_images\u001b[38;5;241m=\u001b[39mtwo_p_series,  \u001b[38;5;66;03m# optional\u001b[39;00m\n\u001b[1;32m    243\u001b[0m )\n",
      "File \u001b[0;32m~/Documents/Python/nwb/data2nwb/lib/mat2py.py:65\u001b[0m, in \u001b[0;36mgetROImasks\u001b[0;34m(roiMatPath)\u001b[0m\n\u001b[1;32m     60\u001b[0m \u001b[38;5;28;01mdef\u001b[39;00m \u001b[38;5;21mgetROImasks\u001b[39m(roiMatPath: \u001b[38;5;28mstr\u001b[39m) \u001b[38;5;241m-\u001b[39m\u001b[38;5;241m>\u001b[39m np\u001b[38;5;241m.\u001b[39marray:\n\u001b[1;32m     61\u001b[0m \u001b[38;5;250m    \u001b[39m\u001b[38;5;124;03m\"\"\"\u001b[39;00m\n\u001b[1;32m     62\u001b[0m \u001b[38;5;124;03m    Returns 1xNumberOfROI array of ROI image masks provided path to experiment .mat file containing\u001b[39;00m\n\u001b[1;32m     63\u001b[0m \u001b[38;5;124;03m    ROIs drawn on motion corrected data.\u001b[39;00m\n\u001b[1;32m     64\u001b[0m \u001b[38;5;124;03m    \"\"\"\u001b[39;00m\n\u001b[0;32m---> 65\u001b[0m     roiData \u001b[38;5;241m=\u001b[39m \u001b[43mloadmat\u001b[49m\u001b[43m(\u001b[49m\u001b[43mroiMatPath\u001b[49m\u001b[43m)\u001b[49m\n\u001b[1;32m     66\u001b[0m     \u001b[38;5;28;01mreturn\u001b[39;00m roiData[\u001b[38;5;124m'\u001b[39m\u001b[38;5;124mmoCorROI\u001b[39m\u001b[38;5;124m'\u001b[39m][\u001b[38;5;241m0\u001b[39m][\u001b[38;5;124m'\u001b[39m\u001b[38;5;124mmask\u001b[39m\u001b[38;5;124m'\u001b[39m]\n",
      "File \u001b[0;32m~/Documents/Python/nwb/venvNWB/lib/python3.12/site-packages/scipy/io/matlab/_mio.py:225\u001b[0m, in \u001b[0;36mloadmat\u001b[0;34m(file_name, mdict, appendmat, **kwargs)\u001b[0m\n\u001b[1;32m     88\u001b[0m \u001b[38;5;250m\u001b[39m\u001b[38;5;124;03m\"\"\"\u001b[39;00m\n\u001b[1;32m     89\u001b[0m \u001b[38;5;124;03mLoad MATLAB file.\u001b[39;00m\n\u001b[1;32m     90\u001b[0m \n\u001b[0;32m   (...)\u001b[0m\n\u001b[1;32m    222\u001b[0m \u001b[38;5;124;03m    3.14159265+3.14159265j])\u001b[39;00m\n\u001b[1;32m    223\u001b[0m \u001b[38;5;124;03m\"\"\"\u001b[39;00m\n\u001b[1;32m    224\u001b[0m variable_names \u001b[38;5;241m=\u001b[39m kwargs\u001b[38;5;241m.\u001b[39mpop(\u001b[38;5;124m'\u001b[39m\u001b[38;5;124mvariable_names\u001b[39m\u001b[38;5;124m'\u001b[39m, \u001b[38;5;28;01mNone\u001b[39;00m)\n\u001b[0;32m--> 225\u001b[0m \u001b[43m\u001b[49m\u001b[38;5;28;43;01mwith\u001b[39;49;00m\u001b[43m \u001b[49m\u001b[43m_open_file_context\u001b[49m\u001b[43m(\u001b[49m\u001b[43mfile_name\u001b[49m\u001b[43m,\u001b[49m\u001b[43m \u001b[49m\u001b[43mappendmat\u001b[49m\u001b[43m)\u001b[49m\u001b[43m \u001b[49m\u001b[38;5;28;43;01mas\u001b[39;49;00m\u001b[43m \u001b[49m\u001b[43mf\u001b[49m\u001b[43m:\u001b[49m\n\u001b[1;32m    226\u001b[0m \u001b[43m    \u001b[49m\u001b[43mMR\u001b[49m\u001b[43m,\u001b[49m\u001b[43m \u001b[49m\u001b[43m_\u001b[49m\u001b[43m \u001b[49m\u001b[38;5;241;43m=\u001b[39;49m\u001b[43m \u001b[49m\u001b[43mmat_reader_factory\u001b[49m\u001b[43m(\u001b[49m\u001b[43mf\u001b[49m\u001b[43m,\u001b[49m\u001b[43m \u001b[49m\u001b[38;5;241;43m*\u001b[39;49m\u001b[38;5;241;43m*\u001b[39;49m\u001b[43mkwargs\u001b[49m\u001b[43m)\u001b[49m\n\u001b[1;32m    227\u001b[0m \u001b[43m    \u001b[49m\u001b[43mmatfile_dict\u001b[49m\u001b[43m \u001b[49m\u001b[38;5;241;43m=\u001b[39;49m\u001b[43m \u001b[49m\u001b[43mMR\u001b[49m\u001b[38;5;241;43m.\u001b[39;49m\u001b[43mget_variables\u001b[49m\u001b[43m(\u001b[49m\u001b[43mvariable_names\u001b[49m\u001b[43m)\u001b[49m\n",
      "File \u001b[0;32m/usr/lib/python3.12/contextlib.py:137\u001b[0m, in \u001b[0;36m_GeneratorContextManager.__enter__\u001b[0;34m(self)\u001b[0m\n\u001b[1;32m    135\u001b[0m \u001b[38;5;28;01mdel\u001b[39;00m \u001b[38;5;28mself\u001b[39m\u001b[38;5;241m.\u001b[39margs, \u001b[38;5;28mself\u001b[39m\u001b[38;5;241m.\u001b[39mkwds, \u001b[38;5;28mself\u001b[39m\u001b[38;5;241m.\u001b[39mfunc\n\u001b[1;32m    136\u001b[0m \u001b[38;5;28;01mtry\u001b[39;00m:\n\u001b[0;32m--> 137\u001b[0m     \u001b[38;5;28;01mreturn\u001b[39;00m \u001b[38;5;28;43mnext\u001b[39;49m\u001b[43m(\u001b[49m\u001b[38;5;28;43mself\u001b[39;49m\u001b[38;5;241;43m.\u001b[39;49m\u001b[43mgen\u001b[49m\u001b[43m)\u001b[49m\n\u001b[1;32m    138\u001b[0m \u001b[38;5;28;01mexcept\u001b[39;00m \u001b[38;5;167;01mStopIteration\u001b[39;00m:\n\u001b[1;32m    139\u001b[0m     \u001b[38;5;28;01mraise\u001b[39;00m \u001b[38;5;167;01mRuntimeError\u001b[39;00m(\u001b[38;5;124m\"\u001b[39m\u001b[38;5;124mgenerator didn\u001b[39m\u001b[38;5;124m'\u001b[39m\u001b[38;5;124mt yield\u001b[39m\u001b[38;5;124m\"\u001b[39m) \u001b[38;5;28;01mfrom\u001b[39;00m \u001b[38;5;28;01mNone\u001b[39;00m\n",
      "File \u001b[0;32m~/Documents/Python/nwb/venvNWB/lib/python3.12/site-packages/scipy/io/matlab/_mio.py:17\u001b[0m, in \u001b[0;36m_open_file_context\u001b[0;34m(file_like, appendmat, mode)\u001b[0m\n\u001b[1;32m     15\u001b[0m \u001b[38;5;129m@contextmanager\u001b[39m\n\u001b[1;32m     16\u001b[0m \u001b[38;5;28;01mdef\u001b[39;00m \u001b[38;5;21m_open_file_context\u001b[39m(file_like, appendmat, mode\u001b[38;5;241m=\u001b[39m\u001b[38;5;124m'\u001b[39m\u001b[38;5;124mrb\u001b[39m\u001b[38;5;124m'\u001b[39m):\n\u001b[0;32m---> 17\u001b[0m     f, opened \u001b[38;5;241m=\u001b[39m \u001b[43m_open_file\u001b[49m\u001b[43m(\u001b[49m\u001b[43mfile_like\u001b[49m\u001b[43m,\u001b[49m\u001b[43m \u001b[49m\u001b[43mappendmat\u001b[49m\u001b[43m,\u001b[49m\u001b[43m \u001b[49m\u001b[43mmode\u001b[49m\u001b[43m)\u001b[49m\n\u001b[1;32m     18\u001b[0m     \u001b[38;5;28;01mtry\u001b[39;00m:\n\u001b[1;32m     19\u001b[0m         \u001b[38;5;28;01myield\u001b[39;00m f\n",
      "File \u001b[0;32m~/Documents/Python/nwb/venvNWB/lib/python3.12/site-packages/scipy/io/matlab/_mio.py:45\u001b[0m, in \u001b[0;36m_open_file\u001b[0;34m(file_like, appendmat, mode)\u001b[0m\n\u001b[1;32m     43\u001b[0m     \u001b[38;5;28;01mif\u001b[39;00m appendmat \u001b[38;5;129;01mand\u001b[39;00m \u001b[38;5;129;01mnot\u001b[39;00m file_like\u001b[38;5;241m.\u001b[39mendswith(\u001b[38;5;124m'\u001b[39m\u001b[38;5;124m.mat\u001b[39m\u001b[38;5;124m'\u001b[39m):\n\u001b[1;32m     44\u001b[0m         file_like \u001b[38;5;241m+\u001b[39m\u001b[38;5;241m=\u001b[39m \u001b[38;5;124m'\u001b[39m\u001b[38;5;124m.mat\u001b[39m\u001b[38;5;124m'\u001b[39m\n\u001b[0;32m---> 45\u001b[0m     \u001b[38;5;28;01mreturn\u001b[39;00m \u001b[38;5;28;43mopen\u001b[39;49m\u001b[43m(\u001b[49m\u001b[43mfile_like\u001b[49m\u001b[43m,\u001b[49m\u001b[43m \u001b[49m\u001b[43mmode\u001b[49m\u001b[43m)\u001b[49m, \u001b[38;5;28;01mTrue\u001b[39;00m\n\u001b[1;32m     46\u001b[0m \u001b[38;5;28;01melse\u001b[39;00m:\n\u001b[1;32m     47\u001b[0m     \u001b[38;5;28;01mraise\u001b[39;00m \u001b[38;5;167;01mOSError\u001b[39;00m(\n\u001b[1;32m     48\u001b[0m         \u001b[38;5;124m'\u001b[39m\u001b[38;5;124mReader needs file name or open file-like object\u001b[39m\u001b[38;5;124m'\u001b[39m\n\u001b[1;32m     49\u001b[0m     ) \u001b[38;5;28;01mfrom\u001b[39;00m \u001b[38;5;21;01me\u001b[39;00m\n",
      "\u001b[0;31mFileNotFoundError\u001b[0m: [Errno 2] No such file or directory: '/media/DATA/backups/sutter2P_backup/D_drive/dataSince20210304/AA0314/AA0314_moCorrROI_all.mat'"
     ]
    }
   ],
   "source": [
    "import lib.nwbScanImage\n",
    "\n",
    "import importlib\n",
    "importlib.reload(lib.nwbScanImage)\n",
    "\n",
    "experimentID = 'AA0314'\n",
    "\n",
    "dataPath = \"/media/DATA/backups/sutter2P_backup/D_drive/dataSince20210304\"\n",
    "outputNWBpath = os.path.join(dataPath,experimentID,f\"{experimentID}.nwb\")\n",
    "\n",
    "session_description = f\"pupilPTinContrast_{experimentID}_C57BL6J\"\n",
    "experiment_description = \"Pure tone in low and high DRC contrast with pupillometry\"\n",
    "keywords = [\"2P\", \"CGC\", \"pupillometry\", \"DRC\"]\n",
    "\n",
    "lib.nwbScanImage.genNWBfromScanImage_pc(\n",
    "    experimentID=experimentID, \n",
    "    dataPath=dataPath, \n",
    "    NWBoutputPath=outputNWBpath,\n",
    "    session_description=session_description,\n",
    "    experiment_description=experiment_description,\n",
    "    keywords=keywords,\n",
    "    **lib.nwbScanImage.PARAMS_nwbFilePC,\n",
    "    **lib.nwbScanImage.PARAMS_imagingPC\n",
    ")"
   ]
  },
  {
   "cell_type": "code",
   "execution_count": 1,
   "metadata": {},
   "outputs": [
    {
     "name": "stdout",
     "output_type": "stream",
     "text": [
      "[('AA0308AAAA_00020_00001.tif', '14-Apr-2021 17:32:03', 170.0), ('AA0308AAAA_00021_00001.tif', '14-Apr-2021 17:34:24', 170.0), ('AA0308AAAA_00022_00001.tif', '14-Apr-2021 17:37:16', 170.0), ('AA0308AAAA_00023_00001.tif', '14-Apr-2021 17:39:03', 170.0), ('AA0308AAAA_00025_00001.tif', '14-Apr-2021 17:44:17', 170.0), ('AA0308AAAA_00026_00001.tif', '14-Apr-2021 17:45:37', 170.0), ('AA0308AAAA_00027_00001.tif', '14-Apr-2021 17:46:54', 170.0), ('AA0308AAAA_00028_00001.tif', '14-Apr-2021 17:50:36', 120.0), ('AA0308AAAA_00029_00001.tif', '14-Apr-2021 17:53:07', 120.0), ('AA0308AAAA_00030_00001.tif', '14-Apr-2021 17:54:23', 120.0), ('AA0308AAAA_00031_00001.tif', '14-Apr-2021 17:56:11', 120.0), ('AA0308AAAA_00032_00001.tif', '14-Apr-2021 17:57:00', 120.0), ('AA0308AAAA_00033_00001.tif', '14-Apr-2021 17:57:48', 120.0), ('AA0308AAAA_00034_00001.tif', '14-Apr-2021 17:58:39', 120.0), ('AA0308AAAA_00035_00001.tif', '14-Apr-2021 17:59:27', 120.0), ('AA0308AAAA_00036_00001.tif', '14-Apr-2021 18:02:30', 170.0), ('AA0308AAAA_00037_00001.tif', '14-Apr-2021 18:04:02', 170.0), ('AA0308AAAA_00039_00001.tif', '14-Apr-2021 18:07:25', 170.0), ('AA0308AAAA_00040_00001.tif', '14-Apr-2021 18:08:48', 170.0), ('AA0308AAAA_00041_00001.tif', '14-Apr-2021 18:10:08', 170.0), ('AA0308AAAA_00042_00001.tif', '14-Apr-2021 18:11:30', 170.0), ('AA0308AAAA_00043_00001.tif', '14-Apr-2021 18:13:02', 170.0), ('AA0308AAAA_00044_00001.tif', '14-Apr-2021 18:15:14', 120.0), ('AA0308AAAA_00045_00001.tif', '14-Apr-2021 18:16:04', 120.0), ('AA0308AAAA_00046_00001.tif', '14-Apr-2021 18:16:51', 120.0), ('AA0308AAAA_00047_00001.tif', '14-Apr-2021 18:17:43', 120.0), ('AA0308AAAA_00049_00001.tif', '14-Apr-2021 18:19:17', 120.0), ('AA0308AAAA_00050_00001.tif', '14-Apr-2021 18:20:08', 120.0), ('AA0308AAAA_00051_00001.tif', '14-Apr-2021 18:20:55', 120.0), ('AA0308AAAA_00053_00001.tif', '14-Apr-2021 18:22:32', 120.0), ('AA0308AAAA_00054_00001.tif', '14-Apr-2021 18:23:21', 120.0), ('AA0308AAAA_00055_00001.tif', '14-Apr-2021 18:24:09', 120.0), ('AA0308AAAA_00056_00001.tif', '14-Apr-2021 18:30:51', 150.0), ('AA0308AAAA_00057_00001.tif', '14-Apr-2021 18:32:16', 150.0), ('AA0308AAAA_00058_00001.tif', '14-Apr-2021 18:33:18', 150.0), ('AA0308AAAA_00059_00001.tif', '14-Apr-2021 18:34:27', 150.0), ('AA0308AAAA_00060_00001.tif', '14-Apr-2021 18:36:19', 170.0), ('AA0308AAAA_00061_00001.tif', '14-Apr-2021 18:37:25', 170.0), ('AA0308AAAA_00062_00001.tif', '14-Apr-2021 18:38:40', 170.0), ('AA0308AAAA_00063_00001.tif', '14-Apr-2021 18:39:49', 170.0), ('AA0308AAAA_00064_00001.tif', '14-Apr-2021 18:40:54', 170.0), ('AA0308AAAA_00065_00001.tif', '14-Apr-2021 18:41:57', 170.0), ('AA0308AAAA_00066_00001.tif', '14-Apr-2021 18:43:23', 170.0), ('AA0308AAAA_00067_00001.tif', '14-Apr-2021 18:44:31', 170.0), ('AA0308AAAA_00068_00001.tif', '14-Apr-2021 18:46:07', 120.0), ('AA0308AAAA_00069_00001.tif', '14-Apr-2021 18:46:57', 120.0), ('AA0308AAAA_00070_00001.tif', '14-Apr-2021 18:47:44', 120.0), ('AA0308AAAA_00071_00001.tif', '14-Apr-2021 18:48:35', 120.0), ('AA0308AAAA_00072_00001.tif', '14-Apr-2021 18:49:24', 120.0), ('AA0308AAAA_00073_00001.tif', '14-Apr-2021 18:50:10', 120.0), ('AA0308AAAA_00074_00001.tif', '14-Apr-2021 18:51:01', 120.0), ('AA0308AAAA_00075_00001.tif', '14-Apr-2021 18:51:48', 120.0)]\n",
      "(7460, 256, 256)\n",
      "total frames: 7460\n",
      "length of timestamps: 7460\n",
      "added 2P data\n"
     ]
    },
    {
     "name": "stderr",
     "output_type": "stream",
     "text": [
      "/home/pac/Documents/Python/nwb/venvNWB/lib/python3.12/site-packages/pynwb/file.py:472: UserWarning: Date is missing timezone information. Updating to local timezone.\n",
      "  args_to_set['session_start_time'] = _add_missing_timezone(session_start_time)\n"
     ]
    },
    {
     "name": "stdout",
     "output_type": "stream",
     "text": [
      "(7460, 256, 256)\n",
      "added motion correction data\n",
      "added ROI segmentation data\n"
     ]
    },
    {
     "name": "stderr",
     "output_type": "stream",
     "text": [
      "/home/pac/Documents/Python/nwb/venvNWB/lib/python3.12/site-packages/hdmf/container.py:536: UserWarning: The linked table for DynamicTableRegion 'rois' does not share an ancestor with the DynamicTableRegion.\n",
      "  child._validate_on_set_parent()\n"
     ]
    },
    {
     "name": "stdout",
     "output_type": "stream",
     "text": [
      "added fluorescence trace data for ROIs\n",
      "added stim table data\n",
      "found pupillometry data for AA0308\n",
      "added pupil radius data\n",
      "added pupil video data\n",
      "NWB write success to: /media/DATA/backups/sutter2P_backup/D_drive/dataSince20210304/AA0308/AA0308.nwb\n"
     ]
    }
   ],
   "source": [
    "import os\n",
    "import lib.nwbScanImage\n",
    "\n",
    "import importlib\n",
    "importlib.reload(lib.nwbScanImage)\n",
    "\n",
    "experimentID = 'AA0308'\n",
    "# /media/DATA/backups/sutter2P_backup/D_drive/ZnT3_pupil/BIN2/AA0323\n",
    "#  /media/DATA/backups/sutter2P_backup/D_drive/dataSince20210304/AA0308\n",
    "dataPath = \"/media/DATA/backups/sutter2P_backup/D_drive/dataSince20210304\"\n",
    "outputNWBpath = os.path.join(dataPath,experimentID,f\"{experimentID}.nwb\")\n",
    "\n",
    "session_description = f\"pupilPTinContrast_{experimentID}_C57BL6J\"\n",
    "experiment_description = \"Pure tone in low and high DRC contrast with pupillometry\"\n",
    "keywords = [\"2P\", \"CGC\", \"pupillometry\", \"DRC\"]\n",
    "\n",
    "lib.nwbScanImage.genNWBfromScanImage_pc(\n",
    "    experimentID=experimentID, \n",
    "    dataPath=dataPath, \n",
    "    NWBoutputPath=outputNWBpath,\n",
    "    session_description=session_description,\n",
    "    experiment_description=experiment_description,\n",
    "    keywords=keywords,\n",
    "    **lib.nwbScanImage.PARAMS_nwbFilePC,\n",
    "    **lib.nwbScanImage.PARAMS_imagingPC\n",
    ")"
   ]
  },
  {
   "cell_type": "markdown",
   "metadata": {},
   "source": [
    "### loop over dirs"
   ]
  },
  {
   "cell_type": "code",
   "execution_count": 1,
   "metadata": {},
   "outputs": [
    {
     "name": "stdout",
     "output_type": "stream",
     "text": [
      "NWB file already created for AA0310\n",
      "NWB file already created for AA0312\n",
      "[('AA0314AAAA_00010_00001.tif', '25-Apr-2021 15:33:20', 170.0), ('AA0314AAAA_00011_00001.tif', '25-Apr-2021 15:35:00', 170.0), ('AA0314AAAA_00012_00001.tif', '25-Apr-2021 15:37:22', 170.0), ('AA0314AAAA_00013_00001.tif', '25-Apr-2021 15:38:32', 170.0), ('AA0314AAAA_00014_00001.tif', '25-Apr-2021 15:39:30', 170.0), ('AA0314AAAA_00015_00001.tif', '25-Apr-2021 15:40:44', 170.0), ('AA0314AAAA_00016_00001.tif', '25-Apr-2021 15:42:11', 170.0), ('AA0314AAAA_00017_00001.tif', '25-Apr-2021 15:43:07', 170.0), ('AA0314AAAA_00018_00001.tif', '25-Apr-2021 15:44:31', 170.0), ('AA0314AAAA_00019_00001.tif', '25-Apr-2021 15:45:46', 170.0), ('AA0314AAAA_00020_00001.tif', '25-Apr-2021 15:46:46', 170.0), ('AA0314AAAA_00021_00001.tif', '25-Apr-2021 15:48:34', 170.0), ('AA0314AAAA_00022_00001.tif', '25-Apr-2021 15:49:43', 170.0), ('AA0314AAAA_00023_00001.tif', '25-Apr-2021 15:50:44', 170.0), ('AA0314AAAA_00024_00001.tif', '25-Apr-2021 15:51:42', 170.0), ('AA0314AAAA_00025_00001.tif', '25-Apr-2021 15:52:57', 170.0), ('AA0314AAAA_00026_00001.tif', '25-Apr-2021 15:54:17', 120.0), ('AA0314AAAA_00029_00001.tif', '25-Apr-2021 16:02:25', 120.0), ('AA0314AAAA_00030_00001.tif', '25-Apr-2021 16:03:51', 120.0), ('AA0314AAAA_00031_00001.tif', '25-Apr-2021 16:04:40', 120.0), ('AA0314AAAA_00032_00001.tif', '25-Apr-2021 16:05:28', 120.0), ('AA0314AAAA_00033_00001.tif', '25-Apr-2021 16:06:19', 120.0), ('AA0314AAAA_00035_00001.tif', '25-Apr-2021 16:07:54', 120.0), ('AA0314AAAA_00036_00001.tif', '25-Apr-2021 16:08:44', 120.0), ('AA0314AAAA_00037_00001.tif', '25-Apr-2021 16:09:31', 120.0), ('AA0314AAAA_00038_00001.tif', '25-Apr-2021 16:10:17', 120.0), ('AA0314AAAA_00039_00001.tif', '25-Apr-2021 16:11:04', 120.0), ('AA0314AAAA_00040_00001.tif', '25-Apr-2021 16:11:53', 120.0), ('AA0314AAAA_00041_00001.tif', '25-Apr-2021 16:12:44', 120.0), ('AA0314AAAA_00042_00001.tif', '25-Apr-2021 16:13:31', 120.0), ('AA0314AAAA_00043_00001.tif', '25-Apr-2021 16:14:57', 170.0), ('AA0314AAAA_00044_00001.tif', '25-Apr-2021 16:16:18', 170.0), ('AA0314AAAA_00045_00001.tif', '25-Apr-2021 16:17:25', 170.0), ('AA0314AAAA_00046_00001.tif', '25-Apr-2021 16:18:37', 170.0), ('AA0314AAAA_00047_00001.tif', '25-Apr-2021 16:19:36', 170.0), ('AA0314AAAA_00048_00001.tif', '25-Apr-2021 16:20:41', 170.0), ('AA0314AAAA_00049_00001.tif', '25-Apr-2021 16:21:58', 170.0), ('AA0314AAAA_00050_00001.tif', '25-Apr-2021 16:23:05', 170.0), ('AA0314AAAA_00051_00001.tif', '25-Apr-2021 16:24:03', 170.0), ('AA0314AAAA_00052_00001.tif', '25-Apr-2021 16:48:50', 170.0), ('AA0314AAAA_00053_00001.tif', '25-Apr-2021 16:49:59', 170.0), ('AA0314AAAA_00054_00001.tif', '25-Apr-2021 16:51:16', 170.0), ('AA0314AAAA_00055_00001.tif', '25-Apr-2021 16:52:33', 170.0), ('AA0314AAAA_00056_00001.tif', '25-Apr-2021 16:53:34', 170.0), ('AA0314AAAA_00057_00001.tif', '25-Apr-2021 16:54:44', 170.0), ('AA0314AAAA_00058_00001.tif', '25-Apr-2021 16:55:44', 170.0), ('AA0314AAAA_00059_00001.tif', '25-Apr-2021 16:57:01', 170.0), ('AA0314AAAA_00060_00001.tif', '25-Apr-2021 16:58:19', 170.0), ('AA0314AAAA_00061_00001.tif', '25-Apr-2021 16:59:30', 170.0), ('AA0314AAAA_00062_00001.tif', '25-Apr-2021 17:01:01', 170.0), ('AA0314AAAA_00063_00001.tif', '25-Apr-2021 17:02:11', 170.0), ('AA0314AAAA_00064_00001.tif', '25-Apr-2021 17:03:45', 170.0), ('AA0314AAAA_00065_00001.tif', '25-Apr-2021 17:05:03', 170.0), ('AA0314AAAA_00066_00001.tif', '25-Apr-2021 17:06:04', 170.0), ('AA0314AAAA_00067_00001.tif', '25-Apr-2021 17:07:15', 170.0), ('AA0314AAAA_00068_00001.tif', '25-Apr-2021 17:08:44', 120.0), ('AA0314AAAA_00069_00001.tif', '25-Apr-2021 17:09:33', 120.0), ('AA0314AAAA_00070_00001.tif', '25-Apr-2021 17:10:20', 120.0), ('AA0314AAAA_00071_00001.tif', '25-Apr-2021 17:11:11', 120.0), ('AA0314AAAA_00072_00001.tif', '25-Apr-2021 17:12:00', 120.0), ('AA0314AAAA_00073_00001.tif', '25-Apr-2021 17:12:46', 120.0), ('AA0314AAAA_00074_00001.tif', '25-Apr-2021 17:13:36', 120.0), ('AA0314AAAA_00076_00001.tif', '25-Apr-2021 17:16:39', 120.0), ('AA0314AAAA_00077_00001.tif', '25-Apr-2021 17:17:28', 120.0), ('AA0314AAAA_00078_00001.tif', '25-Apr-2021 17:18:15', 120.0), ('AA0314AAAA_00079_00001.tif', '25-Apr-2021 17:19:06', 120.0), ('AA0314AAAA_00080_00001.tif', '25-Apr-2021 17:19:54', 120.0), ('AA0314AAAA_00081_00001.tif', '25-Apr-2021 17:20:40', 120.0), ('AA0314AAAA_00082_00001.tif', '25-Apr-2021 17:21:31', 120.0), ('AA0314AAAA_00083_00001.tif', '25-Apr-2021 17:22:18', 120.0), ('AA0314AAAA_00084_00001.tif', '25-Apr-2021 17:23:45', 170.0), ('AA0314AAAA_00085_00001.tif', '25-Apr-2021 17:24:58', 170.0), ('AA0314AAAA_00086_00001.tif', '25-Apr-2021 17:26:02', 170.0), ('AA0314AAAA_00087_00001.tif', '25-Apr-2021 17:27:06', 170.0), ('AA0314AAAA_00088_00001.tif', '25-Apr-2021 17:28:22', 170.0), ('AA0314AAAA_00089_00001.tif', '25-Apr-2021 17:29:23', 170.0), ('AA0314AAAA_00090_00001.tif', '25-Apr-2021 17:30:25', 170.0), ('AA0314AAAA_00091_00001.tif', '25-Apr-2021 17:31:30', 170.0), ('AA0314AAAA_00092_00001.tif', '25-Apr-2021 17:32:31', 170.0), ('AA0314AAAA_00094_00001.tif', '25-Apr-2021 17:34:21', 120.0), ('AA0314AAAA_00095_00001.tif', '25-Apr-2021 17:35:08', 120.0), ('AA0314AAAA_00096_00001.tif', '25-Apr-2021 17:37:09', 150.0), ('AA0314AAAA_00097_00001.tif', '25-Apr-2021 17:38:14', 150.0), ('AA0314AAAA_00098_00001.tif', '25-Apr-2021 17:39:28', 150.0), ('AA0314AAAA_00099_00001.tif', '25-Apr-2021 17:40:48', 150.0)]\n",
      "(12820, 256, 256)\n",
      "total frames: 12820\n",
      "length of timestamps: 12820\n",
      "added 2P data\n"
     ]
    },
    {
     "name": "stderr",
     "output_type": "stream",
     "text": [
      "/home/pac/Documents/Python/nwb/venvNWB/lib/python3.12/site-packages/pynwb/file.py:472: UserWarning: Date is missing timezone information. Updating to local timezone.\n",
      "  args_to_set['session_start_time'] = _add_missing_timezone(session_start_time)\n"
     ]
    },
    {
     "name": "stdout",
     "output_type": "stream",
     "text": [
      "(12820, 256, 256)\n",
      "added motion correction data\n"
     ]
    },
    {
     "ename": "FileNotFoundError",
     "evalue": "[Errno 2] No such file or directory: '/media/DATA/backups/sutter2P_backup/D_drive/dataSince20210304/AA0314/AA0314_moCorrROI_all.mat'",
     "output_type": "error",
     "traceback": [
      "\u001b[0;31m---------------------------------------------------------------------------\u001b[0m",
      "\u001b[0;31mFileNotFoundError\u001b[0m                         Traceback (most recent call last)",
      "File \u001b[0;32m~/Documents/Python/nwb/venvNWB/lib/python3.12/site-packages/scipy/io/matlab/_mio.py:39\u001b[0m, in \u001b[0;36m_open_file\u001b[0;34m(file_like, appendmat, mode)\u001b[0m\n\u001b[1;32m     38\u001b[0m \u001b[38;5;28;01mtry\u001b[39;00m:\n\u001b[0;32m---> 39\u001b[0m     \u001b[38;5;28;01mreturn\u001b[39;00m \u001b[38;5;28;43mopen\u001b[39;49m\u001b[43m(\u001b[49m\u001b[43mfile_like\u001b[49m\u001b[43m,\u001b[49m\u001b[43m \u001b[49m\u001b[43mmode\u001b[49m\u001b[43m)\u001b[49m, \u001b[38;5;28;01mTrue\u001b[39;00m\n\u001b[1;32m     40\u001b[0m \u001b[38;5;28;01mexcept\u001b[39;00m \u001b[38;5;167;01mOSError\u001b[39;00m \u001b[38;5;28;01mas\u001b[39;00m e:\n\u001b[1;32m     41\u001b[0m     \u001b[38;5;66;03m# Probably \"not found\"\u001b[39;00m\n",
      "\u001b[0;31mFileNotFoundError\u001b[0m: [Errno 2] No such file or directory: '/media/DATA/backups/sutter2P_backup/D_drive/dataSince20210304/AA0314/AA0314_moCorrROI_all.mat'",
      "\nDuring handling of the above exception, another exception occurred:\n",
      "\u001b[0;31mFileNotFoundError\u001b[0m                         Traceback (most recent call last)",
      "Cell \u001b[0;32mIn[1], line 28\u001b[0m\n\u001b[1;32m     25\u001b[0m experiment_description \u001b[38;5;241m=\u001b[39m \u001b[38;5;124m\"\u001b[39m\u001b[38;5;124mPure tone in low and high DRC contrast with pupillometry\u001b[39m\u001b[38;5;124m\"\u001b[39m\n\u001b[1;32m     26\u001b[0m keywords \u001b[38;5;241m=\u001b[39m [\u001b[38;5;124m\"\u001b[39m\u001b[38;5;124m2P\u001b[39m\u001b[38;5;124m\"\u001b[39m, \u001b[38;5;124m\"\u001b[39m\u001b[38;5;124mCGC\u001b[39m\u001b[38;5;124m\"\u001b[39m, \u001b[38;5;124m\"\u001b[39m\u001b[38;5;124mpupillometry\u001b[39m\u001b[38;5;124m\"\u001b[39m, \u001b[38;5;124m\"\u001b[39m\u001b[38;5;124mDRC\u001b[39m\u001b[38;5;124m\"\u001b[39m]\n\u001b[0;32m---> 28\u001b[0m \u001b[43mlib\u001b[49m\u001b[38;5;241;43m.\u001b[39;49m\u001b[43mnwbScanImage\u001b[49m\u001b[38;5;241;43m.\u001b[39;49m\u001b[43mgenNWBfromScanImage_pc\u001b[49m\u001b[43m(\u001b[49m\n\u001b[1;32m     29\u001b[0m \u001b[43m    \u001b[49m\u001b[43mexperimentID\u001b[49m\u001b[38;5;241;43m=\u001b[39;49m\u001b[43mexperimentID\u001b[49m\u001b[43m,\u001b[49m\u001b[43m \u001b[49m\n\u001b[1;32m     30\u001b[0m \u001b[43m    \u001b[49m\u001b[43mdataPath\u001b[49m\u001b[38;5;241;43m=\u001b[39;49m\u001b[43mdataPath\u001b[49m\u001b[43m,\u001b[49m\u001b[43m \u001b[49m\n\u001b[1;32m     31\u001b[0m \u001b[43m    \u001b[49m\u001b[43mNWBoutputPath\u001b[49m\u001b[38;5;241;43m=\u001b[39;49m\u001b[43moutputNWBpath\u001b[49m\u001b[43m,\u001b[49m\n\u001b[1;32m     32\u001b[0m \u001b[43m    \u001b[49m\u001b[43msession_description\u001b[49m\u001b[38;5;241;43m=\u001b[39;49m\u001b[43msession_description\u001b[49m\u001b[43m,\u001b[49m\n\u001b[1;32m     33\u001b[0m \u001b[43m    \u001b[49m\u001b[43mexperiment_description\u001b[49m\u001b[38;5;241;43m=\u001b[39;49m\u001b[43mexperiment_description\u001b[49m\u001b[43m,\u001b[49m\n\u001b[1;32m     34\u001b[0m \u001b[43m    \u001b[49m\u001b[43mkeywords\u001b[49m\u001b[38;5;241;43m=\u001b[39;49m\u001b[43mkeywords\u001b[49m\u001b[43m,\u001b[49m\n\u001b[1;32m     35\u001b[0m \u001b[43m    \u001b[49m\u001b[38;5;241;43m*\u001b[39;49m\u001b[38;5;241;43m*\u001b[39;49m\u001b[43mlib\u001b[49m\u001b[38;5;241;43m.\u001b[39;49m\u001b[43mnwbScanImage\u001b[49m\u001b[38;5;241;43m.\u001b[39;49m\u001b[43mPARAMS_nwbFilePC\u001b[49m\u001b[43m,\u001b[49m\n\u001b[1;32m     36\u001b[0m \u001b[43m    \u001b[49m\u001b[38;5;241;43m*\u001b[39;49m\u001b[38;5;241;43m*\u001b[39;49m\u001b[43mlib\u001b[49m\u001b[38;5;241;43m.\u001b[39;49m\u001b[43mnwbScanImage\u001b[49m\u001b[38;5;241;43m.\u001b[39;49m\u001b[43mPARAMS_imagingPC\u001b[49m\n\u001b[1;32m     37\u001b[0m \u001b[43m    \u001b[49m\u001b[43m)\u001b[49m\n",
      "File \u001b[0;32m~/Documents/Python/nwb/scanimage/lib/nwbScanImage.py:235\u001b[0m, in \u001b[0;36mgenNWBfromScanImage_pc\u001b[0;34m(experimentID, dataPath, NWBoutputPath, session_description, experiment_description, keywords, experimenter, related_publications, lab, institution, imaging_scopeDesc, imaging_manufacturer, imaging_opticalChannel0desc, imaging_emissionLambda, imagingPlane_rate, imagingPlane_desc, imagingPlane_excitationLambda, imagingPlane_loc, imagingPlane_indicator, imagingPlane_gridSpacing, imagingPlane_gridSpacingUnit, imagingPlane_originCoords, imagingPlane_originCoordsUnit, overWriteNWB)\u001b[0m\n\u001b[1;32m    232\u001b[0m \u001b[38;5;28mprint\u001b[39m(\u001b[38;5;124m\"\u001b[39m\u001b[38;5;124madded motion correction data\u001b[39m\u001b[38;5;124m\"\u001b[39m)\n\u001b[1;32m    234\u001b[0m \u001b[38;5;66;03m# add ROI via planeSegmentation\u001b[39;00m\n\u001b[0;32m--> 235\u001b[0m roiMasks \u001b[38;5;241m=\u001b[39m \u001b[43mlib\u001b[49m\u001b[38;5;241;43m.\u001b[39;49m\u001b[43mmat2py\u001b[49m\u001b[38;5;241;43m.\u001b[39;49m\u001b[43mgetROImasks\u001b[49m\u001b[43m(\u001b[49m\u001b[43mos\u001b[49m\u001b[38;5;241;43m.\u001b[39;49m\u001b[43mpath\u001b[49m\u001b[38;5;241;43m.\u001b[39;49m\u001b[43mjoin\u001b[49m\u001b[43m(\u001b[49m\u001b[43mexperimentDir\u001b[49m\u001b[43m,\u001b[49m\u001b[43mroiMat\u001b[49m\u001b[43m)\u001b[49m\u001b[43m)\u001b[49m\n\u001b[1;32m    237\u001b[0m img_seg \u001b[38;5;241m=\u001b[39m ImageSegmentation()\n\u001b[1;32m    239\u001b[0m ps \u001b[38;5;241m=\u001b[39m img_seg\u001b[38;5;241m.\u001b[39mcreate_plane_segmentation(\n\u001b[1;32m    240\u001b[0m     name\u001b[38;5;241m=\u001b[39m\u001b[38;5;124m\"\u001b[39m\u001b[38;5;124mPlaneSegmentation\u001b[39m\u001b[38;5;124m\"\u001b[39m,\n\u001b[1;32m    241\u001b[0m     description\u001b[38;5;241m=\u001b[39m\u001b[38;5;124m\"\u001b[39m\u001b[38;5;124moutput from segmenting the imaging plane\u001b[39m\u001b[38;5;124m\"\u001b[39m,\n\u001b[1;32m    242\u001b[0m     imaging_plane\u001b[38;5;241m=\u001b[39mimaging_plane,\n\u001b[1;32m    243\u001b[0m     reference_images\u001b[38;5;241m=\u001b[39mtwo_p_series,  \u001b[38;5;66;03m# optional\u001b[39;00m\n\u001b[1;32m    244\u001b[0m )\n",
      "File \u001b[0;32m~/Documents/Python/nwb/scanimage/lib/mat2py.py:65\u001b[0m, in \u001b[0;36mgetROImasks\u001b[0;34m(roiMatPath)\u001b[0m\n\u001b[1;32m     60\u001b[0m \u001b[38;5;28;01mdef\u001b[39;00m \u001b[38;5;21mgetROImasks\u001b[39m(roiMatPath: \u001b[38;5;28mstr\u001b[39m) \u001b[38;5;241m-\u001b[39m\u001b[38;5;241m>\u001b[39m np\u001b[38;5;241m.\u001b[39marray:\n\u001b[1;32m     61\u001b[0m \u001b[38;5;250m    \u001b[39m\u001b[38;5;124;03m\"\"\"\u001b[39;00m\n\u001b[1;32m     62\u001b[0m \u001b[38;5;124;03m    Returns 1xNumberOfROI array of ROI image masks provided path to experiment .mat file containing\u001b[39;00m\n\u001b[1;32m     63\u001b[0m \u001b[38;5;124;03m    ROIs drawn on motion corrected data.\u001b[39;00m\n\u001b[1;32m     64\u001b[0m \u001b[38;5;124;03m    \"\"\"\u001b[39;00m\n\u001b[0;32m---> 65\u001b[0m     roiData \u001b[38;5;241m=\u001b[39m \u001b[43mloadmat\u001b[49m\u001b[43m(\u001b[49m\u001b[43mroiMatPath\u001b[49m\u001b[43m)\u001b[49m\n\u001b[1;32m     66\u001b[0m     \u001b[38;5;28;01mreturn\u001b[39;00m roiData[\u001b[38;5;124m'\u001b[39m\u001b[38;5;124mmoCorROI\u001b[39m\u001b[38;5;124m'\u001b[39m][\u001b[38;5;241m0\u001b[39m][\u001b[38;5;124m'\u001b[39m\u001b[38;5;124mmask\u001b[39m\u001b[38;5;124m'\u001b[39m]\n",
      "File \u001b[0;32m~/Documents/Python/nwb/venvNWB/lib/python3.12/site-packages/scipy/io/matlab/_mio.py:225\u001b[0m, in \u001b[0;36mloadmat\u001b[0;34m(file_name, mdict, appendmat, **kwargs)\u001b[0m\n\u001b[1;32m     88\u001b[0m \u001b[38;5;250m\u001b[39m\u001b[38;5;124;03m\"\"\"\u001b[39;00m\n\u001b[1;32m     89\u001b[0m \u001b[38;5;124;03mLoad MATLAB file.\u001b[39;00m\n\u001b[1;32m     90\u001b[0m \n\u001b[0;32m   (...)\u001b[0m\n\u001b[1;32m    222\u001b[0m \u001b[38;5;124;03m    3.14159265+3.14159265j])\u001b[39;00m\n\u001b[1;32m    223\u001b[0m \u001b[38;5;124;03m\"\"\"\u001b[39;00m\n\u001b[1;32m    224\u001b[0m variable_names \u001b[38;5;241m=\u001b[39m kwargs\u001b[38;5;241m.\u001b[39mpop(\u001b[38;5;124m'\u001b[39m\u001b[38;5;124mvariable_names\u001b[39m\u001b[38;5;124m'\u001b[39m, \u001b[38;5;28;01mNone\u001b[39;00m)\n\u001b[0;32m--> 225\u001b[0m \u001b[43m\u001b[49m\u001b[38;5;28;43;01mwith\u001b[39;49;00m\u001b[43m \u001b[49m\u001b[43m_open_file_context\u001b[49m\u001b[43m(\u001b[49m\u001b[43mfile_name\u001b[49m\u001b[43m,\u001b[49m\u001b[43m \u001b[49m\u001b[43mappendmat\u001b[49m\u001b[43m)\u001b[49m\u001b[43m \u001b[49m\u001b[38;5;28;43;01mas\u001b[39;49;00m\u001b[43m \u001b[49m\u001b[43mf\u001b[49m\u001b[43m:\u001b[49m\n\u001b[1;32m    226\u001b[0m \u001b[43m    \u001b[49m\u001b[43mMR\u001b[49m\u001b[43m,\u001b[49m\u001b[43m \u001b[49m\u001b[43m_\u001b[49m\u001b[43m \u001b[49m\u001b[38;5;241;43m=\u001b[39;49m\u001b[43m \u001b[49m\u001b[43mmat_reader_factory\u001b[49m\u001b[43m(\u001b[49m\u001b[43mf\u001b[49m\u001b[43m,\u001b[49m\u001b[43m \u001b[49m\u001b[38;5;241;43m*\u001b[39;49m\u001b[38;5;241;43m*\u001b[39;49m\u001b[43mkwargs\u001b[49m\u001b[43m)\u001b[49m\n\u001b[1;32m    227\u001b[0m \u001b[43m    \u001b[49m\u001b[43mmatfile_dict\u001b[49m\u001b[43m \u001b[49m\u001b[38;5;241;43m=\u001b[39;49m\u001b[43m \u001b[49m\u001b[43mMR\u001b[49m\u001b[38;5;241;43m.\u001b[39;49m\u001b[43mget_variables\u001b[49m\u001b[43m(\u001b[49m\u001b[43mvariable_names\u001b[49m\u001b[43m)\u001b[49m\n",
      "File \u001b[0;32m/usr/lib/python3.12/contextlib.py:137\u001b[0m, in \u001b[0;36m_GeneratorContextManager.__enter__\u001b[0;34m(self)\u001b[0m\n\u001b[1;32m    135\u001b[0m \u001b[38;5;28;01mdel\u001b[39;00m \u001b[38;5;28mself\u001b[39m\u001b[38;5;241m.\u001b[39margs, \u001b[38;5;28mself\u001b[39m\u001b[38;5;241m.\u001b[39mkwds, \u001b[38;5;28mself\u001b[39m\u001b[38;5;241m.\u001b[39mfunc\n\u001b[1;32m    136\u001b[0m \u001b[38;5;28;01mtry\u001b[39;00m:\n\u001b[0;32m--> 137\u001b[0m     \u001b[38;5;28;01mreturn\u001b[39;00m \u001b[38;5;28;43mnext\u001b[39;49m\u001b[43m(\u001b[49m\u001b[38;5;28;43mself\u001b[39;49m\u001b[38;5;241;43m.\u001b[39;49m\u001b[43mgen\u001b[49m\u001b[43m)\u001b[49m\n\u001b[1;32m    138\u001b[0m \u001b[38;5;28;01mexcept\u001b[39;00m \u001b[38;5;167;01mStopIteration\u001b[39;00m:\n\u001b[1;32m    139\u001b[0m     \u001b[38;5;28;01mraise\u001b[39;00m \u001b[38;5;167;01mRuntimeError\u001b[39;00m(\u001b[38;5;124m\"\u001b[39m\u001b[38;5;124mgenerator didn\u001b[39m\u001b[38;5;124m'\u001b[39m\u001b[38;5;124mt yield\u001b[39m\u001b[38;5;124m\"\u001b[39m) \u001b[38;5;28;01mfrom\u001b[39;00m \u001b[38;5;28;01mNone\u001b[39;00m\n",
      "File \u001b[0;32m~/Documents/Python/nwb/venvNWB/lib/python3.12/site-packages/scipy/io/matlab/_mio.py:17\u001b[0m, in \u001b[0;36m_open_file_context\u001b[0;34m(file_like, appendmat, mode)\u001b[0m\n\u001b[1;32m     15\u001b[0m \u001b[38;5;129m@contextmanager\u001b[39m\n\u001b[1;32m     16\u001b[0m \u001b[38;5;28;01mdef\u001b[39;00m \u001b[38;5;21m_open_file_context\u001b[39m(file_like, appendmat, mode\u001b[38;5;241m=\u001b[39m\u001b[38;5;124m'\u001b[39m\u001b[38;5;124mrb\u001b[39m\u001b[38;5;124m'\u001b[39m):\n\u001b[0;32m---> 17\u001b[0m     f, opened \u001b[38;5;241m=\u001b[39m \u001b[43m_open_file\u001b[49m\u001b[43m(\u001b[49m\u001b[43mfile_like\u001b[49m\u001b[43m,\u001b[49m\u001b[43m \u001b[49m\u001b[43mappendmat\u001b[49m\u001b[43m,\u001b[49m\u001b[43m \u001b[49m\u001b[43mmode\u001b[49m\u001b[43m)\u001b[49m\n\u001b[1;32m     18\u001b[0m     \u001b[38;5;28;01mtry\u001b[39;00m:\n\u001b[1;32m     19\u001b[0m         \u001b[38;5;28;01myield\u001b[39;00m f\n",
      "File \u001b[0;32m~/Documents/Python/nwb/venvNWB/lib/python3.12/site-packages/scipy/io/matlab/_mio.py:45\u001b[0m, in \u001b[0;36m_open_file\u001b[0;34m(file_like, appendmat, mode)\u001b[0m\n\u001b[1;32m     43\u001b[0m     \u001b[38;5;28;01mif\u001b[39;00m appendmat \u001b[38;5;129;01mand\u001b[39;00m \u001b[38;5;129;01mnot\u001b[39;00m file_like\u001b[38;5;241m.\u001b[39mendswith(\u001b[38;5;124m'\u001b[39m\u001b[38;5;124m.mat\u001b[39m\u001b[38;5;124m'\u001b[39m):\n\u001b[1;32m     44\u001b[0m         file_like \u001b[38;5;241m+\u001b[39m\u001b[38;5;241m=\u001b[39m \u001b[38;5;124m'\u001b[39m\u001b[38;5;124m.mat\u001b[39m\u001b[38;5;124m'\u001b[39m\n\u001b[0;32m---> 45\u001b[0m     \u001b[38;5;28;01mreturn\u001b[39;00m \u001b[38;5;28;43mopen\u001b[39;49m\u001b[43m(\u001b[49m\u001b[43mfile_like\u001b[49m\u001b[43m,\u001b[49m\u001b[43m \u001b[49m\u001b[43mmode\u001b[49m\u001b[43m)\u001b[49m, \u001b[38;5;28;01mTrue\u001b[39;00m\n\u001b[1;32m     46\u001b[0m \u001b[38;5;28;01melse\u001b[39;00m:\n\u001b[1;32m     47\u001b[0m     \u001b[38;5;28;01mraise\u001b[39;00m \u001b[38;5;167;01mOSError\u001b[39;00m(\n\u001b[1;32m     48\u001b[0m         \u001b[38;5;124m'\u001b[39m\u001b[38;5;124mReader needs file name or open file-like object\u001b[39m\u001b[38;5;124m'\u001b[39m\n\u001b[1;32m     49\u001b[0m     ) \u001b[38;5;28;01mfrom\u001b[39;00m \u001b[38;5;21;01me\u001b[39;00m\n",
      "\u001b[0;31mFileNotFoundError\u001b[0m: [Errno 2] No such file or directory: '/media/DATA/backups/sutter2P_backup/D_drive/dataSince20210304/AA0314/AA0314_moCorrROI_all.mat'"
     ]
    }
   ],
   "source": [
    "import os\n",
    "import lib.nwbScanImage\n",
    "\n",
    "import importlib\n",
    "importlib.reload(lib.nwbScanImage)\n",
    "\n",
    "dataPath = \"/media/DATA/backups/sutter2P_backup/D_drive/dataSince20210304\"\n",
    "\n",
    "experiments = ['AA0310',\n",
    "               'AA0312',\n",
    "               'AA0314',\n",
    "            #    'AA0315',\n",
    "            #    'AA0318',\n",
    "            #    'AA0350',\n",
    "            #    'AA0353'\n",
    "               ]\n",
    "\n",
    "for experimentID in experiments:\n",
    "    outputNWBpath = os.path.join(dataPath,experimentID,f\"{experimentID}.nwb\")\n",
    "\n",
    "    if os.path.exists(outputNWBpath):\n",
    "        print(f\"NWB file already created for {experimentID}\")\n",
    "    else:\n",
    "        session_description = f\"pupilPTinContrast_{experimentID}_C57BL6J\"\n",
    "        experiment_description = \"Pure tone in low and high DRC contrast with pupillometry\"\n",
    "        keywords = [\"2P\", \"CGC\", \"pupillometry\", \"DRC\"]\n",
    "\n",
    "        lib.nwbScanImage.genNWBfromScanImage_pc(\n",
    "            experimentID=experimentID, \n",
    "            dataPath=dataPath, \n",
    "            NWBoutputPath=outputNWBpath,\n",
    "            session_description=session_description,\n",
    "            experiment_description=experiment_description,\n",
    "            keywords=keywords,\n",
    "            **lib.nwbScanImage.PARAMS_nwbFilePC,\n",
    "            **lib.nwbScanImage.PARAMS_imagingPC\n",
    "            )"
   ]
  },
  {
   "cell_type": "code",
   "execution_count": null,
   "metadata": {},
   "outputs": [],
   "source": []
  }
 ],
 "metadata": {
  "kernelspec": {
   "display_name": "venvNWB",
   "language": "python",
   "name": "python3"
  },
  "language_info": {
   "codemirror_mode": {
    "name": "ipython",
    "version": 3
   },
   "file_extension": ".py",
   "mimetype": "text/x-python",
   "name": "python",
   "nbconvert_exporter": "python",
   "pygments_lexer": "ipython3",
   "version": "3.12.3"
  }
 },
 "nbformat": 4,
 "nbformat_minor": 2
}
