{
 "cells": [
  {
   "cell_type": "markdown",
   "metadata": {},
   "source": [
    "# PC Specific ScanImage --> NWB (SCRIPT)\n",
    "\n",
    "- explore NWB output file with neurosift\n",
    "    1. in python env: `pip install --upgrade neurosift`\n",
    "    2. `neurosift view-nwb AA0304.nwb`"
   ]
  },
  {
   "cell_type": "markdown",
   "metadata": {},
   "source": [
    "## create NWB file"
   ]
  },
  {
   "cell_type": "markdown",
   "metadata": {},
   "source": [
    "### set directories"
   ]
  },
  {
   "cell_type": "code",
   "execution_count": null,
   "metadata": {},
   "outputs": [],
   "source": [
    "import os\n",
    "import glob\n",
    "import re\n",
    "\n",
    "# dataPath = \"/home/pac/Documents/Python/nwb/scanimage/rawData\"\n",
    "# outputNWBpath = f\"/home/pac/Documents/Python/nwb/scanimage/nwbOutput/{experimentID}.nwb\"\n",
    "\n",
    "# dataPath = \"/media/DATA/backups/sutter2P_backup/D_drive/dataSince20210304\"\n",
    "\n",
    "experimentID = 'AA0330'\n",
    "dataPath = \"/media/DATA/backups/sutter2P_backup/D_drive/ZnT3_pupil/BIN2\"\n",
    "motionCorrectedTifDir = 'NoRMCorred'\n",
    "outputNWBpath = os.path.join(dataPath,experimentID,f\"{experimentID}.nwb\")\n",
    "\n",
    "experimentDir = os.path.join(dataPath,experimentID)\n",
    "moCorrMat = f\"{experimentID}_NoRMCorreParams.mat\"\n",
    "fluorescenceMat = f\"{experimentID}_tifFileList.mat\"\n",
    "\n",
    "pupilMat = f\"{experimentID}_pulsePupilUVlegend2P_s.mat\"\n",
    "if (os.path.exists(os.path.join(experimentDir,pupilMat)) or \n",
    "    os.path.exists(os.path.join(experimentDir,pupilMat.replace('_s.mat','.mat')))):\n",
    "    print(f\"pupil data exists for {experimentID}\")\n",
    "    addPupillometry = True\n",
    "\n"
   ]
  },
  {
   "cell_type": "markdown",
   "metadata": {},
   "source": [
    "### extract .tif image data and metadata"
   ]
  },
  {
   "cell_type": "code",
   "execution_count": null,
   "metadata": {},
   "outputs": [],
   "source": [
    "# get tif file list\n",
    "import sys\n",
    "sys.path.insert(1, '../')\n",
    "import lib.mat2py\n",
    "\n",
    "# get tif creation date, end write time, and frame counts\n",
    "tifFileList, tifTypeList, treatment, tifFrameCounts = lib.mat2py.getTifList(\n",
    "    dataPath,experimentID,f\"{experimentID}_tifFileList.mat\")\n",
    "\n",
    "print(list(zip(tifFileList,tifFrameCounts,treatment)))"
   ]
  },
  {
   "cell_type": "code",
   "execution_count": 3,
   "metadata": {},
   "outputs": [],
   "source": [
    "# ROI mat ([experimentID]_moCorrROI_all.mat) will always end in _all.mat if treatment is 'none'.\n",
    "# If treatment (eg preZX1 and postZX1), there may be either one ROI mat for the whole session (ending in _all.mat) \n",
    "# or an ROI .mat for each treatment (eg. [experimentID]_moCorrROI_preZX1.mat and [experimentID]_moCorrROI_postZX1.mat)\n",
    "\n",
    "# If treatment == 'none' (should be same for all .tif), then ROI mat will be called [experimentID]_moCorrROI_all.mat\n",
    "# and keys in imaging_plane and ImageSegmentation will be called 'all'\n",
    "\n",
    "# If multiple ROI sets / ROI change with time, must have different imaging_plane for each ROI set (via create_imaging_plane)\n",
    "\n",
    "# TwoPhotonSeries must be associated with the corresponding imaging plane\n",
    "# If multiple ROI .mat, there will be a separate ImageSegmentation (stored in plane_seg) for each,\n",
    "# this will reference the corresponding imaging plane.\n",
    "# ROI table regions are created for each ImageSegmentation (stored in plane_seg) and house\n",
    "# ROI fluorescence data.\n",
    "# Each RoiResponseSeries (eg fluorescence for a given .tif) is associated with the corresponding ROI table.\n",
    "roiMatPat = f\"{experimentID}_moCorrROI*.mat\"\n",
    "roiMats = glob.glob(os.path.join(experimentDir,roiMatPat))\n",
    "\n",
    "if len(roiMats)==1 and os.path.basename(roiMats[0])==f\"{experimentID}_moCorrROI_all.mat\":\n",
    "    roiSet = [\"all\"]\n",
    "    tifROIset = roiSet*len(treatment)\n",
    "else:\n",
    "    roiSet = [re.search(f\"{experimentID}_moCorrROI_(.*).mat\",roiMat).group(1) for roiMat in roiMats]\n",
    "    tifROIset = treatment"
   ]
  },
  {
   "cell_type": "markdown",
   "metadata": {},
   "source": [
    "### NWB file prep"
   ]
  },
  {
   "cell_type": "markdown",
   "metadata": {},
   "source": [
    "#### instantiate NWB file"
   ]
  },
  {
   "cell_type": "code",
   "execution_count": 4,
   "metadata": {},
   "outputs": [],
   "source": [
    "from uuid import uuid4\n",
    "from pynwb import NWBHDF5IO, NWBFile, TimeSeries\n",
    "from pynwb.image import ImageSeries\n",
    "from pynwb.ophys import (\n",
    "    CorrectedImageStack,\n",
    "    Fluorescence,\n",
    "    ImageSegmentation,\n",
    "    MotionCorrection,\n",
    "    OpticalChannel,\n",
    "    RoiResponseSeries,\n",
    "    TwoPhotonSeries,\n",
    ")"
   ]
  },
  {
   "cell_type": "code",
   "execution_count": null,
   "metadata": {},
   "outputs": [],
   "source": [
    "import lib.tifExtract\n",
    "import importlib\n",
    "importlib.reload(lib.tifExtract)\n",
    "# get metadata from first tif for session start\n",
    "session_start = lib.tifExtract.getSItifTime(os.path.join(experimentDir,tifFileList[0]))\n",
    "session_start"
   ]
  },
  {
   "cell_type": "code",
   "execution_count": null,
   "metadata": {},
   "outputs": [],
   "source": [
    "# refer to notebook for session description\n",
    "# standardize: experiment_animal_mouseLine --> pupilPTinContrast_AA0304_C57BL6J\n",
    "# see dataMapPCetal2024.txt: /media/DATA/backups/sutter2P_backup/D_drive\n",
    "\n",
    "nwbfile = NWBFile(\n",
    "    session_description=f\"pupilPTinContrast_{experimentID}_C57BL6J\",\n",
    "    identifier=str(uuid4()),\n",
    "    session_start_time=session_start,\n",
    "    experimenter=[\n",
    "        \"Cody, Patrick\",\n",
    "    ],\n",
    "    lab=\"Tzounopoulos Lab\",\n",
    "    institution=\"University of Pittsburgh\",\n",
    "    experiment_description=\"Pure tone in low and high DRC contrast with pupillometry\",\n",
    "    keywords=[\"2P\", \"CGC\", \"pupillometry\", \"DRC\"],\n",
    "    related_publications=\"10.1523/JNEUROSCI.0939-23.2024\",\n",
    ")\n"
   ]
  },
  {
   "cell_type": "markdown",
   "metadata": {},
   "source": [
    "#### set imaging plane"
   ]
  },
  {
   "cell_type": "code",
   "execution_count": 7,
   "metadata": {},
   "outputs": [],
   "source": [
    "device = nwbfile.create_device(\n",
    "    name=\"Microscope\",\n",
    "    description=\"Sutter moveable objective microscope (MOM) with mode-locked laser light (MaiTai HP) at 100-200 mW intensity through 40x0.8NA objective (Olympus) with X-Y galvanometric scanning\",\n",
    "    manufacturer=\"Sutter\",\n",
    ")\n",
    "optical_channel = OpticalChannel(\n",
    "    name=\"OpticalChannel\",\n",
    "    description=\"green channel for GCaMP\",\n",
    "    emission_lambda=525.0,\n",
    ")\n",
    "# filter FF03 525/50 (Semrock) --> 525 +/- 25 (center wavelength 525): https://www.idex-hs.com/store/product-detail/ff03_525_50_25/fl-004656"
   ]
  },
  {
   "cell_type": "code",
   "execution_count": 8,
   "metadata": {},
   "outputs": [],
   "source": [
    "# if multiple ROI sets / ROI change with time, must have different imaging plane for each ROI set --> usually the case with pre/post treatment (ZX1)\n",
    "imgPlane = {}\n",
    "for cond in roiSet:\n",
    "    imgPlane[cond] = nwbfile.create_imaging_plane(\n",
    "        name=f\"ImagingPlane_{cond}\",\n",
    "        optical_channel=optical_channel,\n",
    "        imaging_rate=5.0,\n",
    "        description=\"Auditory Cortex\",\n",
    "        device=device,\n",
    "        excitation_lambda=940.0,\n",
    "        indicator=\"GFP\",\n",
    "        location=\"ACtx\",\n",
    "        grid_spacing=[145.0, 145.0],\n",
    "        grid_spacing_unit=\"micrometers\",\n",
    "        origin_coords=[-2.0, 4.25, 2.0],\n",
    "        origin_coords_unit=\"meters\",\n",
    "    )\n",
    "# “Origin coordinates are relative to bregma. First dimension corresponds to anterior-posterior axis (larger index = more anterior). \n",
    "# Second dimension corresponds to medial-lateral axis (larger index = more rightward). \n",
    "# Third dimension corresponds to dorsal-ventral axis (larger index = more ventral)."
   ]
  },
  {
   "cell_type": "markdown",
   "metadata": {},
   "source": [
    "#### set two-photon series data"
   ]
  },
  {
   "cell_type": "code",
   "execution_count": 9,
   "metadata": {},
   "outputs": [],
   "source": [
    "# add to nwb 2p series\n",
    "import lib.tifExtract\n",
    "import importlib\n",
    "importlib.reload(lib.tifExtract)\n",
    "\n",
    "fileTimesInstantiate, nFrames, frameRates, starts = [],[],[],[]\n",
    "two_p_series = []\n",
    "for i,tif in enumerate(tifFileList):\n",
    "    imgData,fileTimeInstantiate,frameCount,frameRate = lib.tifExtract.getSItifData(os.path.join(experimentDir,tif))\n",
    "    start = lib.tifExtract.secMicroSec2sec(fileTimeInstantiate-session_start)\n",
    "    two_p_ser = TwoPhotonSeries(\n",
    "        name=f\"TwoPhotonSeries_{i:03}\",\n",
    "        description=\"Raw 2p data\",\n",
    "        data=imgData,\n",
    "        imaging_plane=imgPlane[tifROIset[i]],\n",
    "        rate=frameRate,\n",
    "        starting_time=start,\n",
    "        unit=\"normalized amplitude\",\n",
    "        comments=f\"file: {tif}, treatment: {treatment[i]}, fileTimeInstantiate: {fileTimeInstantiate}, nFrames: {frameCount})\",\n",
    "    )\n",
    "    two_p_series.append(two_p_ser)\n",
    "\n",
    "    fileTimesInstantiate.append(fileTimeInstantiate)\n",
    "    nFrames.append(frameCount)\n",
    "    frameRates.append(frameRate)\n",
    "    starts.append(start)\n",
    "\n",
    "    nwbfile.add_acquisition(two_p_ser)"
   ]
  },
  {
   "cell_type": "code",
   "execution_count": null,
   "metadata": {},
   "outputs": [],
   "source": [
    "# test file write\n",
    "from lib.nwbScanImage import writeNWB\n",
    "writeNWB(outputNWBpath,nwbfile)\n",
    "# view with neurosift: neurosift {outputNWBpath}\n"
   ]
  },
  {
   "cell_type": "markdown",
   "metadata": {},
   "source": [
    "#### add motion correction data\n",
    "- shifts in animalDir/NoRMCorred/[animal]_NoRMCorreParams.mat\n",
    "    - concatenated together of length (nTifFiles * sum(tifFileList.stim.nFrames))\n",
    "    - dim of each frame is (8,8,1,2) --> can be squeezed to (8,8,2)"
   ]
  },
  {
   "cell_type": "code",
   "execution_count": 11,
   "metadata": {},
   "outputs": [],
   "source": [
    "import lib.mat2py\n",
    "import importlib\n",
    "importlib.reload(lib.mat2py)\n",
    "\n",
    "shifts,moCorrParams = lib.mat2py.getMoCorrShiftParams(os.path.join(experimentDir,motionCorrectedTifDir,moCorrMat),nFrames=nFrames)"
   ]
  },
  {
   "cell_type": "code",
   "execution_count": 12,
   "metadata": {},
   "outputs": [],
   "source": [
    "# add processing module to include motiuon corrected data\n",
    "ophys_module = nwbfile.create_processing_module(\n",
    "    name=\"ophys\", description=\"optical physiology processed data\"\n",
    ")\n",
    "motion_correction = MotionCorrection(name='Motion Corrected TwoPhotonSeries')"
   ]
  },
  {
   "cell_type": "code",
   "execution_count": 13,
   "metadata": {},
   "outputs": [],
   "source": [
    "for i,(tif,shift) in enumerate(zip(tifFileList,shifts)):\n",
    "    imgData = lib.tifExtract.getSItifData(os.path.join(experimentDir,\n",
    "                                                       motionCorrectedTifDir,\n",
    "                                                       tif.replace('.tif','_NoRMCorre.tif')),getMetadata=False)\n",
    "\n",
    "    corrected = ImageSeries(\n",
    "        name=\"corrected\",  # this must be named \"corrected\"\n",
    "        description=f\"A motion corrected image stack for acquisition {i:03}\",\n",
    "        data=imgData,\n",
    "        unit=\"na\",\n",
    "        format=\"raw\",\n",
    "        comments=f\"corrected file: {tif}\",\n",
    "        rate=frameRates[i],\n",
    "        starting_time=starts[i],\n",
    "    )\n",
    "\n",
    "    xy_translation = TimeSeries(\n",
    "        name=f\"xy_translation\",\n",
    "        description=f\"x,y translation in pixels for acquisition {i:03}\",\n",
    "        data=shift,\n",
    "        unit=\"pixels\",\n",
    "        rate=frameRates[i],\n",
    "        starting_time=starts[i],\n",
    "        control_description = (moCorrParams if i==0 else None),\n",
    "        comments=('control_description: NoRMCorreParams' if i==0 else ''),\n",
    "    )\n",
    "\n",
    "    motion_correction.add_corrected_image_stack(CorrectedImageStack(\n",
    "        corrected=corrected,\n",
    "        original=two_p_series[i],\n",
    "        xy_translation=xy_translation,\n",
    "        name=f\"motion_corrected_TwoPhotonSeries_{i:03}\"\n",
    "    ))"
   ]
  },
  {
   "cell_type": "code",
   "execution_count": null,
   "metadata": {},
   "outputs": [],
   "source": [
    "ophys_module.add(motion_correction)"
   ]
  },
  {
   "cell_type": "code",
   "execution_count": null,
   "metadata": {},
   "outputs": [],
   "source": [
    "# test file write\n",
    "from lib.nwbScanImage import writeNWB\n",
    "writeNWB(outputNWBpath,nwbfile)\n",
    "# view with neurosift: neurosift {outputNWBpath}\n"
   ]
  },
  {
   "cell_type": "markdown",
   "metadata": {},
   "source": [
    "#### add ROI via planeSegmentation\n",
    "- in experiment dir, ROI drawn on motion corrected data saved in [animal id]_moCorrROI_*.mat\n",
    "- if no treatment file takes name [animal id]_moCorrROI_all.mat otherwise it takes form [animal id]_moCorrROI_pre[treatment].mat and [animal id]_moCorrROI_post[treatment].mat\n",
    "- if more than one condition / treatment, image segmentation must be associated with a separate imaging plane"
   ]
  },
  {
   "cell_type": "code",
   "execution_count": 18,
   "metadata": {},
   "outputs": [],
   "source": [
    "from scipy.io import loadmat\n",
    "pre = loadmat(roiMats[0])"
   ]
  },
  {
   "cell_type": "code",
   "execution_count": null,
   "metadata": {},
   "outputs": [],
   "source": [
    "import numpy as np\n",
    "np.concatenate(pre['moCorROI'][0]['ID']).astype(int)"
   ]
  },
  {
   "cell_type": "code",
   "execution_count": 23,
   "metadata": {},
   "outputs": [],
   "source": [
    "import lib.mat2py\n",
    "import importlib\n",
    "importlib.reload(lib.mat2py)\n",
    "\n",
    "roiIDs,roiMasks2 = lib.mat2py.getROImasks(roiMats[0])"
   ]
  },
  {
   "cell_type": "code",
   "execution_count": null,
   "metadata": {},
   "outputs": [],
   "source": [
    "roiIDs"
   ]
  },
  {
   "cell_type": "code",
   "execution_count": 25,
   "metadata": {},
   "outputs": [],
   "source": [
    "img_seg = ImageSegmentation()\n",
    "ophys_module.add(img_seg)\n",
    "\n",
    "plane_seg = {}\n",
    "# usually roiMat for each treatment\n",
    "for roiMat,roiCond in zip(roiMats,roiSet):    \n",
    "    roiIDs,roiMasks = lib.mat2py.getROImasks(roiMat)\n",
    "\n",
    "    plane_seg[roiCond] = img_seg.create_plane_segmentation(\n",
    "        name=f\"PlaneSegmentation_{roiCond}\",\n",
    "        description=f\"output from segmenting the imaging plane for {roiCond}\",\n",
    "            imaging_plane=imgPlane[roiCond],\n",
    "            reference_images=[p for p,t in zip(two_p_series,treatment) if t==roiCond],  # optional\n",
    "        )\n",
    "\n",
    "    for roiID,roiImageMask in zip(roiIDs,roiMasks):\n",
    "        # add image mask to plane segmentation\n",
    "        plane_seg[roiCond].add_roi(id=roiID,image_mask=roiImageMask)\n"
   ]
  },
  {
   "cell_type": "code",
   "execution_count": null,
   "metadata": {},
   "outputs": [],
   "source": [
    "plane_seg['preZX1'].id"
   ]
  },
  {
   "cell_type": "code",
   "execution_count": null,
   "metadata": {},
   "outputs": [],
   "source": [
    "from matplotlib import pyplot as plt\n",
    "plt.imshow(roiMasks[0])"
   ]
  },
  {
   "cell_type": "markdown",
   "metadata": {},
   "source": [
    "#### add fluorescence traces for ROIs"
   ]
  },
  {
   "cell_type": "code",
   "execution_count": null,
   "metadata": {},
   "outputs": [],
   "source": [
    "import lib.mat2py\n",
    "import importlib\n",
    "importlib.reload(lib.mat2py)"
   ]
  },
  {
   "cell_type": "code",
   "execution_count": 58,
   "metadata": {},
   "outputs": [],
   "source": [
    "fluoTif,fluoROI = lib.mat2py.getROIfluo(os.path.join(experimentDir,fluorescenceMat))\n",
    "fluoROI = [fluoROI[i] for i in np.where(np.isin(fluoTif,tifFileList))[0]]"
   ]
  },
  {
   "cell_type": "code",
   "execution_count": 72,
   "metadata": {},
   "outputs": [],
   "source": [
    "# roi fluorescence responses associated with a region, each region is associated with a plane segmentation (usually one per condition)\n",
    "# which has corresponding IDs for the ROI - roiResponseSeries a linked to these planesegment IDs\n",
    "roi_resp_series = []\n",
    "for cond in plane_seg:\n",
    "    rt_region = plane_seg[cond].create_roi_table_region(\n",
    "        region=list(range(len(plane_seg[cond].id.data))), description=f\"ROI for {cond}\"\n",
    "        )\n",
    "    # only get responses in the matching treatment condition\n",
    "    responses = [(i,fluo,start,fr) for i,(fluo,titfSet,start,fr) in enumerate(zip(fluoROI,tifROIset,starts,frameRates)) if titfSet==cond]\n",
    "    for i,fluo,start,fr in responses:\n",
    "        roi_resp_series.append(RoiResponseSeries(\n",
    "            name=f\"RoiResponseSeries_{i:03}\",\n",
    "            description=f\"Fluorescence responses for motion corrected ROIs for TwoPhotonSeries_{i:03}\",\n",
    "            data=fluo,\n",
    "            rois=rt_region,\n",
    "            unit=\"lumens\",\n",
    "            rate=fr,\n",
    "            starting_time=start\n",
    "            ))"
   ]
  },
  {
   "cell_type": "code",
   "execution_count": null,
   "metadata": {},
   "outputs": [],
   "source": [
    "# one fluorescence module, RoiResponseSeries is a list\n",
    "fl = Fluorescence(roi_response_series=roi_resp_series)\n",
    "ophys_module.add(fl)"
   ]
  },
  {
   "cell_type": "code",
   "execution_count": null,
   "metadata": {},
   "outputs": [],
   "source": [
    "# test file write\n",
    "writeNWB(outputNWBpath,nwbfile)\n",
    "# view with neurosift: neurosift {outputNWBpath}"
   ]
  },
  {
   "cell_type": "markdown",
   "metadata": {},
   "source": [
    "#### add sound stimulus data via DynamicTable"
   ]
  },
  {
   "cell_type": "code",
   "execution_count": 29,
   "metadata": {},
   "outputs": [],
   "source": [
    "import lib.mat2py\n",
    "import importlib\n",
    "importlib.reload(lib.mat2py)\n",
    "\n",
    "import numpy as np\n",
    "# add sound stimulus data via DynamicTable\n",
    "pulseTifs,pulseTifTypes, stimDelays, ISIs, pulseNames, pulseSets, xsg = lib.mat2py.getTifPulses(\n",
    "    dataPath,experimentID,tifFileList,tifTypeList)\n"
   ]
  },
  {
   "cell_type": "code",
   "execution_count": 52,
   "metadata": {},
   "outputs": [],
   "source": [
    "# extend remaining params\n",
    "pulseTwoPidx,pulseFileTimesInstantiatePulse,pulseStarts,pulseNframes = [],[],[],[]\n",
    "pulseFrameRates,pulseTreatment = [],[]\n",
    "for tif in pulseTifs:\n",
    "    tifIDX = tifFileList.index(tif)\n",
    "    pulseTwoPidx.append(f\"TwoPhotonSeries_{tifIDX:03}\")\n",
    "    pulseFileTimesInstantiatePulse.append(fileTimesInstantiate[tifIDX].strftime('%Y-%m-%d %H:%M:%S.%f'))\n",
    "    pulseStarts.append(starts[tifIDX])\n",
    "    pulseNframes.append(nFrames[tifIDX])\n",
    "    pulseFrameRates.append(frameRates[tifIDX])\n",
    "    pulseTreatment.append(treatment[tifIDX])"
   ]
  },
  {
   "cell_type": "code",
   "execution_count": 53,
   "metadata": {},
   "outputs": [],
   "source": [
    "stimData = {\n",
    "            'file': ('name of .tif file',pulseTifs),\n",
    "            'TwoPhotonSeries': ('TwoPhotonSeries index', pulseTwoPidx),\n",
    "            'fileTimeInstantiate': ('time .tif file was instantiated/created',\n",
    "                                pulseFileTimesInstantiatePulse),\n",
    "            'starting_time': ('starting time of .tif in seconds from first .tif',pulseStarts),\n",
    "            'type': ('whether stim or mapping type', pulseTifTypes),\n",
    "            'nFrames': ('number of frames in .tif file',pulseNframes),\n",
    "            'frameRate': ('frame rate of .tif file',pulseFrameRates),\n",
    "            'treatment': ('treatment',pulseTreatment),\n",
    "            'pulseNames': ('sound stimulation pulse name',pulseNames),\n",
    "            'pulseSets': ('sound stimulation pulse set',pulseSets),\n",
    "            'ISI': ('ISI between pulses in seconds', ISIs),\n",
    "            'stimDelay': ('delay to start of pulses in seconds', stimDelays),\n",
    "            'xsg': ('associated .xsg file storing raw pulse data',xsg)\n",
    "            }"
   ]
  },
  {
   "cell_type": "code",
   "execution_count": 54,
   "metadata": {},
   "outputs": [],
   "source": [
    "from hdmf.common import VectorData, DynamicTable\n",
    "\n",
    "cols = []\n",
    "for col,v in stimData.items():\n",
    "    cols.append(\n",
    "            VectorData(\n",
    "            name=col,\n",
    "            description=v[0],\n",
    "            data=v[1],\n",
    "        )\n",
    "    )\n",
    "stim_table = DynamicTable(\n",
    "    name='stim param table',\n",
    "    description='Maps sound stim parameters to .tif files',\n",
    "    columns=cols,\n",
    ")"
   ]
  },
  {
   "cell_type": "code",
   "execution_count": 55,
   "metadata": {},
   "outputs": [],
   "source": [
    "# from hdmf.common import DynamicTable\n",
    "\n",
    "# stim_table = DynamicTable(\n",
    "#     name='stim param table',\n",
    "#     description='Maps sound stim parameters to .tif files',\n",
    "#     id=list(range(len(tifFileList)))\n",
    "# )\n",
    "# for col,v in stimData.items():\n",
    "#     # add nested cols as ragged arrays\n",
    "#     stim_table.add_column(\n",
    "#         name=col,\n",
    "#         description=v[0],\n",
    "#         index=(True if (col=='xsg' or col=='pulseNames') else False),\n",
    "#         data=v[1]\n",
    "#     )\n",
    "    \n",
    "nwbfile.add_stimulus(stim_table)"
   ]
  },
  {
   "cell_type": "code",
   "execution_count": 56,
   "metadata": {},
   "outputs": [],
   "source": [
    "# test file write\n",
    "from lib.nwbScanImage import writeNWB\n",
    "writeNWB(outputNWBpath,nwbfile)\n",
    "# view with neurosift: neurosift {outputNWBpath}\n",
    "\n",
    "if addPupillometry==False:\n",
    "    print('stop here, no pupillometry')"
   ]
  },
  {
   "cell_type": "markdown",
   "metadata": {},
   "source": [
    "#### add pupillometry data\n",
    "- behavior/pupil tracking with timeSeries for pupilDiameter\n",
    "- processing/imageSeries for pupil video"
   ]
  },
  {
   "cell_type": "code",
   "execution_count": null,
   "metadata": {},
   "outputs": [],
   "source": [
    "import lib.mat2py\n",
    "import importlib\n",
    "importlib.reload(lib.mat2py)"
   ]
  },
  {
   "cell_type": "markdown",
   "metadata": {},
   "source": [
    "##### add pupil radius"
   ]
  },
  {
   "cell_type": "code",
   "execution_count": 29,
   "metadata": {},
   "outputs": [],
   "source": [
    "import numpy as np\n",
    "from pynwb.behavior import PupilTracking\n",
    "\n",
    "behavior_module = nwbfile.create_processing_module(\n",
    "    name=\"behavior\", description=\"Processed behavioral data\"\n",
    ")\n"
   ]
  },
  {
   "cell_type": "code",
   "execution_count": 47,
   "metadata": {},
   "outputs": [],
   "source": [
    "# split:\n",
    "pupilDataProcessed = lib.mat2py.getPupilDataProcessed(os.path.join(experimentDir,pupilMat))\n",
    "pupil_radii = []\n"
   ]
  },
  {
   "cell_type": "code",
   "execution_count": 48,
   "metadata": {},
   "outputs": [],
   "source": [
    "pupilFrameFiles,pupilRadius = zip(*[(f,r) for f,r in zip(pupilDataProcessed['pupilFrameFiles'],pupilDataProcessed['pupilRadius']) \n",
    "    if f.replace('_pupilFrames.mat','.tif') in tifFileList])"
   ]
  },
  {
   "cell_type": "code",
   "execution_count": 49,
   "metadata": {},
   "outputs": [],
   "source": [
    "for i,pupilFrameFile in enumerate(pupilFrameFiles):\n",
    "    pupil_radii.append(\n",
    "        TimeSeries(\n",
    "            name=f\"pupil_radius_{i:03}\",\n",
    "            description=f\"Pupil radius extracted from the video of the right eye for TwoPhotonSeries_{i:03}\",\n",
    "            data=pupilRadius[i],\n",
    "            rate=float(pupilDataProcessed['frameRate']),\n",
    "            starting_time=starts[i],\n",
    "            unit=\"na\",\n",
    "            comments=f\"pupilFrameFile: {pupilFrameFile}, associated .tif file: {tifFileList[i]}\"\n",
    "        )\n",
    "    )\n"
   ]
  },
  {
   "cell_type": "code",
   "execution_count": null,
   "metadata": {},
   "outputs": [],
   "source": [
    "pupil_tracking = PupilTracking(time_series=pupil_radii, name=\"PupilTracking\")\n",
    "\n",
    "behavior_module.add(pupil_tracking)"
   ]
  },
  {
   "cell_type": "code",
   "execution_count": 28,
   "metadata": {},
   "outputs": [],
   "source": [
    "# test file write\n",
    "writeNWB(outputNWBpath,nwbfile)\n",
    "# view with neurosift: neurosift {outputNWBpath}"
   ]
  },
  {
   "cell_type": "markdown",
   "metadata": {},
   "source": [
    "##### add pupil video\n",
    "- without video: ~1.4 GB for AA0304\n",
    "- with pupil video: ~4.6 GB for AA0304"
   ]
  },
  {
   "cell_type": "code",
   "execution_count": 51,
   "metadata": {},
   "outputs": [],
   "source": [
    "pupilVideoSeries = []\n",
    "\n",
    "for i,pupilFrameFile in enumerate(pupilFrameFiles):\n",
    "    pupilVideoSeries.append(\n",
    "        ImageSeries(\n",
    "            name=f\"pupil_video_{i:03}\",\n",
    "            description=f\"Pupil video of the right eye for TwoPhotonSeries_{i:03}\",\n",
    "            data=lib.mat2py.getPupilImg(os.path.join(experimentDir,pupilFrameFile)),\n",
    "            rate=float(pupilDataProcessed['frameRate']),\n",
    "            starting_time=starts[i],\n",
    "            unit=\"na\",\n",
    "            comments=f\"pupilFrameFile: {pupilFrameFile}, associated .tif file: {tifFileList[i]}\"\n",
    "        )\n",
    "    )"
   ]
  },
  {
   "cell_type": "code",
   "execution_count": null,
   "metadata": {},
   "outputs": [],
   "source": [
    "behavior_module.add(pupilVideoSeries)"
   ]
  },
  {
   "cell_type": "code",
   "execution_count": 58,
   "metadata": {},
   "outputs": [],
   "source": [
    "# test file write\n",
    "from lib.nwbScanImage import writeNWB\n",
    "writeNWB(outputNWBpath,nwbfile,overWrite=True)\n",
    "# view with neurosift: neurosift {outputNWBpath}"
   ]
  },
  {
   "cell_type": "markdown",
   "metadata": {},
   "source": [
    "# ScanImage --> NWB function"
   ]
  },
  {
   "cell_type": "markdown",
   "metadata": {},
   "source": [
    "### matlab component to reformat table as struct to be able to load into python"
   ]
  },
  {
   "cell_type": "markdown",
   "metadata": {},
   "source": [
    "matlab script for reformatting pupil file for loading here\n",
    "``` matlab\n",
    "%%\n",
    "clearvars\n",
    "close all\n",
    "% filePath = \"/media/DATA/backups/sutter2P_backup/D_drive/dataSince20210304\";\n",
    "filePath = \"/media/DATA/backups/sutter2P_backup/D_drive/ZnT3_pupil/BIN1\";\n",
    "\n",
    "aDir = dir(filePath);\n",
    "aDir = aDir(cell2mat({aDir.isdir}));\n",
    "aDir = aDir(cellfun(@any,regexp({aDir.name}','[A-Z]{2}\\d{4}')));\n",
    "%%\n",
    "for aNum = 1:length(aDir)\n",
    "    disp(['Re-saving pulsePupilUVlegend2P.mat as struct for: ' aDir(aNum).name]);\n",
    "    if isfolder(fullfile(aDir(aNum).folder,aDir(aNum).name))\n",
    "        try\n",
    "            pData = load(fullfile(aDir(aNum).folder,aDir(aNum).name,...\n",
    "                [aDir(aNum).name ...\n",
    "                '_pulsePupilUVlegend2P.mat']),'pulsePupilLegend2P');\n",
    "            disp('loaded!')\n",
    "            pulsePupilLegend2P = table2struct(pData.pulsePupilLegend2P);\n",
    "            save(fullfile(aDir(aNum).folder,aDir(aNum).name,...\n",
    "                [aDir(aNum).name ...\n",
    "                '_pulsePupilUVlegend2P_s.mat']),'pulsePupilLegend2P')\n",
    "            clear pData pulsePupilLegend2P\n",
    "        catch\n",
    "            disp('no pulsePupilUVlegend2P file found')\n",
    "        end\n",
    "    end\n",
    "end\n",
    "```"
   ]
  },
  {
   "cell_type": "markdown",
   "metadata": {},
   "source": [
    "### test function on single experiments"
   ]
  },
  {
   "cell_type": "code",
   "execution_count": null,
   "metadata": {},
   "outputs": [],
   "source": [
    "# after fix to file by file\n",
    "import sys\n",
    "sys.path.insert(1, '../')\n",
    "import os\n",
    "import lib.nwbScanImage\n",
    "\n",
    "import importlib\n",
    "importlib.reload(lib.nwbScanImage)\n",
    "\n",
    "# AA0314 took ~3 minutes to run\n",
    "experimentID = 'AA0314'\n",
    "# /media/DATA/backups/sutter2P_backup/D_drive/ZnT3_pupil/BIN2/AA0323\n",
    "#  /media/DATA/backups/sutter2P_backup/D_drive/dataSince20210304/AA0308\n",
    "dataPath = \"/media/DATA/backups/sutter2P_backup/D_drive/dataSince20210304\"\n",
    "outputNWBpath = os.path.join(dataPath,experimentID,f\"{experimentID}.nwb\")\n",
    "\n",
    "session_description = f\"pupilPTinContrast_{experimentID}_C57BL6J\"\n",
    "experiment_description = \"Pure tone in low and high DRC contrast with pupillometry\"\n",
    "keywords = [\"2P\", \"CGC\", \"pupillometry\", \"DRC\"]\n",
    "\n",
    "lib.nwbScanImage.genNWBfromScanImage_pc(\n",
    "    experimentID=experimentID, \n",
    "    dataPath=dataPath, \n",
    "    NWBoutputPath=outputNWBpath,\n",
    "    session_description=session_description,\n",
    "    experiment_description=experiment_description,\n",
    "    keywords=keywords,\n",
    "    **lib.nwbScanImage.PARAMS_nwbFilePC,\n",
    "    **lib.nwbScanImage.PARAMS_imagingPC\n",
    ")"
   ]
  },
  {
   "cell_type": "code",
   "execution_count": null,
   "metadata": {},
   "outputs": [],
   "source": [
    "# after fix to file by file\n",
    "import sys\n",
    "sys.path.insert(1, '../')\n",
    "import os\n",
    "import lib.nwbScanImage\n",
    "\n",
    "import importlib\n",
    "importlib.reload(lib.nwbScanImage)\n",
    "\n",
    "# AA0314 took ~3 minutes to run\n",
    "# /media/DATA/backups/sutter2P_backup/D_drive/ZnT3_pupil/BIN2/AA0323\n",
    "#  /media/DATA/backups/sutter2P_backup/D_drive/dataSince20210304/AA0308\n",
    "dataPath = \"/media/DATA/backups/sutter2P_backup/D_drive/ZnT3_pupil/BIN2\"\n",
    "experimentID = \"AA0330\"\n",
    "outputNWBpath = os.path.join(dataPath,experimentID,f\"{experimentID}.nwb\")\n",
    "\n",
    "session_description = f\"test_{experimentID}_test\"\n",
    "experiment_description = \"Pure tone in low and high DRC contrast with pupillometry\"\n",
    "keywords = [\"2P\", \"CGC\", \"pupillometry\", \"DRC\"]\n",
    "\n",
    "lib.nwbScanImage.genNWBfromScanImage_pc(\n",
    "    experimentID=experimentID, \n",
    "    dataPath=dataPath, \n",
    "    NWBoutputPath=outputNWBpath,\n",
    "    session_description=session_description,\n",
    "    experiment_description=experiment_description,\n",
    "    keywords=keywords,\n",
    "    **lib.nwbScanImage.PARAMS_nwbFilePC,\n",
    "    **lib.nwbScanImage.PARAMS_imagingPC\n",
    ")"
   ]
  },
  {
   "cell_type": "code",
   "execution_count": null,
   "metadata": {},
   "outputs": [],
   "source": [
    "# after fix to file by file\n",
    "import sys\n",
    "sys.path.insert(1, '../')\n",
    "import os\n",
    "import lib.nwbScanImage\n",
    "\n",
    "import importlib\n",
    "importlib.reload(lib.nwbScanImage)\n",
    "\n",
    "experimentID = 'AA0304'\n",
    "# /media/DATA/backups/sutter2P_backup/D_drive/ZnT3_pupil/BIN2/AA0323\n",
    "#  /media/DATA/backups/sutter2P_backup/D_drive/dataSince20210304/AA0308\n",
    "dataPath = \"/media/DATA/backups/sutter2P_backup/D_drive/dataSince20210304\"\n",
    "outputNWBpath = os.path.join(dataPath,experimentID,f\"{experimentID}.nwb\")\n",
    "\n",
    "session_description = f\"pupilPTinContrast_{experimentID}_C57BL6J\"\n",
    "experiment_description = \"Pure tone in low and high DRC contrast with pupillometry\"\n",
    "keywords = [\"2P\", \"CGC\", \"pupillometry\", \"DRC\"]\n",
    "\n",
    "lib.nwbScanImage.genNWBfromScanImage_pc(\n",
    "    experimentID=experimentID, \n",
    "    dataPath=dataPath, \n",
    "    NWBoutputPath=outputNWBpath,\n",
    "    session_description=session_description,\n",
    "    experiment_description=experiment_description,\n",
    "    keywords=keywords,\n",
    "    **lib.nwbScanImage.PARAMS_nwbFilePC,\n",
    "    **lib.nwbScanImage.PARAMS_imagingPC\n",
    ")"
   ]
  },
  {
   "cell_type": "markdown",
   "metadata": {},
   "source": [
    "### run NWB build over multiple directories"
   ]
  },
  {
   "cell_type": "code",
   "execution_count": 1,
   "metadata": {},
   "outputs": [
    {
     "name": "stdout",
     "output_type": "stream",
     "text": [
      "Generating standardized NWB file for AA0304\n",
      "recording includes: stim\n"
     ]
    },
    {
     "name": "stderr",
     "output_type": "stream",
     "text": [
      "/home/pac/Documents/Python/nwb/venvNWB/lib/python3.12/site-packages/pynwb/file.py:472: UserWarning: Date is missing timezone information. Updating to local timezone.\n",
      "  args_to_set['session_start_time'] = _add_missing_timezone(session_start_time)\n"
     ]
    },
    {
     "name": "stdout",
     "output_type": "stream",
     "text": [
      "added 2P data\n",
      "added motion correction data\n",
      "added ROI segmentation data\n"
     ]
    },
    {
     "name": "stderr",
     "output_type": "stream",
     "text": [
      "/home/pac/Documents/Python/nwb/venvNWB/lib/python3.12/site-packages/hdmf/container.py:536: UserWarning: The linked table for DynamicTableRegion 'rois' does not share an ancestor with the DynamicTableRegion.\n",
      "  child._validate_on_set_parent()\n"
     ]
    },
    {
     "name": "stdout",
     "output_type": "stream",
     "text": [
      "added fluorescence trace data for ROIs\n",
      "added stim table data\n",
      "found pupillometry data for AA0304\n",
      "added pupil radius data\n",
      "added pupil video data\n",
      "NWB write success to: /media/DATA/backups/sutter2P_backup/D_drive/dataSince20210304/AA0304/AA0304.nwb\n",
      "Generating standardized NWB file for AA0308\n",
      "recording includes: stim\n",
      "added 2P data\n",
      "added motion correction data\n",
      "added ROI segmentation data\n",
      "added fluorescence trace data for ROIs\n",
      "added stim table data\n",
      "found pupillometry data for AA0308\n",
      "added pupil radius data\n",
      "added pupil video data\n",
      "NWB write success to: /media/DATA/backups/sutter2P_backup/D_drive/dataSince20210304/AA0308/AA0308.nwb\n",
      "Generating standardized NWB file for AA0310\n",
      "recording includes: stim\n",
      "added 2P data\n",
      "added motion correction data\n",
      "added ROI segmentation data\n",
      "added fluorescence trace data for ROIs\n",
      "added stim table data\n",
      "found pupillometry data for AA0310\n",
      "added pupil radius data\n",
      "added pupil video data\n",
      "NWB write success to: /media/DATA/backups/sutter2P_backup/D_drive/dataSince20210304/AA0310/AA0310.nwb\n",
      "Generating standardized NWB file for AA0312\n",
      "recording includes: stim\n",
      "added 2P data\n",
      "added motion correction data\n",
      "added ROI segmentation data\n",
      "added fluorescence trace data for ROIs\n",
      "added stim table data\n",
      "found pupillometry data for AA0312\n",
      "added pupil radius data\n",
      "added pupil video data\n",
      "NWB write success to: /media/DATA/backups/sutter2P_backup/D_drive/dataSince20210304/AA0312/AA0312.nwb\n",
      "Generating standardized NWB file for AA0315\n",
      "recording includes: stim\n",
      "added 2P data\n",
      "added motion correction data\n",
      "added ROI segmentation data\n",
      "added fluorescence trace data for ROIs\n",
      "added stim table data\n",
      "found pupillometry data for AA0315\n",
      "added pupil radius data\n",
      "added pupil video data\n",
      "NWB write success to: /media/DATA/backups/sutter2P_backup/D_drive/dataSince20210304/AA0315/AA0315.nwb\n",
      "Generating standardized NWB file for AA0318\n",
      "recording includes: map\n",
      "recording includes: stim\n",
      "added 2P data\n",
      "added motion correction data\n",
      "added ROI segmentation data\n",
      "added fluorescence trace data for ROIs\n",
      "added stim table data\n",
      "found pupillometry data for AA0318\n",
      "added pupil radius data\n",
      "added pupil video data\n",
      "NWB write success to: /media/DATA/backups/sutter2P_backup/D_drive/dataSince20210304/AA0318/AA0318.nwb\n",
      "Generating standardized NWB file for AA0350\n",
      "recording includes: stim\n",
      "added 2P data\n",
      "added motion correction data\n",
      "added ROI segmentation data\n",
      "added fluorescence trace data for ROIs\n",
      "added stim table data\n",
      "found pupillometry data for AA0350\n",
      "added pupil radius data\n",
      "added pupil video data\n",
      "NWB write success to: /media/DATA/backups/sutter2P_backup/D_drive/dataSince20210304/AA0350/AA0350.nwb\n",
      "Generating standardized NWB file for AA0353\n",
      "recording includes: stim\n",
      "added 2P data\n",
      "added motion correction data\n",
      "added ROI segmentation data\n",
      "added fluorescence trace data for ROIs\n",
      "added stim table data\n",
      "found pupillometry data for AA0353\n",
      "added pupil radius data\n",
      "added pupil video data\n",
      "NWB write success to: /media/DATA/backups/sutter2P_backup/D_drive/dataSince20210304/AA0353/AA0353.nwb\n"
     ]
    }
   ],
   "source": [
    "import os\n",
    "import lib.nwbScanImage\n",
    "\n",
    "import importlib\n",
    "importlib.reload(lib.nwbScanImage)\n",
    "\n",
    "dataPath = \"/media/DATA/backups/sutter2P_backup/D_drive/dataSince20210304\"\n",
    "\n",
    "experiments = [\n",
    "                'AA0304',\n",
    "                'AA0308',\n",
    "                'AA0310',\n",
    "                'AA0312',\n",
    "                'AA0314',\n",
    "                'AA0315',\n",
    "                'AA0318',\n",
    "                'AA0350',\n",
    "                'AA0353'\n",
    "               ]\n",
    "\n",
    "for experimentID in experiments:\n",
    "    outputNWBpath = os.path.join(dataPath,experimentID,f\"{experimentID}.nwb\")\n",
    "\n",
    "    # if os.path.exists(outputNWBpath):\n",
    "    #     print(f\"NWB file already created for {experimentID}\")\n",
    "    # else:\n",
    "    session_description = f\"pupilPTinContrast_{experimentID}_C57BL6J\"\n",
    "    experiment_description = \"Pure tone in low and high DRC contrast with pupillometry\"\n",
    "    keywords = [\"2P\", \"CGC\", \"pupillometry\", \"DRC\"]\n",
    "\n",
    "    lib.nwbScanImage.genNWBfromScanImage_pc(\n",
    "        experimentID=experimentID, \n",
    "        dataPath=dataPath, \n",
    "        NWBoutputPath=outputNWBpath,\n",
    "        session_description=session_description,\n",
    "        experiment_description=experiment_description,\n",
    "        keywords=keywords,\n",
    "        **lib.nwbScanImage.PARAMS_nwbFilePC,\n",
    "        **lib.nwbScanImage.PARAMS_imagingPC\n",
    "        )"
   ]
  },
  {
   "cell_type": "code",
   "execution_count": 1,
   "metadata": {},
   "outputs": [
    {
     "name": "stdout",
     "output_type": "stream",
     "text": [
      "Generating standardized NWB file for AA0323\n",
      "recording includes: stim\n"
     ]
    },
    {
     "name": "stderr",
     "output_type": "stream",
     "text": [
      "/home/pac/Documents/Python/nwb/venvNWB/lib/python3.12/site-packages/pynwb/file.py:472: UserWarning: Date is missing timezone information. Updating to local timezone.\n",
      "  args_to_set['session_start_time'] = _add_missing_timezone(session_start_time)\n"
     ]
    },
    {
     "name": "stdout",
     "output_type": "stream",
     "text": [
      "added 2P data\n",
      "added motion correction data\n",
      "added ROI segmentation data\n"
     ]
    },
    {
     "name": "stderr",
     "output_type": "stream",
     "text": [
      "/home/pac/Documents/Python/nwb/venvNWB/lib/python3.12/site-packages/hdmf/container.py:536: UserWarning: The linked table for DynamicTableRegion 'rois' does not share an ancestor with the DynamicTableRegion.\n",
      "  child._validate_on_set_parent()\n"
     ]
    },
    {
     "name": "stdout",
     "output_type": "stream",
     "text": [
      "added fluorescence trace data for ROIs\n",
      "added stim table data\n",
      "found pupillometry data for AA0323\n",
      "added pupil radius data\n",
      "added pupil video data\n",
      "NWB write success to: /media/DATA/backups/sutter2P_backup/D_drive/ZnT3_pupil/BIN2/AA0323/AA0323.nwb\n",
      "Generating standardized NWB file for AA0325\n",
      "recording includes: stim\n",
      "added 2P data\n",
      "added motion correction data\n",
      "added ROI segmentation data\n",
      "added fluorescence trace data for ROIs\n",
      "added stim table data\n",
      "found pupillometry data for AA0325\n",
      "added pupil radius data\n",
      "added pupil video data\n",
      "NWB write success to: /media/DATA/backups/sutter2P_backup/D_drive/ZnT3_pupil/BIN2/AA0325/AA0325.nwb\n",
      "Generating standardized NWB file for AA0330\n",
      "recording includes: map\n",
      "recording includes: stim\n",
      "added 2P data\n",
      "added motion correction data\n",
      "added ROI segmentation data\n",
      "added fluorescence trace data for ROIs\n",
      "added stim table data\n",
      "found pupillometry data for AA0330\n",
      "added pupil radius data\n",
      "added pupil video data\n",
      "NWB write success to: /media/DATA/backups/sutter2P_backup/D_drive/ZnT3_pupil/BIN2/AA0330/AA0330.nwb\n",
      "Generating standardized NWB file for AA0331\n",
      "recording includes: stim\n",
      "added 2P data\n",
      "added motion correction data\n",
      "added ROI segmentation data\n",
      "added fluorescence trace data for ROIs\n",
      "added stim table data\n",
      "found pupillometry data for AA0331\n",
      "added pupil radius data\n",
      "added pupil video data\n",
      "NWB write success to: /media/DATA/backups/sutter2P_backup/D_drive/ZnT3_pupil/BIN2/AA0331/AA0331.nwb\n",
      "Generating standardized NWB file for AA0332\n",
      "recording includes: stim\n",
      "added 2P data\n",
      "added motion correction data\n",
      "added ROI segmentation data\n",
      "added fluorescence trace data for ROIs\n",
      "added stim table data\n",
      "found pupillometry data for AA0332\n",
      "added pupil radius data\n",
      "added pupil video data\n",
      "NWB write success to: /media/DATA/backups/sutter2P_backup/D_drive/ZnT3_pupil/BIN2/AA0332/AA0332.nwb\n",
      "Generating standardized NWB file for AA0333\n",
      "recording includes: map\n",
      "recording includes: stim\n",
      "added 2P data\n",
      "added motion correction data\n",
      "added ROI segmentation data\n",
      "added fluorescence trace data for ROIs\n",
      "added stim table data\n",
      "found pupillometry data for AA0333\n",
      "added pupil radius data\n",
      "added pupil video data\n",
      "NWB write success to: /media/DATA/backups/sutter2P_backup/D_drive/ZnT3_pupil/BIN2/AA0333/AA0333.nwb\n",
      "Generating standardized NWB file for AA0334\n",
      "recording includes: stim\n",
      "added 2P data\n",
      "added motion correction data\n",
      "added ROI segmentation data\n",
      "added fluorescence trace data for ROIs\n",
      "added stim table data\n",
      "found pupillometry data for AA0334\n",
      "added pupil radius data\n",
      "added pupil video data\n",
      "NWB write success to: /media/DATA/backups/sutter2P_backup/D_drive/ZnT3_pupil/BIN2/AA0334/AA0334.nwb\n",
      "Generating standardized NWB file for AA0335\n",
      "recording includes: stim\n",
      "added 2P data\n",
      "added motion correction data\n",
      "added ROI segmentation data\n",
      "added fluorescence trace data for ROIs\n",
      "added stim table data\n",
      "found pupillometry data for AA0335\n",
      "added pupil radius data\n",
      "added pupil video data\n",
      "NWB write success to: /media/DATA/backups/sutter2P_backup/D_drive/ZnT3_pupil/BIN2/AA0335/AA0335.nwb\n",
      "Generating standardized NWB file for AA0336\n",
      "recording includes: stim\n",
      "added 2P data\n",
      "added motion correction data\n",
      "added ROI segmentation data\n",
      "added fluorescence trace data for ROIs\n",
      "added stim table data\n",
      "found pupillometry data for AA0336\n",
      "added pupil radius data\n",
      "added pupil video data\n",
      "NWB write success to: /media/DATA/backups/sutter2P_backup/D_drive/ZnT3_pupil/BIN2/AA0336/AA0336.nwb\n",
      "Generating standardized NWB file for AA0337\n",
      "recording includes: stim\n",
      "added 2P data\n",
      "added motion correction data\n",
      "added ROI segmentation data\n",
      "added fluorescence trace data for ROIs\n",
      "added stim table data\n",
      "found pupillometry data for AA0337\n",
      "added pupil radius data\n",
      "added pupil video data\n",
      "NWB write success to: /media/DATA/backups/sutter2P_backup/D_drive/ZnT3_pupil/BIN2/AA0337/AA0337.nwb\n"
     ]
    }
   ],
   "source": [
    "import os\n",
    "import re\n",
    "import lib.nwbScanImage\n",
    "\n",
    "import importlib\n",
    "importlib.reload(lib.nwbScanImage)\n",
    "\n",
    "# dataPath = \"/media/DATA/backups/sutter2P_backup/D_drive/dataSince20210304\"\n",
    "dataPath = \"/media/DATA/backups/sutter2P_backup/D_drive/ZnT3_pupil/BIN2\"\n",
    "\n",
    "experiments = [d for d in os.listdir(dataPath) if re.match(r'[A-Z]{2}\\d{4}',d)]\n",
    "\n",
    "for experimentID in experiments:\n",
    "    outputNWBpath = os.path.join(dataPath,experimentID,f\"{experimentID}.nwb\")\n",
    "\n",
    "    # if os.path.exists(outputNWBpath):\n",
    "    #     print(f\"NWB file already created for {experimentID}\")\n",
    "    # else:\n",
    "    session_description = f\"pupilContrast_{experimentID}_ZnT3WT\"\n",
    "    experiment_description = \"low and high DRC contrast with pupillometry\"\n",
    "    keywords = [\"2P\", \"CGC\", \"pupillometry\", \"DRC\"]\n",
    "\n",
    "    lib.nwbScanImage.genNWBfromScanImage_pc(\n",
    "        experimentID=experimentID, \n",
    "        dataPath=dataPath, \n",
    "        NWBoutputPath=outputNWBpath,\n",
    "        session_description=session_description,\n",
    "        experiment_description=experiment_description,\n",
    "        keywords=keywords,\n",
    "        **lib.nwbScanImage.PARAMS_nwbFilePC,\n",
    "        **lib.nwbScanImage.PARAMS_imagingPC\n",
    "        )"
   ]
  },
  {
   "cell_type": "code",
   "execution_count": 3,
   "metadata": {},
   "outputs": [
    {
     "name": "stdout",
     "output_type": "stream",
     "text": [
      "Generating standardized NWB file for AA0326\n",
      "recording includes: stim\n",
      "added 2P data\n",
      "added motion correction data\n",
      "added ROI segmentation data\n",
      "added fluorescence trace data for ROIs\n",
      "added stim table data\n",
      "found pupillometry data for AA0326\n",
      "added pupil radius data\n",
      "added pupil video data\n",
      "NWB write success to: /media/DATA/backups/sutter2P_backup/D_drive/ZnT3_pupil/BIN1/AA0326/AA0326.nwb\n",
      "Generating standardized NWB file for AA0327\n",
      "recording includes: map\n",
      "recording includes: stim\n",
      "added 2P data\n",
      "added motion correction data\n",
      "added ROI segmentation data\n",
      "added fluorescence trace data for ROIs\n",
      "added stim table data\n",
      "found pupillometry data for AA0327\n",
      "added pupil radius data\n",
      "added pupil video data\n",
      "NWB write success to: /media/DATA/backups/sutter2P_backup/D_drive/ZnT3_pupil/BIN1/AA0327/AA0327.nwb\n",
      "Generating standardized NWB file for AA0328\n",
      "recording includes: stim\n",
      "added 2P data\n",
      "added motion correction data\n",
      "added ROI segmentation data\n",
      "added fluorescence trace data for ROIs\n",
      "added stim table data\n",
      "found pupillometry data for AA0328\n",
      "added pupil radius data\n",
      "added pupil video data\n",
      "NWB write success to: /media/DATA/backups/sutter2P_backup/D_drive/ZnT3_pupil/BIN1/AA0328/AA0328.nwb\n",
      "Generating standardized NWB file for AA0338\n",
      "recording includes: stim\n",
      "added 2P data\n",
      "added motion correction data\n",
      "added ROI segmentation data\n",
      "added fluorescence trace data for ROIs\n",
      "added stim table data\n",
      "found pupillometry data for AA0338\n",
      "added pupil radius data\n",
      "added pupil video data\n",
      "NWB write success to: /media/DATA/backups/sutter2P_backup/D_drive/ZnT3_pupil/BIN1/AA0338/AA0338.nwb\n",
      "Generating standardized NWB file for AA0339\n",
      "recording includes: stim\n",
      "added 2P data\n",
      "added motion correction data\n",
      "added ROI segmentation data\n",
      "added fluorescence trace data for ROIs\n",
      "added stim table data\n",
      "found pupillometry data for AA0339\n",
      "added pupil radius data\n",
      "added pupil video data\n",
      "NWB write success to: /media/DATA/backups/sutter2P_backup/D_drive/ZnT3_pupil/BIN1/AA0339/AA0339.nwb\n",
      "Generating standardized NWB file for AA0340\n",
      "recording includes: stim\n",
      "added 2P data\n",
      "added motion correction data\n",
      "added ROI segmentation data\n",
      "added fluorescence trace data for ROIs\n",
      "added stim table data\n",
      "found pupillometry data for AA0340\n",
      "added pupil radius data\n",
      "added pupil video data\n",
      "NWB write success to: /media/DATA/backups/sutter2P_backup/D_drive/ZnT3_pupil/BIN1/AA0340/AA0340.nwb\n",
      "Generating standardized NWB file for AA0341\n",
      "recording includes: stim\n",
      "added 2P data\n",
      "added motion correction data\n",
      "added ROI segmentation data\n",
      "added fluorescence trace data for ROIs\n",
      "added stim table data\n",
      "found pupillometry data for AA0341\n",
      "added pupil radius data\n",
      "added pupil video data\n",
      "NWB write success to: /media/DATA/backups/sutter2P_backup/D_drive/ZnT3_pupil/BIN1/AA0341/AA0341.nwb\n"
     ]
    }
   ],
   "source": [
    "import os\n",
    "import re\n",
    "import lib.nwbScanImage\n",
    "\n",
    "import importlib\n",
    "importlib.reload(lib.nwbScanImage)\n",
    "\n",
    "# dataPath = \"/media/DATA/backups/sutter2P_backup/D_drive/dataSince20210304\"\n",
    "dataPath = \"/media/DATA/backups/sutter2P_backup/D_drive/ZnT3_pupil/BIN1\"\n",
    "\n",
    "experiments = [d for d in os.listdir(dataPath) if re.match(r'[A-Z]{2}\\d{4}',d)]\n",
    "\n",
    "for experimentID in experiments:\n",
    "    outputNWBpath = os.path.join(dataPath,experimentID,f\"{experimentID}.nwb\")\n",
    "\n",
    "    # if os.path.exists(outputNWBpath):\n",
    "    #     print(f\"NWB file already created for {experimentID}\")\n",
    "    # else:\n",
    "    session_description = f\"pupilContrast_{experimentID}_ZnT3KO\"\n",
    "    experiment_description = \"low and high DRC contrast with pupillometry\"\n",
    "    keywords = [\"2P\", \"CGC\", \"pupillometry\", \"DRC\"]\n",
    "\n",
    "    lib.nwbScanImage.genNWBfromScanImage_pc(\n",
    "        experimentID=experimentID, \n",
    "        dataPath=dataPath, \n",
    "        NWBoutputPath=outputNWBpath,\n",
    "        session_description=session_description,\n",
    "        experiment_description=experiment_description,\n",
    "        keywords=keywords,\n",
    "        **lib.nwbScanImage.PARAMS_nwbFilePC,\n",
    "        **lib.nwbScanImage.PARAMS_imagingPC\n",
    "        )"
   ]
  },
  {
   "cell_type": "code",
   "execution_count": 4,
   "metadata": {},
   "outputs": [
    {
     "name": "stdout",
     "output_type": "stream",
     "text": [
      "Generating standardized NWB file for AA0320\n",
      "recording includes: map\n",
      "recording includes: stim\n"
     ]
    },
    {
     "name": "stderr",
     "output_type": "stream",
     "text": [
      "/home/pac/Documents/Python/nwb/venvNWB/lib/python3.12/site-packages/pynwb/file.py:472: UserWarning: Date is missing timezone information. Updating to local timezone.\n",
      "  args_to_set['session_start_time'] = _add_missing_timezone(session_start_time)\n"
     ]
    },
    {
     "name": "stdout",
     "output_type": "stream",
     "text": [
      "added 2P data\n",
      "added motion correction data\n",
      "added ROI segmentation data\n"
     ]
    },
    {
     "name": "stderr",
     "output_type": "stream",
     "text": [
      "/home/pac/Documents/Python/nwb/venvNWB/lib/python3.12/site-packages/hdmf/container.py:536: UserWarning: The linked table for DynamicTableRegion 'rois' does not share an ancestor with the DynamicTableRegion.\n",
      "  child._validate_on_set_parent()\n"
     ]
    },
    {
     "name": "stdout",
     "output_type": "stream",
     "text": [
      "added fluorescence trace data for ROIs\n",
      "added stim table data\n",
      "found pupillometry data for AA0320\n",
      "added pupil radius data\n",
      "added pupil video data\n",
      "NWB write success to: /media/DATA/backups/sutter2P_backup/D_drive/dataSince20210304/AA0320/AA0320.nwb\n",
      "Generating standardized NWB file for AA0322\n",
      "recording includes: map\n",
      "recording includes: stim\n",
      "added 2P data\n",
      "added motion correction data\n",
      "added ROI segmentation data\n",
      "added fluorescence trace data for ROIs\n",
      "added stim table data\n",
      "found pupillometry data for AA0322\n",
      "added pupil radius data\n",
      "added pupil video data\n",
      "NWB write success to: /media/DATA/backups/sutter2P_backup/D_drive/dataSince20210304/AA0322/AA0322.nwb\n",
      "Generating standardized NWB file for AA0351\n",
      "recording includes: stim\n",
      "added 2P data\n",
      "added motion correction data\n",
      "added ROI segmentation data\n",
      "added fluorescence trace data for ROIs\n",
      "added stim table data\n",
      "NWB write success to: /media/DATA/backups/sutter2P_backup/D_drive/dataSince20210304/AA0351/AA0351.nwb\n"
     ]
    }
   ],
   "source": [
    "import os\n",
    "import re\n",
    "import lib.nwbScanImage\n",
    "\n",
    "import importlib\n",
    "importlib.reload(lib.nwbScanImage)\n",
    "\n",
    "dataPath = \"/media/DATA/backups/sutter2P_backup/D_drive/dataSince20210304\"\n",
    "# dataPath = \"/media/DATA/backups/sutter2P_backup/D_drive/ZnT3_pupil/BIN1\"\n",
    "\n",
    "# experiments = [d for d in os.listdir(dataPath) if re.match(r'[A-Z]{2}\\d{4}',d)]\n",
    "experiments = [\n",
    "    'AA0320',\n",
    "    'AA0322',\n",
    "    'AA0351'\n",
    "]\n",
    "\n",
    "for experimentID in experiments:\n",
    "    outputNWBpath = os.path.join(dataPath,experimentID,f\"{experimentID}.nwb\")\n",
    "\n",
    "    # if os.path.exists(outputNWBpath):\n",
    "    #     print(f\"NWB file already created for {experimentID}\")\n",
    "    # else:\n",
    "    session_description = f\"pupilContrast_{experimentID}_ACSF_C57BL6J\"\n",
    "    experiment_description = \"low and high DRC contrast with pupillometry\"\n",
    "    keywords = [\"2P\", \"CGC\", \"pupillometry\", \"DRC\"]\n",
    "\n",
    "    lib.nwbScanImage.genNWBfromScanImage_pc(\n",
    "        experimentID=experimentID, \n",
    "        dataPath=dataPath, \n",
    "        NWBoutputPath=outputNWBpath,\n",
    "        session_description=session_description,\n",
    "        experiment_description=experiment_description,\n",
    "        keywords=keywords,\n",
    "        **lib.nwbScanImage.PARAMS_nwbFilePC,\n",
    "        **lib.nwbScanImage.PARAMS_imagingPC\n",
    "        )"
   ]
  },
  {
   "cell_type": "code",
   "execution_count": 1,
   "metadata": {},
   "outputs": [
    {
     "name": "stdout",
     "output_type": "stream",
     "text": [
      "Generating standardized NWB file for AA0319\n",
      "recording includes: map\n",
      "recording includes: stim\n"
     ]
    },
    {
     "name": "stderr",
     "output_type": "stream",
     "text": [
      "/home/pac/Documents/Python/nwb/venvNWB/lib/python3.12/site-packages/pynwb/file.py:472: UserWarning: Date is missing timezone information. Updating to local timezone.\n",
      "  args_to_set['session_start_time'] = _add_missing_timezone(session_start_time)\n"
     ]
    },
    {
     "name": "stdout",
     "output_type": "stream",
     "text": [
      "added 2P data\n",
      "added motion correction data\n",
      "added ROI segmentation data\n"
     ]
    },
    {
     "name": "stderr",
     "output_type": "stream",
     "text": [
      "/home/pac/Documents/Python/nwb/venvNWB/lib/python3.12/site-packages/hdmf/container.py:536: UserWarning: The linked table for DynamicTableRegion 'rois' does not share an ancestor with the DynamicTableRegion.\n",
      "  child._validate_on_set_parent()\n"
     ]
    },
    {
     "name": "stdout",
     "output_type": "stream",
     "text": [
      "added fluorescence trace data for ROIs\n",
      "added stim table data\n",
      "found pupillometry data for AA0319\n",
      "added pupil radius data\n",
      "added pupil video data\n",
      "NWB write success to: /media/DATA/backups/sutter2P_backup/D_drive/dataSince20210304/AA0319/AA0319.nwb\n"
     ]
    }
   ],
   "source": [
    "import os\n",
    "import re\n",
    "import lib.nwbScanImage\n",
    "\n",
    "import importlib\n",
    "importlib.reload(lib.nwbScanImage)\n",
    "\n",
    "dataPath = \"/media/DATA/backups/sutter2P_backup/D_drive/dataSince20210304\"\n",
    "# dataPath = \"/media/DATA/backups/sutter2P_backup/D_drive/ZnT3_pupil/BIN1\"\n",
    "\n",
    "# experiments = [d for d in os.listdir(dataPath) if re.match(r'[A-Z]{2}\\d{4}',d)]\n",
    "experiments = [\n",
    "    # 'AA0317',\n",
    "    'AA0319',\n",
    "]\n",
    "\n",
    "for experimentID in experiments:\n",
    "    outputNWBpath = os.path.join(dataPath,experimentID,f\"{experimentID}.nwb\")\n",
    "\n",
    "    # if os.path.exists(outputNWBpath):\n",
    "    #     print(f\"NWB file already created for {experimentID}\")\n",
    "    # else:\n",
    "    session_description = f\"pupilBaselineVSevoked_{experimentID}_ACSF_C57BL6J\"\n",
    "    experiment_description = \"low and high DRC contrast with pupillometry\"\n",
    "    keywords = [\"2P\", \"CGC\", \"pupillometry\", \"DRC\"]\n",
    "\n",
    "    lib.nwbScanImage.genNWBfromScanImage_pc(\n",
    "        experimentID=experimentID, \n",
    "        dataPath=dataPath, \n",
    "        NWBoutputPath=outputNWBpath,\n",
    "        session_description=session_description,\n",
    "        experiment_description=experiment_description,\n",
    "        keywords=keywords,\n",
    "        **lib.nwbScanImage.PARAMS_nwbFilePC,\n",
    "        **lib.nwbScanImage.PARAMS_imagingPC\n",
    "        )"
   ]
  },
  {
   "cell_type": "markdown",
   "metadata": {},
   "source": [
    "### keep track of standardized animals"
   ]
  },
  {
   "cell_type": "code",
   "execution_count": 25,
   "metadata": {},
   "outputs": [],
   "source": [
    "import os\n",
    "\n",
    "compiledData = {}\n",
    "compiledData['pupil_contrast_ACSF'] = [\n",
    "'/media/DATA/backups/sutter2P_backup/D_drive/dataSince20210304/AA0320',\n",
    "'/media/DATA/backups/sutter2P_backup/D_drive/dataSince20210304/AA0322',\n",
    "'/media/DATA/backups/sutter2P_backup/D_drive/dataSince20210304/AA0350',\n",
    "'/media/DATA/backups/sutter2P_backup/D_drive/dataSince20210304/AA0351',]\n",
    "\n",
    "compiledData['pupil_contrast_ZnT3WT'] = [\n",
    " '/media/DATA/backups/sutter2P_backup/D_drive/ZnT3_pupil/BIN2/AA0323',\n",
    " '/media/DATA/backups/sutter2P_backup/D_drive/ZnT3_pupil/BIN2/AA0325',\n",
    " '/media/DATA/backups/sutter2P_backup/D_drive/ZnT3_pupil/BIN2/AA0330',\n",
    " '/media/DATA/backups/sutter2P_backup/D_drive/ZnT3_pupil/BIN2/AA0331',\n",
    " '/media/DATA/backups/sutter2P_backup/D_drive/ZnT3_pupil/BIN2/AA0332',\n",
    " '/media/DATA/backups/sutter2P_backup/D_drive/ZnT3_pupil/BIN2/AA0333',\n",
    " '/media/DATA/backups/sutter2P_backup/D_drive/ZnT3_pupil/BIN2/AA0334',\n",
    " '/media/DATA/backups/sutter2P_backup/D_drive/ZnT3_pupil/BIN2/AA0335',\n",
    " '/media/DATA/backups/sutter2P_backup/D_drive/ZnT3_pupil/BIN2/AA0336',\n",
    " '/media/DATA/backups/sutter2P_backup/D_drive/ZnT3_pupil/BIN2/AA0337',]\n",
    "\n",
    "compiledData['pupil_contrast_ZnT3KO'] = [\n",
    " '/media/DATA/backups/sutter2P_backup/D_drive/ZnT3_pupil/BIN1/AA0326',\n",
    " '/media/DATA/backups/sutter2P_backup/D_drive/ZnT3_pupil/BIN1/AA0327',\n",
    " '/media/DATA/backups/sutter2P_backup/D_drive/ZnT3_pupil/BIN1/AA0328',\n",
    " '/media/DATA/backups/sutter2P_backup/D_drive/ZnT3_pupil/BIN1/AA0339',\n",
    " '/media/DATA/backups/sutter2P_backup/D_drive/ZnT3_pupil/BIN1/AA0340',\n",
    " '/media/DATA/backups/sutter2P_backup/D_drive/ZnT3_pupil/BIN1/AA0341']\n",
    "\n",
    "compiledData['pupilBaseline_vs_evoked']= [\n",
    " '/media/DATA/backups/sutter2P_backup/D_drive/dataSince20210304/AA0314',\n",
    " '/media/DATA/backups/sutter2P_backup/D_drive/dataSince20210304/AA0315',\n",
    " '/media/DATA/backups/sutter2P_backup/D_drive/dataSince20210304/AA0317',\n",
    " '/media/DATA/backups/sutter2P_backup/D_drive/dataSince20210304/AA0318',\n",
    " '/media/DATA/backups/sutter2P_backup/D_drive/dataSince20210304/AA0319',\n",
    " '/media/DATA/backups/sutter2P_backup/D_drive/ZnT3_pupil/BIN2/AA0323',\n",
    " '/media/DATA/backups/sutter2P_backup/D_drive/ZnT3_pupil/BIN2/AA0325',\n",
    " '/media/DATA/backups/sutter2P_backup/D_drive/ZnT3_pupil/BIN2/AA0330',\n",
    " '/media/DATA/backups/sutter2P_backup/D_drive/ZnT3_pupil/BIN2/AA0334',\n",
    " '/media/DATA/backups/sutter2P_backup/D_drive/ZnT3_pupil/BIN2/AA0335',\n",
    " '/media/DATA/backups/sutter2P_backup/D_drive/ZnT3_pupil/BIN2/AA0336']\n",
    " \n",
    "compiledData['pupilPTinContrast'] = [\n",
    " '/media/DATA/backups/sutter2P_backup/D_drive/dataSince20210304/AA0304',\n",
    " '/media/DATA/backups/sutter2P_backup/D_drive/dataSince20210304/AA0308',\n",
    " '/media/DATA/backups/sutter2P_backup/D_drive/dataSince20210304/AA0310',\n",
    " '/media/DATA/backups/sutter2P_backup/D_drive/dataSince20210304/AA0312',\n",
    " '/media/DATA/backups/sutter2P_backup/D_drive/dataSince20210304/AA0314',\n",
    " '/media/DATA/backups/sutter2P_backup/D_drive/dataSince20210304/AA0315',\n",
    " '/media/DATA/backups/sutter2P_backup/D_drive/dataSince20210304/AA0318',\n",
    " '/media/DATA/backups/sutter2P_backup/D_drive/ZnT3_pupil/BIN2/AA0335',\n",
    " '/media/DATA/backups/sutter2P_backup/D_drive/dataSince20210304/AA0350',\n",
    " '/media/DATA/backups/sutter2P_backup/D_drive/dataSince20210304/AA0353',]\n",
    " \n",
    "compiledData['ZX1_uBasePupilPctMax_wEpoch'] = [\n",
    " '/media/DATA/backups/sutter2P_backup/D_drive/dataSince20210304/AA0314',\n",
    " '/media/DATA/backups/sutter2P_backup/D_drive/dataSince20210304/AA0315',\n",
    " '/media/DATA/backups/sutter2P_backup/D_drive/dataSince20210304/AA0317',\n",
    " '/media/DATA/backups/sutter2P_backup/D_drive/dataSince20210304/AA0318',\n",
    " '/media/DATA/backups/sutter2P_backup/D_drive/dataSince20210304/AA0319',\n",
    " '/media/DATA/backups/sutter2P_backup/D_drive/ZnT3_pupil/BIN2/AA0323',\n",
    " '/media/DATA/backups/sutter2P_backup/D_drive/ZnT3_pupil/BIN2/AA0325',\n",
    " '/media/DATA/backups/sutter2P_backup/D_drive/ZnT3_pupil/BIN2/AA0330',\n",
    " '/media/DATA/backups/sutter2P_backup/D_drive/ZnT3_pupil/BIN2/AA0334',\n",
    " '/media/DATA/backups/sutter2P_backup/D_drive/ZnT3_pupil/BIN2/AA0335',\n",
    " '/media/DATA/backups/sutter2P_backup/D_drive/ZnT3_pupil/BIN2/AA0336']\n",
    "\n",
    "compiledData['ACSF_uBasePupilPctMax_wEpoch'] = [\n",
    " '/media/DATA/backups/sutter2P_backup/D_drive/dataSince20210304/AA0320',\n",
    " '/media/DATA/backups/sutter2P_backup/D_drive/dataSince20210304/AA0322',\n",
    " '/media/DATA/backups/sutter2P_backup/D_drive/dataSince20210304/AA0350',\n",
    " '/media/DATA/backups/sutter2P_backup/D_drive/dataSince20210304/AA0351',]"
   ]
  },
  {
   "cell_type": "code",
   "execution_count": 26,
   "metadata": {},
   "outputs": [
    {
     "data": {
      "text/plain": [
       "{'/media/DATA/backups/sutter2P_backup/D_drive/ZnT3_pupil/BIN1/AA0326',\n",
       " '/media/DATA/backups/sutter2P_backup/D_drive/ZnT3_pupil/BIN1/AA0327',\n",
       " '/media/DATA/backups/sutter2P_backup/D_drive/ZnT3_pupil/BIN1/AA0328',\n",
       " '/media/DATA/backups/sutter2P_backup/D_drive/ZnT3_pupil/BIN1/AA0339',\n",
       " '/media/DATA/backups/sutter2P_backup/D_drive/ZnT3_pupil/BIN1/AA0340',\n",
       " '/media/DATA/backups/sutter2P_backup/D_drive/ZnT3_pupil/BIN1/AA0341',\n",
       " '/media/DATA/backups/sutter2P_backup/D_drive/ZnT3_pupil/BIN2/AA0323',\n",
       " '/media/DATA/backups/sutter2P_backup/D_drive/ZnT3_pupil/BIN2/AA0325',\n",
       " '/media/DATA/backups/sutter2P_backup/D_drive/ZnT3_pupil/BIN2/AA0330',\n",
       " '/media/DATA/backups/sutter2P_backup/D_drive/ZnT3_pupil/BIN2/AA0331',\n",
       " '/media/DATA/backups/sutter2P_backup/D_drive/ZnT3_pupil/BIN2/AA0332',\n",
       " '/media/DATA/backups/sutter2P_backup/D_drive/ZnT3_pupil/BIN2/AA0333',\n",
       " '/media/DATA/backups/sutter2P_backup/D_drive/ZnT3_pupil/BIN2/AA0334',\n",
       " '/media/DATA/backups/sutter2P_backup/D_drive/ZnT3_pupil/BIN2/AA0335',\n",
       " '/media/DATA/backups/sutter2P_backup/D_drive/ZnT3_pupil/BIN2/AA0336',\n",
       " '/media/DATA/backups/sutter2P_backup/D_drive/ZnT3_pupil/BIN2/AA0337',\n",
       " '/media/DATA/backups/sutter2P_backup/D_drive/dataSince20210304/AA0304',\n",
       " '/media/DATA/backups/sutter2P_backup/D_drive/dataSince20210304/AA0308',\n",
       " '/media/DATA/backups/sutter2P_backup/D_drive/dataSince20210304/AA0310',\n",
       " '/media/DATA/backups/sutter2P_backup/D_drive/dataSince20210304/AA0312',\n",
       " '/media/DATA/backups/sutter2P_backup/D_drive/dataSince20210304/AA0314',\n",
       " '/media/DATA/backups/sutter2P_backup/D_drive/dataSince20210304/AA0315',\n",
       " '/media/DATA/backups/sutter2P_backup/D_drive/dataSince20210304/AA0317',\n",
       " '/media/DATA/backups/sutter2P_backup/D_drive/dataSince20210304/AA0318',\n",
       " '/media/DATA/backups/sutter2P_backup/D_drive/dataSince20210304/AA0319',\n",
       " '/media/DATA/backups/sutter2P_backup/D_drive/dataSince20210304/AA0320',\n",
       " '/media/DATA/backups/sutter2P_backup/D_drive/dataSince20210304/AA0322',\n",
       " '/media/DATA/backups/sutter2P_backup/D_drive/dataSince20210304/AA0350',\n",
       " '/media/DATA/backups/sutter2P_backup/D_drive/dataSince20210304/AA0351',\n",
       " '/media/DATA/backups/sutter2P_backup/D_drive/dataSince20210304/AA0353'}"
      ]
     },
     "execution_count": 26,
     "metadata": {},
     "output_type": "execute_result"
    }
   ],
   "source": [
    "all = []\n",
    "[all.extend(v) for v in compiledData.values()]\n",
    "all = set(all)\n",
    "all"
   ]
  },
  {
   "cell_type": "code",
   "execution_count": 27,
   "metadata": {},
   "outputs": [
    {
     "data": {
      "text/plain": [
       "['/media/DATA/backups/sutter2P_backup/D_drive/dataSince20210304/AA0304',\n",
       " '/media/DATA/backups/sutter2P_backup/D_drive/dataSince20210304/AA0308',\n",
       " '/media/DATA/backups/sutter2P_backup/D_drive/dataSince20210304/AA0310',\n",
       " '/media/DATA/backups/sutter2P_backup/D_drive/dataSince20210304/AA0312',\n",
       " '/media/DATA/backups/sutter2P_backup/D_drive/dataSince20210304/AA0314',\n",
       " '/media/DATA/backups/sutter2P_backup/D_drive/dataSince20210304/AA0315',\n",
       " '/media/DATA/backups/sutter2P_backup/D_drive/dataSince20210304/AA0318',\n",
       " '/media/DATA/backups/sutter2P_backup/D_drive/dataSince20210304/AA0350',\n",
       " '/media/DATA/backups/sutter2P_backup/D_drive/dataSince20210304/AA0353']"
      ]
     },
     "execution_count": 27,
     "metadata": {},
     "output_type": "execute_result"
    }
   ],
   "source": [
    "standardized = []\n",
    "dataPath = \"/media/DATA/backups/sutter2P_backup/D_drive/dataSince20210304\"\n",
    "experiments = [\n",
    "                'AA0304',\n",
    "                'AA0308',\n",
    "                'AA0310',\n",
    "                'AA0312',\n",
    "                'AA0314',\n",
    "                'AA0315',\n",
    "                'AA0318',\n",
    "                'AA0350',\n",
    "                'AA0353'\n",
    "               ]\n",
    "[standardized.append(os.path.join(dataPath,e)) for e in experiments]\n",
    "standardized"
   ]
  },
  {
   "cell_type": "code",
   "execution_count": 28,
   "metadata": {},
   "outputs": [
    {
     "data": {
      "text/plain": [
       "['/media/DATA/backups/sutter2P_backup/D_drive/dataSince20210304/AA0304',\n",
       " '/media/DATA/backups/sutter2P_backup/D_drive/dataSince20210304/AA0308',\n",
       " '/media/DATA/backups/sutter2P_backup/D_drive/dataSince20210304/AA0310',\n",
       " '/media/DATA/backups/sutter2P_backup/D_drive/dataSince20210304/AA0312',\n",
       " '/media/DATA/backups/sutter2P_backup/D_drive/dataSince20210304/AA0314',\n",
       " '/media/DATA/backups/sutter2P_backup/D_drive/dataSince20210304/AA0315',\n",
       " '/media/DATA/backups/sutter2P_backup/D_drive/dataSince20210304/AA0318',\n",
       " '/media/DATA/backups/sutter2P_backup/D_drive/dataSince20210304/AA0350',\n",
       " '/media/DATA/backups/sutter2P_backup/D_drive/dataSince20210304/AA0353',\n",
       " '/media/DATA/backups/sutter2P_backup/D_drive/ZnT3_pupil/BIN2/AA0323',\n",
       " '/media/DATA/backups/sutter2P_backup/D_drive/ZnT3_pupil/BIN2/AA0325',\n",
       " '/media/DATA/backups/sutter2P_backup/D_drive/ZnT3_pupil/BIN2/AA0330',\n",
       " '/media/DATA/backups/sutter2P_backup/D_drive/ZnT3_pupil/BIN2/AA0331',\n",
       " '/media/DATA/backups/sutter2P_backup/D_drive/ZnT3_pupil/BIN2/AA0332',\n",
       " '/media/DATA/backups/sutter2P_backup/D_drive/ZnT3_pupil/BIN2/AA0333',\n",
       " '/media/DATA/backups/sutter2P_backup/D_drive/ZnT3_pupil/BIN2/AA0334',\n",
       " '/media/DATA/backups/sutter2P_backup/D_drive/ZnT3_pupil/BIN2/AA0335',\n",
       " '/media/DATA/backups/sutter2P_backup/D_drive/ZnT3_pupil/BIN2/AA0336',\n",
       " '/media/DATA/backups/sutter2P_backup/D_drive/ZnT3_pupil/BIN2/AA0337']"
      ]
     },
     "execution_count": 28,
     "metadata": {},
     "output_type": "execute_result"
    }
   ],
   "source": [
    "import re\n",
    "\n",
    "dataPath = \"/media/DATA/backups/sutter2P_backup/D_drive/ZnT3_pupil/BIN2\"\n",
    "experiments = [d for d in os.listdir(dataPath) if re.match(r'[A-Z]{2}\\d{4}',d)]\n",
    "[standardized.append(os.path.join(dataPath,e)) for e in experiments]\n",
    "standardized"
   ]
  },
  {
   "cell_type": "code",
   "execution_count": 29,
   "metadata": {},
   "outputs": [
    {
     "data": {
      "text/plain": [
       "['/media/DATA/backups/sutter2P_backup/D_drive/ZnT3_pupil/BIN1/AA0341',\n",
       " '/media/DATA/backups/sutter2P_backup/D_drive/dataSince20210304/AA0319',\n",
       " '/media/DATA/backups/sutter2P_backup/D_drive/dataSince20210304/AA0320',\n",
       " '/media/DATA/backups/sutter2P_backup/D_drive/ZnT3_pupil/BIN1/AA0340',\n",
       " '/media/DATA/backups/sutter2P_backup/D_drive/ZnT3_pupil/BIN1/AA0327',\n",
       " '/media/DATA/backups/sutter2P_backup/D_drive/dataSince20210304/AA0322',\n",
       " '/media/DATA/backups/sutter2P_backup/D_drive/dataSince20210304/AA0351',\n",
       " '/media/DATA/backups/sutter2P_backup/D_drive/ZnT3_pupil/BIN1/AA0328',\n",
       " '/media/DATA/backups/sutter2P_backup/D_drive/ZnT3_pupil/BIN1/AA0339',\n",
       " '/media/DATA/backups/sutter2P_backup/D_drive/dataSince20210304/AA0317',\n",
       " '/media/DATA/backups/sutter2P_backup/D_drive/ZnT3_pupil/BIN1/AA0326']"
      ]
     },
     "execution_count": 29,
     "metadata": {},
     "output_type": "execute_result"
    }
   ],
   "source": [
    "[e for e in all if e not in standardized]"
   ]
  },
  {
   "cell_type": "code",
   "execution_count": 30,
   "metadata": {},
   "outputs": [
    {
     "name": "stdout",
     "output_type": "stream",
     "text": [
      "pupil_contrast_ACSF: \n",
      "/media/DATA/backups/sutter2P_backup/D_drive/dataSince20210304/AA0320\n",
      "/media/DATA/backups/sutter2P_backup/D_drive/dataSince20210304/AA0322\n",
      "/media/DATA/backups/sutter2P_backup/D_drive/dataSince20210304/AA0351\n",
      "pupil_contrast_ZnT3WT: \n",
      "\n",
      "pupil_contrast_ZnT3KO: \n",
      "/media/DATA/backups/sutter2P_backup/D_drive/ZnT3_pupil/BIN1/AA0326\n",
      "/media/DATA/backups/sutter2P_backup/D_drive/ZnT3_pupil/BIN1/AA0327\n",
      "/media/DATA/backups/sutter2P_backup/D_drive/ZnT3_pupil/BIN1/AA0328\n",
      "/media/DATA/backups/sutter2P_backup/D_drive/ZnT3_pupil/BIN1/AA0339\n",
      "/media/DATA/backups/sutter2P_backup/D_drive/ZnT3_pupil/BIN1/AA0340\n",
      "/media/DATA/backups/sutter2P_backup/D_drive/ZnT3_pupil/BIN1/AA0341\n",
      "pupilBaseline_vs_evoked: \n",
      "/media/DATA/backups/sutter2P_backup/D_drive/dataSince20210304/AA0317\n",
      "/media/DATA/backups/sutter2P_backup/D_drive/dataSince20210304/AA0319\n",
      "pupilPTinContrast: \n",
      "\n",
      "ZX1_uBasePupilPctMax_wEpoch: \n",
      "/media/DATA/backups/sutter2P_backup/D_drive/dataSince20210304/AA0317\n",
      "/media/DATA/backups/sutter2P_backup/D_drive/dataSince20210304/AA0319\n",
      "ACSF_uBasePupilPctMax_wEpoch: \n",
      "/media/DATA/backups/sutter2P_backup/D_drive/dataSince20210304/AA0320\n",
      "/media/DATA/backups/sutter2P_backup/D_drive/dataSince20210304/AA0322\n",
      "/media/DATA/backups/sutter2P_backup/D_drive/dataSince20210304/AA0351\n"
     ]
    }
   ],
   "source": [
    "for k,v in compiledData.items():\n",
    "    notdone = []\n",
    "    for el in v:\n",
    "        if el not in standardized:\n",
    "            notdone.append(el)\n",
    "    print(f\"{k}: \\n{\"\\n\".join(notdone)}\")"
   ]
  },
  {
   "cell_type": "code",
   "execution_count": 31,
   "metadata": {},
   "outputs": [
    {
     "data": {
      "text/plain": [
       "['/media/DATA/backups/sutter2P_backup/D_drive/dataSince20210304/AA0304',\n",
       " '/media/DATA/backups/sutter2P_backup/D_drive/dataSince20210304/AA0308',\n",
       " '/media/DATA/backups/sutter2P_backup/D_drive/dataSince20210304/AA0310',\n",
       " '/media/DATA/backups/sutter2P_backup/D_drive/dataSince20210304/AA0312',\n",
       " '/media/DATA/backups/sutter2P_backup/D_drive/dataSince20210304/AA0314',\n",
       " '/media/DATA/backups/sutter2P_backup/D_drive/dataSince20210304/AA0315',\n",
       " '/media/DATA/backups/sutter2P_backup/D_drive/dataSince20210304/AA0318',\n",
       " '/media/DATA/backups/sutter2P_backup/D_drive/dataSince20210304/AA0350',\n",
       " '/media/DATA/backups/sutter2P_backup/D_drive/dataSince20210304/AA0353',\n",
       " '/media/DATA/backups/sutter2P_backup/D_drive/ZnT3_pupil/BIN2/AA0323',\n",
       " '/media/DATA/backups/sutter2P_backup/D_drive/ZnT3_pupil/BIN2/AA0325',\n",
       " '/media/DATA/backups/sutter2P_backup/D_drive/ZnT3_pupil/BIN2/AA0330',\n",
       " '/media/DATA/backups/sutter2P_backup/D_drive/ZnT3_pupil/BIN2/AA0331',\n",
       " '/media/DATA/backups/sutter2P_backup/D_drive/ZnT3_pupil/BIN2/AA0332',\n",
       " '/media/DATA/backups/sutter2P_backup/D_drive/ZnT3_pupil/BIN2/AA0333',\n",
       " '/media/DATA/backups/sutter2P_backup/D_drive/ZnT3_pupil/BIN2/AA0334',\n",
       " '/media/DATA/backups/sutter2P_backup/D_drive/ZnT3_pupil/BIN2/AA0335',\n",
       " '/media/DATA/backups/sutter2P_backup/D_drive/ZnT3_pupil/BIN2/AA0336',\n",
       " '/media/DATA/backups/sutter2P_backup/D_drive/ZnT3_pupil/BIN2/AA0337',\n",
       " '/media/DATA/backups/sutter2P_backup/D_drive/ZnT3_pupil/BIN1/AA0326',\n",
       " '/media/DATA/backups/sutter2P_backup/D_drive/ZnT3_pupil/BIN1/AA0327',\n",
       " '/media/DATA/backups/sutter2P_backup/D_drive/ZnT3_pupil/BIN1/AA0328',\n",
       " '/media/DATA/backups/sutter2P_backup/D_drive/ZnT3_pupil/BIN1/AA0338',\n",
       " '/media/DATA/backups/sutter2P_backup/D_drive/ZnT3_pupil/BIN1/AA0339',\n",
       " '/media/DATA/backups/sutter2P_backup/D_drive/ZnT3_pupil/BIN1/AA0340',\n",
       " '/media/DATA/backups/sutter2P_backup/D_drive/ZnT3_pupil/BIN1/AA0341']"
      ]
     },
     "execution_count": 31,
     "metadata": {},
     "output_type": "execute_result"
    }
   ],
   "source": [
    "import re\n",
    "\n",
    "dataPath = \"/media/DATA/backups/sutter2P_backup/D_drive/ZnT3_pupil/BIN1\"\n",
    "experiments = [d for d in os.listdir(dataPath) if re.match(r'[A-Z]{2}\\d{4}',d)]\n",
    "[standardized.append(os.path.join(dataPath,e)) for e in experiments]\n",
    "standardized"
   ]
  },
  {
   "cell_type": "code",
   "execution_count": 32,
   "metadata": {},
   "outputs": [
    {
     "name": "stdout",
     "output_type": "stream",
     "text": [
      "pupil_contrast_ACSF: \n",
      "/media/DATA/backups/sutter2P_backup/D_drive/dataSince20210304/AA0320\n",
      "/media/DATA/backups/sutter2P_backup/D_drive/dataSince20210304/AA0322\n",
      "/media/DATA/backups/sutter2P_backup/D_drive/dataSince20210304/AA0351\n",
      "pupil_contrast_ZnT3WT: \n",
      "\n",
      "pupil_contrast_ZnT3KO: \n",
      "\n",
      "pupilBaseline_vs_evoked: \n",
      "/media/DATA/backups/sutter2P_backup/D_drive/dataSince20210304/AA0317\n",
      "/media/DATA/backups/sutter2P_backup/D_drive/dataSince20210304/AA0319\n",
      "pupilPTinContrast: \n",
      "\n",
      "ZX1_uBasePupilPctMax_wEpoch: \n",
      "/media/DATA/backups/sutter2P_backup/D_drive/dataSince20210304/AA0317\n",
      "/media/DATA/backups/sutter2P_backup/D_drive/dataSince20210304/AA0319\n",
      "ACSF_uBasePupilPctMax_wEpoch: \n",
      "/media/DATA/backups/sutter2P_backup/D_drive/dataSince20210304/AA0320\n",
      "/media/DATA/backups/sutter2P_backup/D_drive/dataSince20210304/AA0322\n",
      "/media/DATA/backups/sutter2P_backup/D_drive/dataSince20210304/AA0351\n"
     ]
    }
   ],
   "source": [
    "for k,v in compiledData.items():\n",
    "    notdone = []\n",
    "    for el in v:\n",
    "        if el not in standardized:\n",
    "            notdone.append(el)\n",
    "    print(f\"{k}: \\n{\"\\n\".join(notdone)}\")"
   ]
  },
  {
   "cell_type": "code",
   "execution_count": 33,
   "metadata": {},
   "outputs": [
    {
     "data": {
      "text/plain": [
       "['/media/DATA/backups/sutter2P_backup/D_drive/dataSince20210304/AA0304',\n",
       " '/media/DATA/backups/sutter2P_backup/D_drive/dataSince20210304/AA0308',\n",
       " '/media/DATA/backups/sutter2P_backup/D_drive/dataSince20210304/AA0310',\n",
       " '/media/DATA/backups/sutter2P_backup/D_drive/dataSince20210304/AA0312',\n",
       " '/media/DATA/backups/sutter2P_backup/D_drive/dataSince20210304/AA0314',\n",
       " '/media/DATA/backups/sutter2P_backup/D_drive/dataSince20210304/AA0315',\n",
       " '/media/DATA/backups/sutter2P_backup/D_drive/dataSince20210304/AA0318',\n",
       " '/media/DATA/backups/sutter2P_backup/D_drive/dataSince20210304/AA0350',\n",
       " '/media/DATA/backups/sutter2P_backup/D_drive/dataSince20210304/AA0353',\n",
       " '/media/DATA/backups/sutter2P_backup/D_drive/ZnT3_pupil/BIN2/AA0323',\n",
       " '/media/DATA/backups/sutter2P_backup/D_drive/ZnT3_pupil/BIN2/AA0325',\n",
       " '/media/DATA/backups/sutter2P_backup/D_drive/ZnT3_pupil/BIN2/AA0330',\n",
       " '/media/DATA/backups/sutter2P_backup/D_drive/ZnT3_pupil/BIN2/AA0331',\n",
       " '/media/DATA/backups/sutter2P_backup/D_drive/ZnT3_pupil/BIN2/AA0332',\n",
       " '/media/DATA/backups/sutter2P_backup/D_drive/ZnT3_pupil/BIN2/AA0333',\n",
       " '/media/DATA/backups/sutter2P_backup/D_drive/ZnT3_pupil/BIN2/AA0334',\n",
       " '/media/DATA/backups/sutter2P_backup/D_drive/ZnT3_pupil/BIN2/AA0335',\n",
       " '/media/DATA/backups/sutter2P_backup/D_drive/ZnT3_pupil/BIN2/AA0336',\n",
       " '/media/DATA/backups/sutter2P_backup/D_drive/ZnT3_pupil/BIN2/AA0337',\n",
       " '/media/DATA/backups/sutter2P_backup/D_drive/ZnT3_pupil/BIN1/AA0326',\n",
       " '/media/DATA/backups/sutter2P_backup/D_drive/ZnT3_pupil/BIN1/AA0327',\n",
       " '/media/DATA/backups/sutter2P_backup/D_drive/ZnT3_pupil/BIN1/AA0328',\n",
       " '/media/DATA/backups/sutter2P_backup/D_drive/ZnT3_pupil/BIN1/AA0338',\n",
       " '/media/DATA/backups/sutter2P_backup/D_drive/ZnT3_pupil/BIN1/AA0339',\n",
       " '/media/DATA/backups/sutter2P_backup/D_drive/ZnT3_pupil/BIN1/AA0340',\n",
       " '/media/DATA/backups/sutter2P_backup/D_drive/ZnT3_pupil/BIN1/AA0341',\n",
       " '/media/DATA/backups/sutter2P_backup/D_drive/dataSince20210304/AA0317',\n",
       " '/media/DATA/backups/sutter2P_backup/D_drive/dataSince20210304/AA0319',\n",
       " '/media/DATA/backups/sutter2P_backup/D_drive/dataSince20210304/AA0320',\n",
       " '/media/DATA/backups/sutter2P_backup/D_drive/dataSince20210304/AA0322',\n",
       " '/media/DATA/backups/sutter2P_backup/D_drive/dataSince20210304/AA0351']"
      ]
     },
     "execution_count": 33,
     "metadata": {},
     "output_type": "execute_result"
    }
   ],
   "source": [
    "dataPath = \"/media/DATA/backups/sutter2P_backup/D_drive/dataSince20210304\"\n",
    "experiments = [\n",
    "    'AA0317',\n",
    "    'AA0319',\n",
    "    'AA0320',\n",
    "    'AA0322',\n",
    "    'AA0351'\n",
    "]\n",
    "[standardized.append(os.path.join(dataPath,e)) for e in experiments]\n",
    "standardized"
   ]
  },
  {
   "cell_type": "code",
   "execution_count": 34,
   "metadata": {},
   "outputs": [
    {
     "name": "stdout",
     "output_type": "stream",
     "text": [
      "pupil_contrast_ACSF: \n",
      "\n",
      "pupil_contrast_ZnT3WT: \n",
      "\n",
      "pupil_contrast_ZnT3KO: \n",
      "\n",
      "pupilBaseline_vs_evoked: \n",
      "\n",
      "pupilPTinContrast: \n",
      "\n",
      "ZX1_uBasePupilPctMax_wEpoch: \n",
      "\n",
      "ACSF_uBasePupilPctMax_wEpoch: \n",
      "\n"
     ]
    }
   ],
   "source": [
    "for k,v in compiledData.items():\n",
    "    notdone = []\n",
    "    for el in v:\n",
    "        if el not in standardized:\n",
    "            notdone.append(el)\n",
    "    print(f\"{k}: \\n{\"\\n\".join(notdone)}\")"
   ]
  },
  {
   "cell_type": "code",
   "execution_count": 36,
   "metadata": {},
   "outputs": [
    {
     "data": {
      "text/plain": [
       "31"
      ]
     },
     "execution_count": 36,
     "metadata": {},
     "output_type": "execute_result"
    }
   ],
   "source": [
    "len(set(standardized))"
   ]
  },
  {
   "cell_type": "code",
   "execution_count": null,
   "metadata": {},
   "outputs": [],
   "source": []
  },
  {
   "cell_type": "code",
   "execution_count": null,
   "metadata": {},
   "outputs": [],
   "source": []
  }
 ],
 "metadata": {
  "kernelspec": {
   "display_name": "venvNWB",
   "language": "python",
   "name": "python3"
  },
  "language_info": {
   "codemirror_mode": {
    "name": "ipython",
    "version": 3
   },
   "file_extension": ".py",
   "mimetype": "text/x-python",
   "name": "python",
   "nbconvert_exporter": "python",
   "pygments_lexer": "ipython3",
   "version": "3.12.3"
  }
 },
 "nbformat": 4,
 "nbformat_minor": 2
}
